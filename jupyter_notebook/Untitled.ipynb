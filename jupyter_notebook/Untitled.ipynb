{
 "cells": [
  {
   "cell_type": "code",
   "execution_count": 31,
   "metadata": {},
   "outputs": [],
   "source": [
    "class 产品:\n",
    "    def __init__(self,名称,价格,商品编码,库存数量):\n",
    "        self.名称=名称\n",
    "        self.价格=价格\n",
    "        self.商品编码=商品编码\n",
    "        self.库存数量=库存数量\n",
    "    def __str__(self):\n",
    "        return '名称:%s,价格:%s,库存:%s,商品:%s'%(self.名称,self.价格,self.库存数量,self.商品编码)\n"
   ]
  },
  {
   "cell_type": "code",
   "execution_count": 55,
   "metadata": {},
   "outputs": [],
   "source": [
    "class 库存:\n",
    "    库存商品=[]\n",
    "    def 添加(self,添加产品):\n",
    "        还需要再添加=True\n",
    "        if (self.库存商品==[]):\n",
    "            self.库存商品.append(添加产品)\n",
    "        else:\n",
    "            for i in self.库存商品:\n",
    "                if (i.商品编码==添加产品.商品编码):\n",
    "                    i.库存数量=i.库存数量+添加产品.库存数量\n",
    "                    还需要再添加=False\n",
    "                    break\n",
    "            if (还需要再添加):\n",
    "                self.库存商品.append(添加产品)\n",
    "    def 出库(self,出库产品):\n",
    "        flag=True\n",
    "        if (self.库存商品==[]):\n",
    "            print(\"仓库是空的\")\n",
    "        else:\n",
    "            for i in self.库存商品:\n",
    "                if (i.商品编码==出库产品.商品编码):\n",
    "                    if (i.库存数量>=出库产品.库存数量): \n",
    "                        i.库存数量=i.库存数量-出库产品.库存数量 \n",
    "                        flag=False\n",
    "                        break\n",
    "                    else:\n",
    "                        print(\"仓库内产品数量不足\")\n",
    "                        flag=False\n",
    "            if (flag):\n",
    "                print(\"仓库内没有该产品\")\n",
    "    def 输出现有库存状态(self):\n",
    "        for i in self.库存商品:\n",
    "            print(i)"
   ]
  },
  {
   "cell_type": "code",
   "execution_count": 56,
   "metadata": {},
   "outputs": [
    {
     "name": "stdout",
     "output_type": "stream",
     "text": [
      "仓库内产品数量不足\n",
      "名称:鸡翅,价格:7,库存:2000,商品:2\n",
      "名称:腿肉,价格:10,库存:5500,商品:1\n"
     ]
    }
   ],
   "source": [
    "腿肉1=产品(\"腿肉\",10,1,1000)\n",
    "腿肉2=产品(\"腿肉\",10,1,500)\n",
    "腿肉3=产品(\"腿肉\",10,1,4000)\n",
    "腿肉4=产品(\"腿肉\",10,1,9000)\n",
    "鸡翅=产品(\"鸡翅\",7,2,2000)\n",
    "\n",
    "仓库A=库存()\n",
    "仓库A.添加(鸡翅)\n",
    "仓库A.添加(腿肉1)\n",
    "仓库A.添加(腿肉2)\n",
    "仓库A.添加(腿肉3)\n",
    "\n",
    "仓库A.出库(腿肉4)\n",
    "仓库A.输出现有库存状态()"
   ]
  },
  {
   "cell_type": "code",
   "execution_count": null,
   "metadata": {},
   "outputs": [],
   "source": []
  }
 ],
 "metadata": {
  "kernelspec": {
   "display_name": "Python 3",
   "language": "python",
   "name": "python3"
  },
  "language_info": {
   "codemirror_mode": {
    "name": "ipython",
    "version": 3
   },
   "file_extension": ".py",
   "mimetype": "text/x-python",
   "name": "python",
   "nbconvert_exporter": "python",
   "pygments_lexer": "ipython3",
   "version": "3.8.3"
  }
 },
 "nbformat": 4,
 "nbformat_minor": 4
}

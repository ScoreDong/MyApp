{
 "cells": [
  {
   "cell_type": "markdown",
   "metadata": {},
   "source": [
    "我们使用`TensorFlow`和`Keras`分别来实现图像风格迁移，主要用到深度学习中的卷积神经网络，即CNN\n",
    "\n",
    "## 准备\n",
    "\n",
    "### 安装包\n",
    "\n",
    "`pip install numpy scipy tensorflow keras`\n",
    "再准备一些风格图片，和一张内容图片\n",
    "\n",
    "### python版本\n",
    "使用 python3.6，最新的 python3.7由于keras不支持，所以没办法使用\n",
    "\n",
    "## 原理\n",
    "\n",
    "为了将风格图的风格和内容图的内容进行融合，所生成的图片，在内容上应当尽可能接近内容图，在风格上应当尽可能接近风格图\n",
    "\n",
    "因此需要定义内容损失函数和风格损失函数，经过加权后作为总的损失函数\n",
    "\n",
    "### 实现步骤如下\n",
    "\n",
    "- 随机产生一张图片\n",
    "- 在每轮迭代中，根据总的损失函数，调整图片的像素值\n",
    "- 经过多轮迭代，得到优化后的图片"
   ]
  },
  {
   "cell_type": "markdown",
   "metadata": {},
   "source": [
    "# TensorFlow实现\n",
    "\n",
    "## 加载库"
   ]
  },
  {
   "cell_type": "code",
   "execution_count": 1,
   "metadata": {},
   "outputs": [
    {
     "name": "stderr",
     "output_type": "stream",
     "text": [
      "2018-10-25 18:50:41,574 - root - INFO - 2018-10-25 18:50:41\n"
     ]
    }
   ],
   "source": [
    "\n",
    "# 输出靠谱日志必备\n",
    "import logging\n",
    "#是否开启debug？根据事件的轻重可分为以下几个级别：\n",
    "# DEBUG： 详细信息，通常仅在诊断问题时才受到关注。整数level=10\n",
    "# INFO： 确认程序按预期工作。整数level=20\n",
    "# WARNING：出现了异常，但是不影响正常工作.整数level=30\n",
    "# ERROR：由于某些原因，程序 不能执行某些功能。整数level=40\n",
    "# CRITICAL：严重的错误，导致程序不能运行。整数level=50\n",
    "# 默认的级别是WARNING,也就意味着只有级别大于等于的才会被看到，跟踪日志的方式可以是写入到文件中，也可以直接输出到控制台。\n",
    "logging.basicConfig(level=logging.INFO, format='%(asctime)s - %(name)s - %(levelname)s - %(message)s')\n",
    "\n",
    "import tensorflow as tf\n",
    "import numpy as np\n",
    "import scipy.io\n",
    "import scipy.misc\n",
    "import matplotlib.pyplot as plt\n",
    "%matplotlib inline\n",
    "# 读取文件必备\n",
    "import os,sys,time\n",
    "\n",
    "\n",
    "def the_current_time():\n",
    "\tlogging.info(time.strftime(\"%Y-%m-%d %H:%M:%S\", time.localtime(int(time.time()))))\n",
    "the_current_time()\n"
   ]
  },
  {
   "cell_type": "code",
   "execution_count": 2,
   "metadata": {},
   "outputs": [],
   "source": [
    "# 定义一些变量\n",
    "## 图片文件名、路径\n",
    "CONTENT_IMG , STYLE_IMG , OUTPUT_DIR = 'content.jpg', 'style5.jpg', 'neural_style_transfer_tensorflow/'\n",
    "if not os.path.exists(OUTPUT_DIR):\n",
    "\tos.mkdir(OUTPUT_DIR)\n",
    "\n",
    "##  图像大小等\n",
    "IMAGE_W ,IMAGE_H,COLOR_C=640,960,3\n",
    "NOISE_RATIO,BETA,ALPHA,VGG_MODEL,MEAN_VALUES  = 0.7,5,100,'imagenet-vgg-verydeep-19.mat',np.array([123.68, 116.779, 103.939]).reshape((1, 1, 1, 3))"
   ]
  },
  {
   "cell_type": "code",
   "execution_count": 3,
   "metadata": {},
   "outputs": [],
   "source": [
    "# 加载VGG19模型\n",
    "\n",
    "def load_vgg_model(path):\n",
    "\t'''\n",
    "\tDetails of the VGG19 model:\n",
    "\t- 0 is conv1_1 (3, 3, 3, 64)\n",
    "\t- 1 is relu\n",
    "\t- 2 is conv1_2 (3, 3, 64, 64)\n",
    "\t- 3 is relu    \n",
    "\t- 4 is maxpool\n",
    "\t- 5 is conv2_1 (3, 3, 64, 128)\n",
    "\t- 6 is relu\n",
    "\t- 7 is conv2_2 (3, 3, 128, 128)\n",
    "\t- 8 is relu\n",
    "\t- 9 is maxpool\n",
    "\t- 10 is conv3_1 (3, 3, 128, 256)\n",
    "\t- 11 is relu\n",
    "\t- 12 is conv3_2 (3, 3, 256, 256)\n",
    "\t- 13 is relu\n",
    "\t- 14 is conv3_3 (3, 3, 256, 256)\n",
    "\t- 15 is relu\n",
    "\t- 16 is conv3_4 (3, 3, 256, 256)\n",
    "\t- 17 is relu\n",
    "\t- 18 is maxpool\n",
    "\t- 19 is conv4_1 (3, 3, 256, 512)\n",
    "\t- 20 is relu\n",
    "\t- 21 is conv4_2 (3, 3, 512, 512)\n",
    "\t- 22 is relu\n",
    "\t- 23 is conv4_3 (3, 3, 512, 512)\n",
    "\t- 24 is relu\n",
    "\t- 25 is conv4_4 (3, 3, 512, 512)\n",
    "\t- 26 is relu\n",
    "\t- 27 is maxpool\n",
    "\t- 28 is conv5_1 (3, 3, 512, 512)\n",
    "\t- 29 is relu\n",
    "\t- 30 is conv5_2 (3, 3, 512, 512)\n",
    "\t- 31 is relu\n",
    "\t- 32 is conv5_3 (3, 3, 512, 512)\n",
    "\t- 33 is relu\n",
    "\t- 34 is conv5_4 (3, 3, 512, 512)\n",
    "\t- 35 is relu\n",
    "\t- 36 is maxpool\n",
    "\t- 37 is fullyconnected (7, 7, 512, 4096)\n",
    "\t- 38 is relu\n",
    "\t- 39 is fullyconnected (1, 1, 4096, 4096)\n",
    "\t- 40 is relu\n",
    "\t- 41 is fullyconnected (1, 1, 4096, 1000)\n",
    "\t- 42 is softmax\n",
    "\t'''\n",
    "\tvgg = scipy.io.loadmat(path)\n",
    "\tprint((path,\n",
    "                  \"\\n#先显示一下数据类型，发现是dict:type(vgg)\",type(vgg),\n",
    "                  \"\\n#字典就可以打印出键值dict_keys(['__header__', '__version__', '__globals__', 'layers', 'classes', 'normalization'])vgg.keys()\",vgg.keys())\n",
    "                )\n",
    "\tvgg_layers = vgg['layers']\n",
    "\tprint((\"layers = vgg['layers']\",\n",
    "                 \"\\n#打印下layers发现输出一大堆括号，好复杂的样子：[[ array([[ (array([[ array([[[[ ,顶级array有两个[[\\n#所以顶层是两维,每一个维数的元素是array,array内部还有维数\\n#print(layers)\",\n",
    "                  \"\\nvgg_layers.shape:\",vgg_layers.shape,\n",
    "                  \"\\nlayer[0].shape:\",vgg_layers[0].shape,\n",
    "                  \"\\n#layer[0][0].shape: (1,),说明只有一个元素\",\n",
    "                  \"\\nlayer[0][0].shape:\",vgg_layers[0][0].shape,\n",
    "                  \"\\n#layer[0][0][0].shape: (1,),说明只有一个元素\",\n",
    "                  \"\\nlayer[0][0][0].shape:\",vgg_layers[0][0][0].shape,\n",
    "                  \"\\n#len(layer[0][0]):5，即weight(含有bias), pad(填充元素,无用), type, name, stride信息\",\n",
    "                  \"\\nlen(layer[0][0][0]):\",len(vgg_layers[0][0][0]),\n",
    "                  \"\\n#所以应该能按照如下方式拿到信息，比如说name，输出为['conv1_1']\",\n",
    "                  \"\\nname:\",vgg_layers[0][0][0][0][0][0],\n",
    "                  \"\\n#查看一下weights的权重，输出(1,2),再次说明第一维是虚的,weights中包含了weight和bias\",\n",
    "                  \"\\nlayer[0][0][0][0].shape\",vgg_layers[0][0][0][0].shape,\n",
    "                  \"\\nlayer[0][0][0][0].len\",len(vgg_layers[0][0][0][0]),\n",
    "                  \"\\n#weights[0].shape: (2,),weights[0].len: 2说明两个元素就是weight和bias\",\n",
    "                  \"\\nlayer[0][0][0][0][0].shape:\",vgg_layers[0][0][0][0][0].shape,\n",
    "                  \"\\nlayer[0][0][0][0].len:\",len(vgg_layers[0][0][0][0][0]),\n",
    "                  \"\\nlayer[0][0][0][0][0]\",vgg_layers[0][0][0][0][0],\n",
    "                  \"\\n#解析出weight和bias\"\n",
    "                ))\n",
    "\n",
    "\tdef _weights(layer, expected_layer_name):\n",
    "\t\tW = vgg_layers[0][layer][0][0][2][0][0]\n",
    "\t\tb = vgg_layers[0][layer][0][0][2][0][1]\n",
    "\t\tlayer_name = vgg_layers[0][layer][0][0][0][0]\n",
    "\t\tassert layer_name == expected_layer_name\n",
    "\t\treturn W, b\n",
    "\n",
    "\tdef _conv2d_relu(prev_layer, layer, layer_name):\n",
    "\t\tW, b = _weights(layer, layer_name)\n",
    "\t\tW = tf.constant(W)\n",
    "\t\tb = tf.constant(np.reshape(b, (b.size)))\n",
    "\t\treturn tf.nn.relu(tf.nn.conv2d(prev_layer, filter=W, strides=[1, 1, 1, 1], padding='SAME') + b)\n",
    "\n",
    "\tdef _avgpool(prev_layer):\n",
    "\t\treturn tf.nn.avg_pool(prev_layer, ksize=[1, 2, 2, 1], strides=[1, 2, 2, 1], padding='SAME')\n",
    "\n",
    "\tgraph = {}\n",
    "\tgraph['input']    = tf.Variable(np.zeros((1, IMAGE_H, IMAGE_W, COLOR_C)), dtype='float32')\n",
    "\tgraph['conv1_1']  = _conv2d_relu(graph['input'], 0, 'conv1_1')\n",
    "\tgraph['conv1_2']  = _conv2d_relu(graph['conv1_1'], 2, 'conv1_2')\n",
    "\tgraph['avgpool1'] = _avgpool(graph['conv1_2'])\n",
    "\tgraph['conv2_1']  = _conv2d_relu(graph['avgpool1'], 5, 'conv2_1')\n",
    "\tgraph['conv2_2']  = _conv2d_relu(graph['conv2_1'], 7, 'conv2_2')\n",
    "\tgraph['avgpool2'] = _avgpool(graph['conv2_2'])\n",
    "\tgraph['conv3_1']  = _conv2d_relu(graph['avgpool2'], 10, 'conv3_1')\n",
    "\tgraph['conv3_2']  = _conv2d_relu(graph['conv3_1'], 12, 'conv3_2')\n",
    "\tgraph['conv3_3']  = _conv2d_relu(graph['conv3_2'], 14, 'conv3_3')\n",
    "\tgraph['conv3_4']  = _conv2d_relu(graph['conv3_3'], 16, 'conv3_4')\n",
    "\tgraph['avgpool3'] = _avgpool(graph['conv3_4'])\n",
    "\tgraph['conv4_1']  = _conv2d_relu(graph['avgpool3'], 19, 'conv4_1')\n",
    "\tgraph['conv4_2']  = _conv2d_relu(graph['conv4_1'], 21, 'conv4_2')\n",
    "\tgraph['conv4_3']  = _conv2d_relu(graph['conv4_2'], 23, 'conv4_3')\n",
    "\tgraph['conv4_4']  = _conv2d_relu(graph['conv4_3'], 25, 'conv4_4')\n",
    "\tgraph['avgpool4'] = _avgpool(graph['conv4_4'])\n",
    "\tgraph['conv5_1']  = _conv2d_relu(graph['avgpool4'], 28, 'conv5_1')\n",
    "\tgraph['conv5_2']  = _conv2d_relu(graph['conv5_1'], 30, 'conv5_2')\n",
    "\tgraph['conv5_3']  = _conv2d_relu(graph['conv5_2'], 32, 'conv5_3')\n",
    "\tgraph['conv5_4']  = _conv2d_relu(graph['conv5_3'], 34, 'conv5_4')\n",
    "\tgraph['avgpool5'] = _avgpool(graph['conv5_4'])\n",
    "\treturn graph\n",
    "\n",
    "# 内容损失函数\n",
    "\n",
    "def content_loss_func(sess, model):\n",
    "\tdef _content_loss(p, x):\n",
    "\t\tN = p.shape[3]\n",
    "\t\tM = p.shape[1] * p.shape[2]\n",
    "\t\treturn (1 / (4 * N * M)) * tf.reduce_sum(tf.pow(x - p, 2))\n",
    "\treturn _content_loss(sess.run(model['conv4_2']), model['conv4_2'])\n",
    "\n",
    "# 风格损失函数\n",
    "\n",
    "STYLE_LAYERS = [('conv1_1', 0.5), ('conv2_1', 1.0), ('conv3_1', 1.5), ('conv4_1', 3.0), ('conv5_1', 4.0)]\n",
    "\n",
    "def style_loss_func(sess, model):\n",
    "\tdef _gram_matrix(F, N, M):\n",
    "\t\tFt = tf.reshape(F, (M, N))\n",
    "\t\treturn tf.matmul(tf.transpose(Ft), Ft)\n",
    "\n",
    "\tdef _style_loss(a, x):\n",
    "\t\tN = a.shape[3]\n",
    "\t\tM = a.shape[1] * a.shape[2]\n",
    "\t\tA = _gram_matrix(a, N, M)\n",
    "\t\tG = _gram_matrix(x, N, M)\n",
    "\t\treturn (1 / (4 * N ** 2 * M ** 2)) * tf.reduce_sum(tf.pow(G - A, 2))\n",
    "\treturn sum([_style_loss(sess.run(model[layer_name]), model[layer_name]) * w for layer_name, w in STYLE_LAYERS])\n",
    "\n",
    "# 随机产生一张初始图片，说白了就是图片加噪点，调参选择只调一点点试试看\n",
    "\n",
    "def generate_noise_image(content_image, noise_ratio=NOISE_RATIO):\n",
    "\tnoise_image = np.random.uniform(-11, 11, (1, IMAGE_H, IMAGE_W, COLOR_C)).astype('float32')\n",
    "\tinput_image = noise_image * noise_ratio + content_image * (1 - noise_ratio)\n",
    "\treturn input_image\n",
    "\n",
    "# 加载图片\n",
    "\n",
    "def load_image(path):\n",
    "\timage = scipy.misc.imread(path)\n",
    "\timage = scipy.misc.imresize(image, (IMAGE_H, IMAGE_W))\n",
    "\timage = np.reshape(image, ((1, ) + image.shape))\n",
    "\timage = image - MEAN_VALUES\n",
    "\treturn image\n",
    "\n",
    "# 保存图片\n",
    "\n",
    "def save_image(path, image):\n",
    "\timage = image + MEAN_VALUES\n",
    "\timage = image[0]\n",
    "\timage = np.clip(image, 0, 255).astype('uint8')\n",
    "\tscipy.misc.imsave(path, image)\n",
    "\t# logging.info(\"输出图片\")\n",
    "\t# plt.imshow(image)\n",
    "\t# plt.axis('off')"
   ]
  },
  {
   "cell_type": "code",
   "execution_count": 4,
   "metadata": {
    "scrolled": true
   },
   "outputs": [
    {
     "name": "stderr",
     "output_type": "stream",
     "text": [
      "2018-10-25 18:50:41,698 - root - INFO - 2018-10-25 18:50:41\n",
      "2018-10-25 18:50:41,700 - root - INFO - 准备载入神经网络\n",
      "/Library/Frameworks/Python.framework/Versions/3.6/lib/python3.6/site-packages/ipykernel_launcher.py:155: DeprecationWarning: `imread` is deprecated!\n",
      "`imread` is deprecated in SciPy 1.0.0, and will be removed in 1.2.0.\n",
      "Use ``imageio.imread`` instead.\n",
      "/Library/Frameworks/Python.framework/Versions/3.6/lib/python3.6/site-packages/ipykernel_launcher.py:156: DeprecationWarning: `imresize` is deprecated!\n",
      "`imresize` is deprecated in SciPy 1.0.0, and will be removed in 1.2.0.\n",
      "Use ``skimage.transform.resize`` instead.\n"
     ]
    },
    {
     "name": "stdout",
     "output_type": "stream",
     "text": [
      "('imagenet-vgg-verydeep-19.mat', '\\n#先显示一下数据类型，发现是dict:type(vgg)', <class 'dict'>, \"\\n#字典就可以打印出键值dict_keys(['__header__', '__version__', '__globals__', 'layers', 'classes', 'normalization'])vgg.keys()\", dict_keys(['__header__', '__version__', '__globals__', 'layers', 'meta']))\n",
      "(\"layers = vgg['layers']\", '\\n#打印下layers发现输出一大堆括号，好复杂的样子：[[ array([[ (array([[ array([[[[ ,顶级array有两个[[\\n#所以顶层是两维,每一个维数的元素是array,array内部还有维数\\n#print(layers)', '\\nvgg_layers.shape:', (1, 43), '\\nlayer[0].shape:', (43,), '\\n#layer[0][0].shape: (1,),说明只有一个元素', '\\nlayer[0][0].shape:', (1, 1), '\\n#layer[0][0][0].shape: (1,),说明只有一个元素', '\\nlayer[0][0][0].shape:', (1,), '\\n#len(layer[0][0]):5，即weight(含有bias), pad(填充元素,无用), type, name, stride信息', '\\nlen(layer[0][0][0]):', 1, \"\\n#所以应该能按照如下方式拿到信息，比如说name，输出为['conv1_1']\", '\\nname:', 'conv1_1', '\\n#查看一下weights的权重，输出(1,2),再次说明第一维是虚的,weights中包含了weight和bias', '\\nlayer[0][0][0][0].shape', (), '\\nlayer[0][0][0][0].len', 9, '\\n#weights[0].shape: (2,),weights[0].len: 2说明两个元素就是weight和bias', '\\nlayer[0][0][0][0][0].shape:', (1,), '\\nlayer[0][0][0][0].len:', 1, '\\nlayer[0][0][0][0][0]', array(['conv1_1'], dtype='<U7'), '\\n#解析出weight和bias')\n"
     ]
    },
    {
     "name": "stderr",
     "output_type": "stream",
     "text": [
      "2018-10-25 18:50:51,009 - root - INFO - VGG_MODEL模型读取 OK\n",
      "2018-10-25 18:51:49,854 - root - INFO - 开始干活，神经网络开搞\n",
      "2018-10-25 18:51:49,855 - root - INFO - 循环训练次数：Iteration 0\n"
     ]
    },
    {
     "name": "stdout",
     "output_type": "stream",
     "text": [
      "输出图片：循环训练次数：Iteration 0\n"
     ]
    },
    {
     "name": "stderr",
     "output_type": "stream",
     "text": [
      "2018-10-25 18:53:43,351 - root - INFO - ('Cost: ', 452874830000.0)\n",
      "/Library/Frameworks/Python.framework/Versions/3.6/lib/python3.6/site-packages/ipykernel_launcher.py:167: DeprecationWarning: `imsave` is deprecated!\n",
      "`imsave` is deprecated in SciPy 1.0.0, and will be removed in 1.2.0.\n",
      "Use ``imageio.imwrite`` instead.\n",
      "2018-10-25 18:53:43,457 - root - INFO - 循环训练次数：Iteration 1\n",
      "2018-10-25 18:54:11,034 - root - INFO - 循环训练次数：Iteration 2\n",
      "2018-10-25 18:54:36,035 - root - INFO - 循环训练次数：Iteration 3\n",
      "2018-10-25 18:55:00,563 - root - INFO - 循环训练次数：Iteration 4\n",
      "2018-10-25 18:55:24,023 - root - INFO - 循环训练次数：Iteration 5\n",
      "2018-10-25 18:55:48,786 - root - INFO - 循环训练次数：Iteration 6\n",
      "2018-10-25 18:56:13,556 - root - INFO - 循环训练次数：Iteration 7\n",
      "2018-10-25 18:56:39,862 - root - INFO - 循环训练次数：Iteration 8\n",
      "2018-10-25 18:57:09,421 - root - INFO - 循环训练次数：Iteration 9\n",
      "2018-10-25 18:57:34,554 - root - INFO - 循环训练次数：Iteration 10\n",
      "2018-10-25 18:57:59,675 - root - INFO - 循环训练次数：Iteration 11\n",
      "2018-10-25 18:58:23,233 - root - INFO - 循环训练次数：Iteration 12\n",
      "2018-10-25 18:58:46,608 - root - INFO - 循环训练次数：Iteration 13\n",
      "2018-10-25 18:59:14,153 - root - INFO - 循环训练次数：Iteration 14\n",
      "2018-10-25 18:59:36,864 - root - INFO - 循环训练次数：Iteration 15\n",
      "2018-10-25 18:59:59,577 - root - INFO - 循环训练次数：Iteration 16\n",
      "2018-10-25 19:00:22,595 - root - INFO - 循环训练次数：Iteration 17\n",
      "2018-10-25 19:00:44,500 - root - INFO - 循环训练次数：Iteration 18\n",
      "2018-10-25 19:01:06,735 - root - INFO - 循环训练次数：Iteration 19\n"
     ]
    },
    {
     "name": "stdout",
     "output_type": "stream",
     "text": [
      "输出图片：循环训练次数：Iteration 19\n"
     ]
    },
    {
     "name": "stderr",
     "output_type": "stream",
     "text": [
      "2018-10-25 19:01:36,946 - root - INFO - ('Cost: ', 188288300000.0)\n",
      "2018-10-25 19:01:37,026 - root - INFO - 循环训练次数：Iteration 20\n",
      "2018-10-25 19:02:02,555 - root - INFO - 循环训练次数：Iteration 21\n",
      "2018-10-25 19:02:27,739 - root - INFO - 循环训练次数：Iteration 22\n",
      "2018-10-25 19:02:50,658 - root - INFO - 循环训练次数：Iteration 23\n",
      "2018-10-25 19:03:12,954 - root - INFO - 循环训练次数：Iteration 24\n",
      "2018-10-25 19:03:39,654 - root - INFO - 循环训练次数：Iteration 25\n",
      "2018-10-25 19:04:06,926 - root - INFO - 循环训练次数：Iteration 26\n",
      "2018-10-25 19:04:33,822 - root - INFO - 循环训练次数：Iteration 27\n",
      "2018-10-25 19:04:57,993 - root - INFO - 循环训练次数：Iteration 28\n",
      "2018-10-25 19:05:21,818 - root - INFO - 循环训练次数：Iteration 29\n",
      "2018-10-25 19:05:45,336 - root - INFO - 循环训练次数：Iteration 30\n",
      "2018-10-25 19:06:10,284 - root - INFO - 循环训练次数：Iteration 31\n",
      "2018-10-25 19:06:36,518 - root - INFO - 循环训练次数：Iteration 32\n",
      "2018-10-25 19:07:04,585 - root - INFO - 循环训练次数：Iteration 33\n",
      "2018-10-25 19:07:30,393 - root - INFO - 循环训练次数：Iteration 34\n",
      "2018-10-25 19:07:56,630 - root - INFO - 循环训练次数：Iteration 35\n",
      "2018-10-25 19:08:22,888 - root - INFO - 循环训练次数：Iteration 36\n",
      "2018-10-25 19:08:46,861 - root - INFO - 循环训练次数：Iteration 37\n",
      "2018-10-25 19:09:09,733 - root - INFO - 循环训练次数：Iteration 38\n"
     ]
    },
    {
     "name": "stdout",
     "output_type": "stream",
     "text": [
      "输出图片：循环训练次数：Iteration 38\n"
     ]
    },
    {
     "name": "stderr",
     "output_type": "stream",
     "text": [
      "2018-10-25 19:09:47,710 - root - INFO - ('Cost: ', 107553284000.0)\n",
      "2018-10-25 19:09:47,805 - root - INFO - 循环训练次数：Iteration 39\n",
      "2018-10-25 19:10:12,701 - root - INFO - 循环训练次数：Iteration 40\n",
      "2018-10-25 19:10:34,533 - root - INFO - 循环训练次数：Iteration 41\n",
      "2018-10-25 19:10:55,940 - root - INFO - 循环训练次数：Iteration 42\n",
      "2018-10-25 19:11:17,659 - root - INFO - 循环训练次数：Iteration 43\n",
      "2018-10-25 19:11:41,514 - root - INFO - 循环训练次数：Iteration 44\n",
      "2018-10-25 19:12:04,751 - root - INFO - 循环训练次数：Iteration 45\n",
      "2018-10-25 19:12:26,119 - root - INFO - 循环训练次数：Iteration 46\n",
      "2018-10-25 19:12:48,645 - root - INFO - 循环训练次数：Iteration 47\n",
      "2018-10-25 19:13:09,007 - root - INFO - 循环训练次数：Iteration 48\n",
      "2018-10-25 19:13:31,436 - root - INFO - 循环训练次数：Iteration 49\n",
      "2018-10-25 19:13:52,225 - root - INFO - 循环训练次数：Iteration 50\n",
      "2018-10-25 19:14:18,844 - root - INFO - 循环训练次数：Iteration 51\n",
      "2018-10-25 19:14:44,452 - root - INFO - 循环训练次数：Iteration 52\n",
      "2018-10-25 19:15:10,266 - root - INFO - 循环训练次数：Iteration 53\n",
      "2018-10-25 19:15:44,304 - root - INFO - 循环训练次数：Iteration 54\n",
      "2018-10-25 19:16:09,668 - root - INFO - 循环训练次数：Iteration 55\n",
      "2018-10-25 19:16:33,707 - root - INFO - 循环训练次数：Iteration 56\n",
      "2018-10-25 19:16:57,888 - root - INFO - 循环训练次数：Iteration 57\n"
     ]
    },
    {
     "name": "stdout",
     "output_type": "stream",
     "text": [
      "输出图片：循环训练次数：Iteration 57\n"
     ]
    },
    {
     "name": "stderr",
     "output_type": "stream",
     "text": [
      "2018-10-25 19:17:27,880 - root - INFO - ('Cost: ', 71583924000.0)\n",
      "2018-10-25 19:17:27,965 - root - INFO - 循环训练次数：Iteration 58\n",
      "2018-10-25 19:17:52,958 - root - INFO - 循环训练次数：Iteration 59\n",
      "2018-10-25 19:18:17,887 - root - INFO - 循环训练次数：Iteration 60\n",
      "2018-10-25 19:18:44,349 - root - INFO - 循环训练次数：Iteration 61\n",
      "2018-10-25 19:19:12,880 - root - INFO - 循环训练次数：Iteration 62\n",
      "2018-10-25 19:24:47,196 - root - INFO - 循环训练次数：Iteration 63\n",
      "2018-10-25 19:25:06,846 - root - INFO - 循环训练次数：Iteration 64\n",
      "2018-10-25 19:25:27,967 - root - INFO - 循环训练次数：Iteration 65\n",
      "2018-10-25 19:34:02,458 - root - INFO - 循环训练次数：Iteration 66\n",
      "2018-10-25 19:34:23,957 - root - INFO - 循环训练次数：Iteration 67\n",
      "2018-10-25 19:42:59,486 - root - INFO - 循环训练次数：Iteration 68\n",
      "2018-10-25 19:43:22,433 - root - INFO - 循环训练次数：Iteration 69\n",
      "2018-10-25 19:51:58,193 - root - INFO - 循环训练次数：Iteration 70\n",
      "2018-10-25 19:52:23,833 - root - INFO - 循环训练次数：Iteration 71\n",
      "2018-10-25 19:52:45,772 - root - INFO - 循环训练次数：Iteration 72\n",
      "2018-10-25 19:53:08,551 - root - INFO - 循环训练次数：Iteration 73\n",
      "2018-10-25 19:53:33,349 - root - INFO - 循环训练次数：Iteration 74\n",
      "2018-10-25 19:53:59,114 - root - INFO - 循环训练次数：Iteration 75\n",
      "2018-10-25 19:54:23,404 - root - INFO - 循环训练次数：Iteration 76\n"
     ]
    },
    {
     "name": "stdout",
     "output_type": "stream",
     "text": [
      "输出图片：循环训练次数：Iteration 76\n"
     ]
    },
    {
     "name": "stderr",
     "output_type": "stream",
     "text": [
      "2018-10-25 19:55:02,125 - root - INFO - ('Cost: ', 53472630000.0)\n",
      "2018-10-25 19:55:02,250 - root - INFO - 循环训练次数：Iteration 77\n",
      "2018-10-25 19:55:30,563 - root - INFO - 循环训练次数：Iteration 78\n",
      "2018-10-25 19:55:58,758 - root - INFO - 循环训练次数：Iteration 79\n",
      "2018-10-25 19:56:33,121 - root - INFO - 循环训练次数：Iteration 80\n",
      "2018-10-25 19:57:06,057 - root - INFO - 循环训练次数：Iteration 81\n",
      "2018-10-25 19:57:45,021 - root - INFO - 循环训练次数：Iteration 82\n",
      "2018-10-25 19:58:20,968 - root - INFO - 循环训练次数：Iteration 83\n",
      "2018-10-25 19:59:00,550 - root - INFO - 循环训练次数：Iteration 84\n",
      "2018-10-25 19:59:37,573 - root - INFO - 循环训练次数：Iteration 85\n",
      "2018-10-25 20:00:21,021 - root - INFO - 循环训练次数：Iteration 86\n",
      "2018-10-25 20:00:59,274 - root - INFO - 循环训练次数：Iteration 87\n",
      "2018-10-25 20:01:42,481 - root - INFO - 循环训练次数：Iteration 88\n",
      "2018-10-25 20:02:28,611 - root - INFO - 循环训练次数：Iteration 89\n",
      "2018-10-25 20:03:12,211 - root - INFO - 循环训练次数：Iteration 90\n",
      "2018-10-25 20:03:52,286 - root - INFO - 循环训练次数：Iteration 91\n",
      "2018-10-25 20:04:39,965 - root - INFO - 循环训练次数：Iteration 92\n",
      "2018-10-25 20:05:22,501 - root - INFO - 循环训练次数：Iteration 93\n",
      "2018-10-25 20:06:11,285 - root - INFO - 循环训练次数：Iteration 94\n",
      "2018-10-25 20:06:55,296 - root - INFO - 循环训练次数：Iteration 95\n"
     ]
    },
    {
     "name": "stdout",
     "output_type": "stream",
     "text": [
      "输出图片：循环训练次数：Iteration 95\n"
     ]
    },
    {
     "name": "stderr",
     "output_type": "stream",
     "text": [
      "2018-10-25 20:08:01,634 - root - INFO - ('Cost: ', 43289534000.0)\n",
      "2018-10-25 20:08:01,830 - root - INFO - 循环训练次数：Iteration 96\n",
      "2018-10-25 20:08:49,069 - root - INFO - 循环训练次数：Iteration 97\n",
      "2018-10-25 20:09:33,031 - root - INFO - 循环训练次数：Iteration 98\n",
      "2018-10-25 20:10:16,701 - root - INFO - 循环训练次数：Iteration 99\n",
      "2018-10-25 20:11:04,792 - root - INFO - 循环训练次数：Iteration 100\n",
      "2018-10-25 20:11:47,594 - root - INFO - 循环训练次数：Iteration 101\n",
      "2018-10-25 20:12:33,180 - root - INFO - 循环训练次数：Iteration 102\n",
      "2018-10-25 20:13:16,927 - root - INFO - 循环训练次数：Iteration 103\n",
      "2018-10-25 20:14:03,613 - root - INFO - 循环训练次数：Iteration 104\n",
      "2018-10-25 20:14:46,937 - root - INFO - 循环训练次数：Iteration 105\n",
      "2018-10-25 20:15:34,743 - root - INFO - 循环训练次数：Iteration 106\n",
      "2018-10-25 20:16:23,822 - root - INFO - 循环训练次数：Iteration 107\n",
      "2018-10-25 20:17:16,748 - root - INFO - 循环训练次数：Iteration 108\n",
      "2018-10-25 20:18:11,864 - root - INFO - 循环训练次数：Iteration 109\n",
      "2018-10-25 20:19:05,342 - root - INFO - 循环训练次数：Iteration 110\n",
      "2018-10-25 20:19:52,832 - root - INFO - 循环训练次数：Iteration 111\n",
      "2018-10-25 20:20:39,598 - root - INFO - 循环训练次数：Iteration 112\n",
      "2018-10-25 20:21:25,792 - root - INFO - 循环训练次数：Iteration 113\n",
      "2018-10-25 20:22:17,420 - root - INFO - 循环训练次数：Iteration 114\n"
     ]
    },
    {
     "name": "stdout",
     "output_type": "stream",
     "text": [
      "输出图片：循环训练次数：Iteration 114\n"
     ]
    },
    {
     "name": "stderr",
     "output_type": "stream",
     "text": [
      "2018-10-25 20:23:27,555 - root - INFO - ('Cost: ', 36799873000.0)\n",
      "2018-10-25 20:23:27,779 - root - INFO - 循环训练次数：Iteration 115\n",
      "2018-10-25 20:24:20,254 - root - INFO - 循环训练次数：Iteration 116\n",
      "2018-10-25 20:25:06,648 - root - INFO - 循环训练次数：Iteration 117\n",
      "2018-10-25 20:25:58,327 - root - INFO - 循环训练次数：Iteration 118\n",
      "2018-10-25 20:26:46,632 - root - INFO - 循环训练次数：Iteration 119\n",
      "2018-10-25 20:27:35,494 - root - INFO - 循环训练次数：Iteration 120\n",
      "2018-10-25 20:28:18,636 - root - INFO - 循环训练次数：Iteration 121\n",
      "2018-10-25 20:29:09,615 - root - INFO - 循环训练次数：Iteration 122\n",
      "2018-10-25 20:29:54,212 - root - INFO - 循环训练次数：Iteration 123\n",
      "2018-10-25 20:30:44,130 - root - INFO - 循环训练次数：Iteration 124\n",
      "2018-10-25 20:31:30,931 - root - INFO - 循环训练次数：Iteration 125\n",
      "2018-10-25 20:32:22,060 - root - INFO - 循环训练次数：Iteration 126\n",
      "2018-10-25 20:33:10,721 - root - INFO - 循环训练次数：Iteration 127\n",
      "2018-10-25 20:33:59,718 - root - INFO - 循环训练次数：Iteration 128\n",
      "2018-10-25 20:34:45,843 - root - INFO - 循环训练次数：Iteration 129\n",
      "2018-10-25 20:35:32,107 - root - INFO - 循环训练次数：Iteration 130\n",
      "2018-10-25 20:36:22,123 - root - INFO - 循环训练次数：Iteration 131\n",
      "2018-10-25 20:37:06,367 - root - INFO - 循环训练次数：Iteration 132\n",
      "2018-10-25 20:37:54,367 - root - INFO - 循环训练次数：Iteration 133\n"
     ]
    },
    {
     "name": "stdout",
     "output_type": "stream",
     "text": [
      "输出图片：循环训练次数：Iteration 133\n"
     ]
    },
    {
     "name": "stderr",
     "output_type": "stream",
     "text": [
      "2018-10-25 20:39:02,009 - root - INFO - ('Cost: ', 32203846000.0)\n",
      "2018-10-25 20:39:02,207 - root - INFO - 循环训练次数：Iteration 134\n",
      "2018-10-25 20:39:49,672 - root - INFO - 循环训练次数：Iteration 135\n",
      "2018-10-25 20:40:32,424 - root - INFO - 循环训练次数：Iteration 136\n",
      "2018-10-25 20:41:18,455 - root - INFO - 循环训练次数：Iteration 137\n",
      "2018-10-25 20:42:06,941 - root - INFO - 循环训练次数：Iteration 138\n",
      "2018-10-25 20:42:58,538 - root - INFO - 循环训练次数：Iteration 139\n",
      "2018-10-25 20:43:54,050 - root - INFO - 循环训练次数：Iteration 140\n",
      "2018-10-25 20:44:46,013 - root - INFO - 循环训练次数：Iteration 141\n",
      "2018-10-25 20:45:38,436 - root - INFO - 循环训练次数：Iteration 142\n",
      "2018-10-25 20:46:31,964 - root - INFO - 循环训练次数：Iteration 143\n",
      "2018-10-25 20:47:25,802 - root - INFO - 循环训练次数：Iteration 144\n",
      "2018-10-25 20:48:14,144 - root - INFO - 循环训练次数：Iteration 145\n",
      "2018-10-25 20:49:09,398 - root - INFO - 循环训练次数：Iteration 146\n",
      "2018-10-25 20:49:57,869 - root - INFO - 循环训练次数：Iteration 147\n",
      "2018-10-25 20:50:52,587 - root - INFO - 循环训练次数：Iteration 148\n",
      "2018-10-25 20:51:46,171 - root - INFO - 循环训练次数：Iteration 149\n",
      "2018-10-25 20:52:39,428 - root - INFO - 循环训练次数：Iteration 150\n",
      "2018-10-25 20:53:28,263 - root - INFO - 循环训练次数：Iteration 151\n",
      "2018-10-25 20:54:22,681 - root - INFO - 循环训练次数：Iteration 152\n"
     ]
    },
    {
     "name": "stdout",
     "output_type": "stream",
     "text": [
      "输出图片：循环训练次数：Iteration 152\n"
     ]
    },
    {
     "name": "stderr",
     "output_type": "stream",
     "text": [
      "2018-10-25 20:55:33,261 - root - INFO - ('Cost: ', 28729784000.0)\n",
      "2018-10-25 20:55:33,503 - root - INFO - 循环训练次数：Iteration 153\n",
      "2018-10-25 20:56:27,722 - root - INFO - 循环训练次数：Iteration 154\n",
      "2018-10-25 20:57:15,816 - root - INFO - 循环训练次数：Iteration 155\n",
      "2018-10-25 20:58:04,437 - root - INFO - 循环训练次数：Iteration 156\n",
      "2018-10-25 20:58:59,198 - root - INFO - 循环训练次数：Iteration 157\n",
      "2018-10-25 20:59:47,113 - root - INFO - 循环训练次数：Iteration 158\n",
      "2018-10-25 21:00:39,640 - root - INFO - 循环训练次数：Iteration 159\n",
      "2018-10-25 21:01:28,170 - root - INFO - 循环训练次数：Iteration 160\n",
      "2018-10-25 21:02:21,826 - root - INFO - 循环训练次数：Iteration 161\n",
      "2018-10-25 21:03:10,795 - root - INFO - 循环训练次数：Iteration 162\n",
      "2018-10-25 21:04:06,170 - root - INFO - 循环训练次数：Iteration 163\n",
      "2018-10-25 21:04:55,404 - root - INFO - 循环训练次数：Iteration 164\n",
      "2018-10-25 21:05:47,274 - root - INFO - 循环训练次数：Iteration 165\n",
      "2018-10-25 21:06:39,026 - root - INFO - 循环训练次数：Iteration 166\n",
      "2018-10-25 21:07:31,670 - root - INFO - 循环训练次数：Iteration 167\n",
      "2018-10-25 21:08:25,757 - root - INFO - 循环训练次数：Iteration 168\n",
      "2018-10-25 21:09:15,228 - root - INFO - 循环训练次数：Iteration 169\n",
      "2018-10-25 21:10:08,677 - root - INFO - 循环训练次数：Iteration 170\n",
      "2018-10-25 21:10:58,170 - root - INFO - 循环训练次数：Iteration 171\n"
     ]
    },
    {
     "name": "stdout",
     "output_type": "stream",
     "text": [
      "输出图片：循环训练次数：Iteration 171\n"
     ]
    },
    {
     "name": "stderr",
     "output_type": "stream",
     "text": [
      "2018-10-25 21:12:13,985 - root - INFO - ('Cost: ', 25953618000.0)\n",
      "2018-10-25 21:12:14,209 - root - INFO - 循环训练次数：Iteration 172\n",
      "2018-10-25 21:13:08,531 - root - INFO - 循环训练次数：Iteration 173\n",
      "2018-10-25 21:13:57,309 - root - INFO - 循环训练次数：Iteration 174\n",
      "2018-10-25 21:14:45,501 - root - INFO - 循环训练次数：Iteration 175\n",
      "2018-10-25 21:15:39,228 - root - INFO - 循环训练次数：Iteration 176\n",
      "2018-10-25 21:16:28,433 - root - INFO - 循环训练次数：Iteration 177\n",
      "2018-10-25 21:17:23,683 - root - INFO - 循环训练次数：Iteration 178\n",
      "2018-10-25 21:18:22,177 - root - INFO - 循环训练次数：Iteration 179\n",
      "2018-10-25 21:19:10,768 - root - INFO - 循环训练次数：Iteration 180\n",
      "2018-10-25 21:20:02,713 - root - INFO - 循环训练次数：Iteration 181\n",
      "2018-10-25 21:20:50,715 - root - INFO - 循环训练次数：Iteration 182\n",
      "2018-10-25 21:21:43,918 - root - INFO - 循环训练次数：Iteration 183\n",
      "2018-10-25 21:22:32,512 - root - INFO - 循环训练次数：Iteration 184\n",
      "2018-10-25 21:23:25,030 - root - INFO - 循环训练次数：Iteration 185\n",
      "2018-10-25 21:24:11,913 - root - INFO - 循环训练次数：Iteration 186\n",
      "2018-10-25 21:25:00,073 - root - INFO - 循环训练次数：Iteration 187\n",
      "2018-10-25 21:25:49,993 - root - INFO - 循环训练次数：Iteration 188\n",
      "2018-10-25 21:26:37,701 - root - INFO - 循环训练次数：Iteration 189\n",
      "2018-10-25 21:27:29,347 - root - INFO - 循环训练次数：Iteration 190\n"
     ]
    },
    {
     "name": "stdout",
     "output_type": "stream",
     "text": [
      "输出图片：循环训练次数：Iteration 190\n"
     ]
    },
    {
     "name": "stderr",
     "output_type": "stream",
     "text": [
      "2018-10-25 21:28:39,209 - root - INFO - ('Cost: ', 23653183000.0)\n",
      "2018-10-25 21:28:39,442 - root - INFO - 循环训练次数：Iteration 191\n",
      "2018-10-25 21:29:32,053 - root - INFO - 循环训练次数：Iteration 192\n",
      "2018-10-25 21:30:19,994 - root - INFO - 循环训练次数：Iteration 193\n",
      "2018-10-25 21:31:12,117 - root - INFO - 循环训练次数：Iteration 194\n",
      "2018-10-25 21:32:00,937 - root - INFO - 循环训练次数：Iteration 195\n",
      "2018-10-25 21:32:54,496 - root - INFO - 循环训练次数：Iteration 196\n",
      "2018-10-25 21:33:40,969 - root - INFO - 循环训练次数：Iteration 197\n",
      "2018-10-25 21:34:34,529 - root - INFO - 循环训练次数：Iteration 198\n",
      "2018-10-25 21:35:21,988 - root - INFO - 循环训练次数：Iteration 199\n",
      "2018-10-25 21:36:13,611 - root - INFO - 循环训练次数：Iteration 200\n",
      "2018-10-25 21:37:00,658 - root - INFO - 循环训练次数：Iteration 201\n",
      "2018-10-25 21:37:53,038 - root - INFO - 循环训练次数：Iteration 202\n",
      "2018-10-25 21:38:36,435 - root - INFO - 循环训练次数：Iteration 203\n",
      "2018-10-25 21:39:23,902 - root - INFO - 循环训练次数：Iteration 204\n",
      "2018-10-25 21:40:15,772 - root - INFO - 循环训练次数：Iteration 205\n",
      "2018-10-25 21:41:02,597 - root - INFO - 循环训练次数：Iteration 206\n",
      "2018-10-25 21:41:55,894 - root - INFO - 循环训练次数：Iteration 207\n",
      "2018-10-25 21:42:48,602 - root - INFO - 循环训练次数：Iteration 208\n",
      "2018-10-25 21:43:39,305 - root - INFO - 循环训练次数：Iteration 209\n"
     ]
    },
    {
     "name": "stdout",
     "output_type": "stream",
     "text": [
      "输出图片：循环训练次数：Iteration 209\n"
     ]
    },
    {
     "name": "stderr",
     "output_type": "stream",
     "text": [
      "2018-10-25 21:44:48,074 - root - INFO - ('Cost: ', 21710460000.0)\n",
      "2018-10-25 21:44:48,299 - root - INFO - 循环训练次数：Iteration 210\n",
      "2018-10-25 21:45:34,645 - root - INFO - 循环训练次数：Iteration 211\n",
      "2018-10-25 21:46:27,617 - root - INFO - 循环训练次数：Iteration 212\n",
      "2018-10-25 21:47:17,128 - root - INFO - 循环训练次数：Iteration 213\n",
      "2018-10-25 21:48:05,290 - root - INFO - 循环训练次数：Iteration 214\n",
      "2018-10-25 21:48:52,535 - root - INFO - 循环训练次数：Iteration 215\n",
      "2018-10-25 21:49:43,469 - root - INFO - 循环训练次数：Iteration 216\n",
      "2018-10-25 21:50:30,278 - root - INFO - 循环训练次数：Iteration 217\n",
      "2018-10-25 21:51:22,719 - root - INFO - 循环训练次数：Iteration 218\n",
      "2018-10-25 21:52:10,539 - root - INFO - 循环训练次数：Iteration 219\n",
      "2018-10-25 21:52:58,518 - root - INFO - 循环训练次数：Iteration 220\n",
      "2018-10-25 21:53:44,551 - root - INFO - 循环训练次数：Iteration 221\n",
      "2018-10-25 21:54:31,027 - root - INFO - 循环训练次数：Iteration 222\n",
      "2018-10-25 21:55:16,372 - root - INFO - 循环训练次数：Iteration 223\n",
      "2018-10-25 21:56:01,754 - root - INFO - 循环训练次数：Iteration 224\n",
      "2018-10-25 21:56:50,744 - root - INFO - 循环训练次数：Iteration 225\n",
      "2018-10-25 21:57:38,398 - root - INFO - 循环训练次数：Iteration 226\n",
      "2018-10-25 21:58:23,022 - root - INFO - 循环训练次数：Iteration 227\n",
      "2018-10-25 21:59:06,388 - root - INFO - 循环训练次数：Iteration 228\n"
     ]
    },
    {
     "name": "stdout",
     "output_type": "stream",
     "text": [
      "输出图片：循环训练次数：Iteration 228\n"
     ]
    },
    {
     "name": "stderr",
     "output_type": "stream",
     "text": [
      "2018-10-25 22:00:18,866 - root - INFO - ('Cost: ', 20020950000.0)\n",
      "2018-10-25 22:00:19,094 - root - INFO - 循环训练次数：Iteration 229\n",
      "2018-10-25 22:01:06,647 - root - INFO - 循环训练次数：Iteration 230\n",
      "2018-10-25 22:01:49,473 - root - INFO - 循环训练次数：Iteration 231\n",
      "2018-10-25 22:02:37,517 - root - INFO - 循环训练次数：Iteration 232\n",
      "2018-10-25 22:03:26,283 - root - INFO - 循环训练次数：Iteration 233\n",
      "2018-10-25 22:04:12,439 - root - INFO - 循环训练次数：Iteration 234\n",
      "2018-10-25 22:05:01,344 - root - INFO - 循环训练次数：Iteration 235\n",
      "2018-10-25 22:05:45,930 - root - INFO - 循环训练次数：Iteration 236\n",
      "2018-10-25 22:06:32,891 - root - INFO - 循环训练次数：Iteration 237\n",
      "2018-10-25 22:07:17,967 - root - INFO - 循环训练次数：Iteration 238\n",
      "2018-10-25 22:08:01,370 - root - INFO - 循环训练次数：Iteration 239\n",
      "2018-10-25 22:08:51,382 - root - INFO - 循环训练次数：Iteration 240\n",
      "2018-10-25 22:09:34,274 - root - INFO - 循环训练次数：Iteration 241\n",
      "2018-10-25 22:10:27,198 - root - INFO - 循环训练次数：Iteration 242\n",
      "2018-10-25 22:11:13,118 - root - INFO - 循环训练次数：Iteration 243\n",
      "2018-10-25 22:12:00,106 - root - INFO - 循环训练次数：Iteration 244\n",
      "2018-10-25 22:12:47,286 - root - INFO - 循环训练次数：Iteration 245\n",
      "2018-10-25 22:13:35,360 - root - INFO - 循环训练次数：Iteration 246\n",
      "2018-10-25 22:14:21,428 - root - INFO - 循环训练次数：Iteration 247\n"
     ]
    },
    {
     "name": "stdout",
     "output_type": "stream",
     "text": [
      "输出图片：循环训练次数：Iteration 247\n"
     ]
    },
    {
     "name": "stderr",
     "output_type": "stream",
     "text": [
      "2018-10-25 22:15:33,007 - root - INFO - ('Cost: ', 18524172000.0)\n",
      "2018-10-25 22:15:33,210 - root - INFO - 循环训练次数：Iteration 248\n",
      "2018-10-25 22:16:17,309 - root - INFO - 循环训练次数：Iteration 249\n",
      "2018-10-25 22:17:06,005 - root - INFO - 循环训练次数：Iteration 250\n",
      "2018-10-25 22:17:56,843 - root - INFO - 循环训练次数：Iteration 251\n",
      "2018-10-25 22:18:44,915 - root - INFO - 循环训练次数：Iteration 252\n",
      "2018-10-25 22:19:27,765 - root - INFO - 循环训练次数：Iteration 253\n",
      "2018-10-25 22:20:16,053 - root - INFO - 循环训练次数：Iteration 254\n",
      "2018-10-25 22:21:03,356 - root - INFO - 循环训练次数：Iteration 255\n",
      "2018-10-25 22:21:50,838 - root - INFO - 循环训练次数：Iteration 256\n",
      "2018-10-25 22:22:38,583 - root - INFO - 循环训练次数：Iteration 257\n",
      "2018-10-25 22:23:26,251 - root - INFO - 循环训练次数：Iteration 258\n",
      "2018-10-25 22:24:12,570 - root - INFO - 循环训练次数：Iteration 259\n",
      "2018-10-25 22:24:56,607 - root - INFO - 循环训练次数：Iteration 260\n",
      "2018-10-25 22:25:40,932 - root - INFO - 循环训练次数：Iteration 261\n",
      "2018-10-25 22:26:29,841 - root - INFO - 循环训练次数：Iteration 262\n",
      "2018-10-25 22:27:18,461 - root - INFO - 循环训练次数：Iteration 263\n",
      "2018-10-25 22:28:04,845 - root - INFO - 循环训练次数：Iteration 264\n",
      "2018-10-25 22:28:53,481 - root - INFO - 循环训练次数：Iteration 265\n",
      "2018-10-25 22:29:39,458 - root - INFO - 循环训练次数：Iteration 266\n"
     ]
    },
    {
     "name": "stdout",
     "output_type": "stream",
     "text": [
      "输出图片：循环训练次数：Iteration 266\n"
     ]
    },
    {
     "name": "stderr",
     "output_type": "stream",
     "text": [
      "2018-10-25 22:30:49,564 - root - INFO - ('Cost: ', 17190846000.0)\n",
      "2018-10-25 22:30:49,767 - root - INFO - 循环训练次数：Iteration 267\n",
      "2018-10-25 22:31:34,073 - root - INFO - 循环训练次数：Iteration 268\n",
      "2018-10-25 22:32:23,431 - root - INFO - 循环训练次数：Iteration 269\n",
      "2018-10-25 22:33:11,667 - root - INFO - 循环训练次数：Iteration 270\n",
      "2018-10-25 22:34:00,736 - root - INFO - 循环训练次数：Iteration 271\n",
      "2018-10-25 22:34:46,597 - root - INFO - 循环训练次数：Iteration 272\n",
      "2018-10-25 22:35:35,305 - root - INFO - 循环训练次数：Iteration 273\n",
      "2018-10-25 22:36:21,055 - root - INFO - 循环训练次数：Iteration 274\n",
      "2018-10-25 22:37:05,229 - root - INFO - 循环训练次数：Iteration 275\n",
      "2018-10-25 22:37:52,749 - root - INFO - 循环训练次数：Iteration 276\n",
      "2018-10-25 22:38:38,986 - root - INFO - 循环训练次数：Iteration 277\n",
      "2018-10-25 22:39:21,145 - root - INFO - 循环训练次数：Iteration 278\n",
      "2018-10-25 22:40:06,788 - root - INFO - 循环训练次数：Iteration 279\n",
      "2018-10-25 22:40:53,205 - root - INFO - 循环训练次数：Iteration 280\n",
      "2018-10-25 22:41:40,221 - root - INFO - 循环训练次数：Iteration 281\n",
      "2018-10-25 22:42:27,396 - root - INFO - 循环训练次数：Iteration 282\n",
      "2018-10-25 22:43:15,029 - root - INFO - 循环训练次数：Iteration 283\n",
      "2018-10-25 22:44:02,130 - root - INFO - 循环训练次数：Iteration 284\n",
      "2018-10-25 22:44:49,152 - root - INFO - 循环训练次数：Iteration 285\n"
     ]
    },
    {
     "name": "stdout",
     "output_type": "stream",
     "text": [
      "输出图片：循环训练次数：Iteration 285\n"
     ]
    },
    {
     "name": "stderr",
     "output_type": "stream",
     "text": [
      "2018-10-25 22:45:57,424 - root - INFO - ('Cost: ', 16000462000.0)\n",
      "2018-10-25 22:45:57,649 - root - INFO - 循环训练次数：Iteration 286\n",
      "2018-10-25 22:46:46,483 - root - INFO - 循环训练次数：Iteration 287\n",
      "2018-10-25 22:47:31,711 - root - INFO - 循环训练次数：Iteration 288\n",
      "2018-10-25 22:48:18,902 - root - INFO - 循环训练次数：Iteration 289\n",
      "2018-10-25 22:49:07,676 - root - INFO - 循环训练次数：Iteration 290\n",
      "2018-10-25 22:49:54,861 - root - INFO - 循环训练次数：Iteration 291\n",
      "2018-10-25 22:50:40,628 - root - INFO - 循环训练次数：Iteration 292\n",
      "2018-10-25 22:51:27,920 - root - INFO - 循环训练次数：Iteration 293\n",
      "2018-10-25 22:52:16,316 - root - INFO - 循环训练次数：Iteration 294\n",
      "2018-10-25 22:53:05,190 - root - INFO - 循环训练次数：Iteration 295\n",
      "2018-10-25 22:53:53,116 - root - INFO - 循环训练次数：Iteration 296\n",
      "2018-10-25 22:54:39,641 - root - INFO - 循环训练次数：Iteration 297\n",
      "2018-10-25 22:55:24,173 - root - INFO - 循环训练次数：Iteration 298\n",
      "2018-10-25 22:56:12,964 - root - INFO - 循环训练次数：Iteration 299\n",
      "2018-10-25 22:56:57,001 - root - INFO - 循环训练次数：Iteration 300\n",
      "2018-10-25 22:57:47,543 - root - INFO - 循环训练次数：Iteration 301\n",
      "2018-10-25 22:58:35,174 - root - INFO - 循环训练次数：Iteration 302\n",
      "2018-10-25 22:59:24,060 - root - INFO - 循环训练次数：Iteration 303\n",
      "2018-10-25 23:00:12,907 - root - INFO - 循环训练次数：Iteration 304\n"
     ]
    },
    {
     "name": "stdout",
     "output_type": "stream",
     "text": [
      "输出图片：循环训练次数：Iteration 304\n"
     ]
    },
    {
     "name": "stderr",
     "output_type": "stream",
     "text": [
      "2018-10-25 23:01:22,669 - root - INFO - ('Cost: ', 14919831000.0)\n",
      "2018-10-25 23:01:22,893 - root - INFO - 循环训练次数：Iteration 305\n",
      "2018-10-25 23:02:10,984 - root - INFO - 循环训练次数：Iteration 306\n",
      "2018-10-25 23:03:02,566 - root - INFO - 循环训练次数：Iteration 307\n",
      "2018-10-25 23:03:47,741 - root - INFO - 循环训练次数：Iteration 308\n",
      "2018-10-25 23:04:36,591 - root - INFO - 循环训练次数：Iteration 309\n",
      "2018-10-25 23:05:29,092 - root - INFO - 循环训练次数：Iteration 310\n",
      "2018-10-25 23:06:16,335 - root - INFO - 循环训练次数：Iteration 311\n",
      "2018-10-25 23:07:07,567 - root - INFO - 循环训练次数：Iteration 312\n",
      "2018-10-25 23:07:55,624 - root - INFO - 循环训练次数：Iteration 313\n",
      "2018-10-25 23:08:43,173 - root - INFO - 循环训练次数：Iteration 314\n",
      "2018-10-25 23:09:32,499 - root - INFO - 循环训练次数：Iteration 315\n",
      "2018-10-25 23:10:19,845 - root - INFO - 循环训练次数：Iteration 316\n",
      "2018-10-25 23:11:08,698 - root - INFO - 循环训练次数：Iteration 317\n",
      "2018-10-25 23:11:56,883 - root - INFO - 循环训练次数：Iteration 318\n",
      "2018-10-25 23:12:47,240 - root - INFO - 循环训练次数：Iteration 319\n",
      "2018-10-25 23:13:37,105 - root - INFO - 循环训练次数：Iteration 320\n",
      "2018-10-25 23:14:26,255 - root - INFO - 循环训练次数：Iteration 321\n",
      "2018-10-25 23:15:20,579 - root - INFO - 循环训练次数：Iteration 322\n",
      "2018-10-25 23:16:08,715 - root - INFO - 循环训练次数：Iteration 323\n"
     ]
    },
    {
     "name": "stdout",
     "output_type": "stream",
     "text": [
      "输出图片：循环训练次数：Iteration 323\n"
     ]
    },
    {
     "name": "stderr",
     "output_type": "stream",
     "text": [
      "2018-10-25 23:17:23,192 - root - INFO - ('Cost: ', 13927075000.0)\n",
      "2018-10-25 23:17:23,417 - root - INFO - 循环训练次数：Iteration 324\n",
      "2018-10-25 23:18:20,456 - root - INFO - 循环训练次数：Iteration 325\n",
      "2018-10-25 23:19:07,266 - root - INFO - 循环训练次数：Iteration 326\n",
      "2018-10-25 23:19:54,777 - root - INFO - 循环训练次数：Iteration 327\n",
      "2018-10-25 23:20:46,505 - root - INFO - 循环训练次数：Iteration 328\n",
      "2018-10-25 23:21:33,426 - root - INFO - 循环训练次数：Iteration 329\n",
      "2018-10-25 23:22:21,721 - root - INFO - 循环训练次数：Iteration 330\n",
      "2018-10-25 23:23:11,793 - root - INFO - 循环训练次数：Iteration 331\n",
      "2018-10-25 23:23:59,502 - root - INFO - 循环训练次数：Iteration 332\n",
      "2018-10-25 23:24:52,631 - root - INFO - 循环训练次数：Iteration 333\n",
      "2018-10-25 23:25:44,020 - root - INFO - 循环训练次数：Iteration 334\n",
      "2018-10-25 23:26:34,926 - root - INFO - 循环训练次数：Iteration 335\n",
      "2018-10-25 23:27:25,277 - root - INFO - 循环训练次数：Iteration 336\n",
      "2018-10-25 23:28:15,874 - root - INFO - 循环训练次数：Iteration 337\n",
      "2018-10-25 23:29:02,988 - root - INFO - 循环训练次数：Iteration 338\n",
      "2018-10-25 23:29:54,522 - root - INFO - 循环训练次数：Iteration 339\n",
      "2018-10-25 23:30:41,003 - root - INFO - 循环训练次数：Iteration 340\n",
      "2018-10-25 23:31:32,688 - root - INFO - 循环训练次数：Iteration 341\n",
      "2018-10-25 23:32:20,428 - root - INFO - 循环训练次数：Iteration 342\n"
     ]
    },
    {
     "name": "stdout",
     "output_type": "stream",
     "text": [
      "输出图片：循环训练次数：Iteration 342\n"
     ]
    },
    {
     "name": "stderr",
     "output_type": "stream",
     "text": [
      "2018-10-25 23:33:34,235 - root - INFO - ('Cost: ', 13011556000.0)\n",
      "2018-10-25 23:33:34,450 - root - INFO - 循环训练次数：Iteration 343\n",
      "2018-10-25 23:34:24,490 - root - INFO - 循环训练次数：Iteration 344\n",
      "2018-10-25 23:35:14,234 - root - INFO - 循环训练次数：Iteration 345\n",
      "2018-10-25 23:36:00,472 - root - INFO - 循环训练次数：Iteration 346\n",
      "2018-10-25 23:36:52,886 - root - INFO - 循环训练次数：Iteration 347\n",
      "2018-10-25 23:37:45,234 - root - INFO - 循环训练次数：Iteration 348\n",
      "2018-10-25 23:38:39,697 - root - INFO - 循环训练次数：Iteration 349\n",
      "2018-10-25 23:39:32,281 - root - INFO - 循环训练次数：Iteration 350\n",
      "2018-10-25 23:40:22,170 - root - INFO - 循环训练次数：Iteration 351\n",
      "2018-10-25 23:41:13,908 - root - INFO - 循环训练次数：Iteration 352\n",
      "2018-10-25 23:42:00,506 - root - INFO - 循环训练次数：Iteration 353\n",
      "2018-10-25 23:42:53,371 - root - INFO - 循环训练次数：Iteration 354\n",
      "2018-10-25 23:43:40,282 - root - INFO - 循环训练次数：Iteration 355\n",
      "2018-10-25 23:44:33,079 - root - INFO - 循环训练次数：Iteration 356\n",
      "2018-10-25 23:45:19,575 - root - INFO - 循环训练次数：Iteration 357\n",
      "2018-10-25 23:46:06,147 - root - INFO - 循环训练次数：Iteration 358\n",
      "2018-10-25 23:46:57,571 - root - INFO - 循环训练次数：Iteration 359\n",
      "2018-10-25 23:47:43,697 - root - INFO - 循环训练次数：Iteration 360\n",
      "2018-10-25 23:48:34,425 - root - INFO - 循环训练次数：Iteration 361\n"
     ]
    },
    {
     "name": "stdout",
     "output_type": "stream",
     "text": [
      "输出图片：循环训练次数：Iteration 361\n"
     ]
    },
    {
     "name": "stderr",
     "output_type": "stream",
     "text": [
      "2018-10-25 23:49:42,433 - root - INFO - ('Cost: ', 12166985000.0)\n",
      "2018-10-25 23:49:42,653 - root - INFO - 循环训练次数：Iteration 362\n",
      "2018-10-25 23:50:33,273 - root - INFO - 循环训练次数：Iteration 363\n",
      "2018-10-25 23:51:19,327 - root - INFO - 循环训练次数：Iteration 364\n",
      "2018-10-25 23:52:10,437 - root - INFO - 循环训练次数：Iteration 365\n",
      "2018-10-25 23:52:57,497 - root - INFO - 循环训练次数：Iteration 366\n",
      "2018-10-25 23:53:48,072 - root - INFO - 循环训练次数：Iteration 367\n",
      "2018-10-25 23:54:35,346 - root - INFO - 循环训练次数：Iteration 368\n",
      "2018-10-25 23:55:26,820 - root - INFO - 循环训练次数：Iteration 369\n",
      "2018-10-25 23:56:13,877 - root - INFO - 循环训练次数：Iteration 370\n",
      "2018-10-25 23:57:00,765 - root - INFO - 循环训练次数：Iteration 371\n",
      "2018-10-25 23:57:52,451 - root - INFO - 循环训练次数：Iteration 372\n",
      "2018-10-25 23:58:40,219 - root - INFO - 循环训练次数：Iteration 373\n",
      "2018-10-25 23:59:27,887 - root - INFO - 循环训练次数：Iteration 374\n",
      "2018-10-26 00:00:20,886 - root - INFO - 循环训练次数：Iteration 375\n",
      "2018-10-26 00:01:08,423 - root - INFO - 循环训练次数：Iteration 376\n",
      "2018-10-26 00:01:56,160 - root - INFO - 循环训练次数：Iteration 377\n",
      "2018-10-26 00:02:47,980 - root - INFO - 循环训练次数：Iteration 378\n",
      "2018-10-26 00:03:35,664 - root - INFO - 循环训练次数：Iteration 379\n",
      "2018-10-26 00:04:23,334 - root - INFO - 循环训练次数：Iteration 380\n"
     ]
    },
    {
     "name": "stdout",
     "output_type": "stream",
     "text": [
      "输出图片：循环训练次数：Iteration 380\n"
     ]
    },
    {
     "name": "stderr",
     "output_type": "stream",
     "text": [
      "2018-10-26 00:05:37,925 - root - INFO - ('Cost: ', 11386473000.0)\n",
      "2018-10-26 00:05:38,173 - root - INFO - 循环训练次数：Iteration 381\n",
      "2018-10-26 00:06:27,958 - root - INFO - 循环训练次数：Iteration 382\n",
      "2018-10-26 00:07:15,492 - root - INFO - 循环训练次数：Iteration 383\n",
      "2018-10-26 00:08:08,919 - root - INFO - 循环训练次数：Iteration 384\n",
      "2018-10-26 00:08:55,338 - root - INFO - 循环训练次数：Iteration 385\n",
      "2018-10-26 00:09:42,407 - root - INFO - 循环训练次数：Iteration 386\n",
      "2018-10-26 00:10:28,889 - root - INFO - 循环训练次数：Iteration 387\n",
      "2018-10-26 00:11:15,695 - root - INFO - 循环训练次数：Iteration 388\n",
      "2018-10-26 00:12:02,677 - root - INFO - 循环训练次数：Iteration 389\n",
      "2018-10-26 00:12:48,718 - root - INFO - 循环训练次数：Iteration 390\n",
      "2018-10-26 00:13:35,776 - root - INFO - 循环训练次数：Iteration 391\n",
      "2018-10-26 00:14:21,985 - root - INFO - 循环训练次数：Iteration 392\n",
      "2018-10-26 00:15:08,074 - root - INFO - 循环训练次数：Iteration 393\n",
      "2018-10-26 00:15:55,336 - root - INFO - 循环训练次数：Iteration 394\n",
      "2018-10-26 00:16:41,723 - root - INFO - 循环训练次数：Iteration 395\n",
      "2018-10-26 00:17:32,153 - root - INFO - 循环训练次数：Iteration 396\n",
      "2018-10-26 00:18:29,884 - root - INFO - 循环训练次数：Iteration 397\n",
      "2018-10-26 00:19:16,590 - root - INFO - 循环训练次数：Iteration 398\n",
      "2018-10-26 00:20:07,570 - root - INFO - 循环训练次数：Iteration 399\n"
     ]
    },
    {
     "name": "stdout",
     "output_type": "stream",
     "text": [
      "输出图片：循环训练次数：Iteration 399\n"
     ]
    },
    {
     "name": "stderr",
     "output_type": "stream",
     "text": [
      "2018-10-26 00:21:15,876 - root - INFO - ('Cost: ', 10664712000.0)\n",
      "2018-10-26 00:21:16,099 - root - INFO - 循环训练次数：Iteration 400\n",
      "2018-10-26 00:22:07,099 - root - INFO - 循环训练次数：Iteration 401\n",
      "2018-10-26 00:22:52,960 - root - INFO - 循环训练次数：Iteration 402\n",
      "2018-10-26 00:23:39,362 - root - INFO - 循环训练次数：Iteration 403\n",
      "2018-10-26 00:24:28,618 - root - INFO - 循环训练次数：Iteration 404\n",
      "2018-10-26 00:25:14,108 - root - INFO - 循环训练次数：Iteration 405\n",
      "2018-10-26 00:26:05,733 - root - INFO - 循环训练次数：Iteration 406\n",
      "2018-10-26 00:26:51,403 - root - INFO - 循环训练次数：Iteration 407\n",
      "2018-10-26 00:27:39,717 - root - INFO - 循环训练次数：Iteration 408\n",
      "2018-10-26 00:28:27,483 - root - INFO - 循环训练次数：Iteration 409\n",
      "2018-10-26 00:29:18,552 - root - INFO - 循环训练次数：Iteration 410\n",
      "2018-10-26 00:30:05,720 - root - INFO - 循环训练次数：Iteration 411\n",
      "2018-10-26 00:30:53,824 - root - INFO - 循环训练次数：Iteration 412\n",
      "2018-10-26 00:31:45,790 - root - INFO - 循环训练次数：Iteration 413\n",
      "2018-10-26 00:32:33,487 - root - INFO - 循环训练次数：Iteration 414\n",
      "2018-10-26 00:33:22,670 - root - INFO - 循环训练次数：Iteration 415\n",
      "2018-10-26 00:34:09,765 - root - INFO - 循环训练次数：Iteration 416\n",
      "2018-10-26 00:34:56,109 - root - INFO - 循环训练次数：Iteration 417\n",
      "2018-10-26 00:35:45,851 - root - INFO - 循环训练次数：Iteration 418\n"
     ]
    },
    {
     "name": "stdout",
     "output_type": "stream",
     "text": [
      "输出图片：循环训练次数：Iteration 418\n"
     ]
    },
    {
     "name": "stderr",
     "output_type": "stream",
     "text": [
      "2018-10-26 00:36:53,476 - root - INFO - ('Cost: ', 9995479000.0)\n",
      "2018-10-26 00:36:53,690 - root - INFO - 循环训练次数：Iteration 419\n",
      "2018-10-26 00:37:43,107 - root - INFO - 循环训练次数：Iteration 420\n",
      "2018-10-26 00:38:30,219 - root - INFO - 循环训练次数：Iteration 421\n",
      "2018-10-26 00:39:16,985 - root - INFO - 循环训练次数：Iteration 422\n",
      "2018-10-26 00:40:07,935 - root - INFO - 循环训练次数：Iteration 423\n",
      "2018-10-26 00:40:55,181 - root - INFO - 循环训练次数：Iteration 424\n",
      "2018-10-26 00:41:41,836 - root - INFO - 循环训练次数：Iteration 425\n",
      "2018-10-26 00:42:33,740 - root - INFO - 循环训练次数：Iteration 426\n",
      "2018-10-26 00:43:20,217 - root - INFO - 循环训练次数：Iteration 427\n",
      "2018-10-26 00:44:10,055 - root - INFO - 循环训练次数：Iteration 428\n",
      "2018-10-26 00:44:57,040 - root - INFO - 循环训练次数：Iteration 429\n",
      "2018-10-26 00:45:48,066 - root - INFO - 循环训练次数：Iteration 430\n",
      "2018-10-26 00:46:33,620 - root - INFO - 循环训练次数：Iteration 431\n",
      "2018-10-26 00:47:21,191 - root - INFO - 循环训练次数：Iteration 432\n",
      "2018-10-26 00:48:08,215 - root - INFO - 循环训练次数：Iteration 433\n",
      "2018-10-26 00:48:56,248 - root - INFO - 循环训练次数：Iteration 434\n",
      "2018-10-26 00:49:47,978 - root - INFO - 循环训练次数：Iteration 435\n",
      "2018-10-26 00:50:34,581 - root - INFO - 循环训练次数：Iteration 436\n",
      "2018-10-26 00:51:20,829 - root - INFO - 循环训练次数：Iteration 437\n"
     ]
    },
    {
     "name": "stdout",
     "output_type": "stream",
     "text": [
      "输出图片：循环训练次数：Iteration 437\n"
     ]
    },
    {
     "name": "stderr",
     "output_type": "stream",
     "text": [
      "2018-10-26 00:52:29,141 - root - INFO - ('Cost: ', 9371697000.0)\n",
      "2018-10-26 00:52:29,346 - root - INFO - 循环训练次数：Iteration 438\n",
      "2018-10-26 00:53:20,800 - root - INFO - 循环训练次数：Iteration 439\n",
      "2018-10-26 00:54:06,616 - root - INFO - 循环训练次数：Iteration 440\n",
      "2018-10-26 00:54:53,622 - root - INFO - 循环训练次数：Iteration 441\n",
      "2018-10-26 00:55:42,344 - root - INFO - 循环训练次数：Iteration 442\n",
      "2018-10-26 00:56:35,049 - root - INFO - 循环训练次数：Iteration 443\n",
      "2018-10-26 00:57:21,735 - root - INFO - 循环训练次数：Iteration 444\n",
      "2018-10-26 00:58:09,478 - root - INFO - 循环训练次数：Iteration 445\n",
      "2018-10-26 00:59:00,444 - root - INFO - 循环训练次数：Iteration 446\n",
      "2018-10-26 00:59:48,077 - root - INFO - 循环训练次数：Iteration 447\n",
      "2018-10-26 01:00:34,228 - root - INFO - 循环训练次数：Iteration 448\n",
      "2018-10-26 01:01:24,129 - root - INFO - 循环训练次数：Iteration 449\n",
      "2018-10-26 01:02:11,655 - root - INFO - 循环训练次数：Iteration 450\n",
      "2018-10-26 01:03:03,839 - root - INFO - 循环训练次数：Iteration 451\n",
      "2018-10-26 01:03:51,510 - root - INFO - 循环训练次数：Iteration 452\n",
      "2018-10-26 01:04:38,786 - root - INFO - 循环训练次数：Iteration 453\n",
      "2018-10-26 01:05:30,222 - root - INFO - 循环训练次数：Iteration 454\n",
      "2018-10-26 01:06:17,394 - root - INFO - 循环训练次数：Iteration 455\n",
      "2018-10-26 01:07:06,392 - root - INFO - 循环训练次数：Iteration 456\n"
     ]
    },
    {
     "name": "stdout",
     "output_type": "stream",
     "text": [
      "输出图片：循环训练次数：Iteration 456\n"
     ]
    },
    {
     "name": "stderr",
     "output_type": "stream",
     "text": [
      "2018-10-26 01:08:17,336 - root - INFO - ('Cost: ', 8789830000.0)\n",
      "2018-10-26 01:08:17,540 - root - INFO - 循环训练次数：Iteration 457\n",
      "2018-10-26 01:09:08,098 - root - INFO - 循环训练次数：Iteration 458\n",
      "2018-10-26 01:09:54,298 - root - INFO - 循环训练次数：Iteration 459\n",
      "2018-10-26 01:10:41,640 - root - INFO - 循环训练次数：Iteration 460\n",
      "2018-10-26 01:11:31,975 - root - INFO - 循环训练次数：Iteration 461\n",
      "2018-10-26 01:12:17,507 - root - INFO - 循环训练次数：Iteration 462\n",
      "2018-10-26 01:13:08,519 - root - INFO - 循环训练次数：Iteration 463\n",
      "2018-10-26 01:13:55,877 - root - INFO - 循环训练次数：Iteration 464\n",
      "2018-10-26 01:14:46,624 - root - INFO - 循环训练次数：Iteration 465\n",
      "2018-10-26 01:15:35,729 - root - INFO - 循环训练次数：Iteration 466\n",
      "2018-10-26 01:16:25,850 - root - INFO - 循环训练次数：Iteration 467\n",
      "2018-10-26 01:17:12,378 - root - INFO - 循环训练次数：Iteration 468\n",
      "2018-10-26 01:18:05,465 - root - INFO - 循环训练次数：Iteration 469\n",
      "2018-10-26 01:18:53,781 - root - INFO - 循环训练次数：Iteration 470\n",
      "2018-10-26 01:19:39,975 - root - INFO - 循环训练次数：Iteration 471\n",
      "2018-10-26 01:20:29,536 - root - INFO - 循环训练次数：Iteration 472\n",
      "2018-10-26 01:21:16,096 - root - INFO - 循环训练次数：Iteration 473\n",
      "2018-10-26 01:22:06,945 - root - INFO - 循环训练次数：Iteration 474\n",
      "2018-10-26 01:22:54,107 - root - INFO - 循环训练次数：Iteration 475\n"
     ]
    },
    {
     "name": "stdout",
     "output_type": "stream",
     "text": [
      "输出图片：循环训练次数：Iteration 475\n"
     ]
    },
    {
     "name": "stderr",
     "output_type": "stream",
     "text": [
      "2018-10-26 01:24:01,542 - root - INFO - ('Cost: ', 8246691000.0)\n",
      "2018-10-26 01:24:01,748 - root - INFO - 循环训练次数：Iteration 476\n",
      "2018-10-26 01:24:51,050 - root - INFO - 循环训练次数：Iteration 477\n",
      "2018-10-26 01:25:37,605 - root - INFO - 循环训练次数：Iteration 478\n",
      "2018-10-26 01:26:24,189 - root - INFO - 循环训练次数：Iteration 479\n",
      "2018-10-26 01:27:14,447 - root - INFO - 循环训练次数：Iteration 480\n",
      "2018-10-26 01:28:00,012 - root - INFO - 循环训练次数：Iteration 481\n",
      "2018-10-26 01:28:45,861 - root - INFO - 循环训练次数：Iteration 482\n",
      "2018-10-26 01:29:35,104 - root - INFO - 循环训练次数：Iteration 483\n",
      "2018-10-26 01:30:20,949 - root - INFO - 循环训练次数：Iteration 484\n",
      "2018-10-26 01:31:11,335 - root - INFO - 循环训练次数：Iteration 485\n",
      "2018-10-26 01:31:56,597 - root - INFO - 循环训练次数：Iteration 486\n",
      "2018-10-26 01:32:42,597 - root - INFO - 循环训练次数：Iteration 487\n",
      "2018-10-26 01:33:32,967 - root - INFO - 循环训练次数：Iteration 488\n",
      "2018-10-26 01:34:18,382 - root - INFO - 循环训练次数：Iteration 489\n",
      "2018-10-26 01:35:04,583 - root - INFO - 循环训练次数：Iteration 490\n",
      "2018-10-26 01:35:54,179 - root - INFO - 循环训练次数：Iteration 491\n",
      "2018-10-26 01:36:40,285 - root - INFO - 循环训练次数：Iteration 492\n",
      "2018-10-26 01:37:26,195 - root - INFO - 循环训练次数：Iteration 493\n",
      "2018-10-26 01:38:14,099 - root - INFO - 循环训练次数：Iteration 494\n"
     ]
    },
    {
     "name": "stdout",
     "output_type": "stream",
     "text": [
      "输出图片：循环训练次数：Iteration 494\n"
     ]
    },
    {
     "name": "stderr",
     "output_type": "stream",
     "text": [
      "2018-10-26 01:39:21,148 - root - INFO - ('Cost: ', 7738841000.0)\n",
      "2018-10-26 01:39:21,357 - root - INFO - 循环训练次数：Iteration 495\n",
      "2018-10-26 01:40:11,793 - root - INFO - 循环训练次数：Iteration 496\n",
      "2018-10-26 01:40:56,197 - root - INFO - 循环训练次数：Iteration 497\n",
      "2018-10-26 01:41:42,104 - root - INFO - 循环训练次数：Iteration 498\n",
      "2018-10-26 01:42:28,093 - root - INFO - 循环训练次数：Iteration 499\n",
      "2018-10-26 01:43:17,980 - root - INFO - 循环训练次数：Iteration 500\n",
      "2018-10-26 01:44:03,168 - root - INFO - 循环训练次数：Iteration 501\n",
      "2018-10-26 01:44:52,482 - root - INFO - 循环训练次数：Iteration 502\n",
      "2018-10-26 01:45:37,717 - root - INFO - 循环训练次数：Iteration 503\n",
      "2018-10-26 01:46:27,240 - root - INFO - 循环训练次数：Iteration 504\n",
      "2018-10-26 01:47:12,655 - root - INFO - 循环训练次数：Iteration 505\n",
      "2018-10-26 01:48:00,098 - root - INFO - 循环训练次数：Iteration 506\n",
      "2018-10-26 01:48:46,508 - root - INFO - 循环训练次数：Iteration 507\n",
      "2018-10-26 01:49:31,321 - root - INFO - 循环训练次数：Iteration 508\n",
      "2018-10-26 01:50:21,147 - root - INFO - 循环训练次数：Iteration 509\n",
      "2018-10-26 01:51:03,607 - root - INFO - 循环训练次数：Iteration 510\n",
      "2018-10-26 01:51:49,526 - root - INFO - 循环训练次数：Iteration 511\n",
      "2018-10-26 01:52:39,549 - root - INFO - 循环训练次数：Iteration 512\n",
      "2018-10-26 01:53:23,989 - root - INFO - 循环训练次数：Iteration 513\n"
     ]
    },
    {
     "name": "stdout",
     "output_type": "stream",
     "text": [
      "输出图片：循环训练次数：Iteration 513\n"
     ]
    },
    {
     "name": "stderr",
     "output_type": "stream",
     "text": [
      "2018-10-26 01:54:33,292 - root - INFO - ('Cost: ', 7265667600.0)\n",
      "2018-10-26 01:54:33,476 - root - INFO - 循环训练次数：Iteration 514\n",
      "2018-10-26 01:55:19,580 - root - INFO - 循环训练次数：Iteration 515\n",
      "2018-10-26 01:56:09,085 - root - INFO - 循环训练次数：Iteration 516\n",
      "2018-10-26 01:56:53,530 - root - INFO - 循环训练次数：Iteration 517\n",
      "2018-10-26 01:57:39,483 - root - INFO - 循环训练次数：Iteration 518\n",
      "2018-10-26 01:58:25,698 - root - INFO - 循环训练次数：Iteration 519\n",
      "2018-10-26 01:59:12,272 - root - INFO - 循环训练次数：Iteration 520\n",
      "2018-10-26 02:00:02,815 - root - INFO - 循环训练次数：Iteration 521\n",
      "2018-10-26 02:00:44,287 - root - INFO - 循环训练次数：Iteration 522\n",
      "2018-10-26 02:01:29,412 - root - INFO - 循环训练次数：Iteration 523\n",
      "2018-10-26 02:02:14,903 - root - INFO - 循环训练次数：Iteration 524\n",
      "2018-10-26 02:03:00,704 - root - INFO - 循环训练次数：Iteration 525\n",
      "2018-10-26 02:03:48,729 - root - INFO - 循环训练次数：Iteration 526\n",
      "2018-10-26 02:04:34,112 - root - INFO - 循环训练次数：Iteration 527\n",
      "2018-10-26 02:05:23,443 - root - INFO - 循环训练次数：Iteration 528\n",
      "2018-10-26 02:06:04,771 - root - INFO - 循环训练次数：Iteration 529\n",
      "2018-10-26 02:06:50,135 - root - INFO - 循环训练次数：Iteration 530\n",
      "2018-10-26 02:07:38,843 - root - INFO - 循环训练次数：Iteration 531\n",
      "2018-10-26 02:08:28,268 - root - INFO - 循环训练次数：Iteration 532\n"
     ]
    },
    {
     "name": "stdout",
     "output_type": "stream",
     "text": [
      "输出图片：循环训练次数：Iteration 532\n"
     ]
    },
    {
     "name": "stderr",
     "output_type": "stream",
     "text": [
      "2018-10-26 02:09:30,740 - root - INFO - ('Cost: ', 6821237000.0)\n",
      "2018-10-26 02:09:30,942 - root - INFO - 循环训练次数：Iteration 533\n",
      "2018-10-26 02:10:21,370 - root - INFO - 循环训练次数：Iteration 534\n",
      "2018-10-26 02:11:05,726 - root - INFO - 循环训练次数：Iteration 535\n",
      "2018-10-26 02:11:51,105 - root - INFO - 循环训练次数：Iteration 536\n",
      "2018-10-26 02:12:36,449 - root - INFO - 循环训练次数：Iteration 537\n",
      "2018-10-26 02:13:21,426 - root - INFO - 循环训练次数：Iteration 538\n",
      "2018-10-26 02:14:02,808 - root - INFO - 循环训练次数：Iteration 539\n",
      "2018-10-26 02:14:48,789 - root - INFO - 循环训练次数：Iteration 540\n",
      "2018-10-26 02:15:35,432 - root - INFO - 循环训练次数：Iteration 541\n",
      "2018-10-26 02:16:25,283 - root - INFO - 循环训练次数：Iteration 542\n",
      "2018-10-26 02:17:11,374 - root - INFO - 循环训练次数：Iteration 543\n",
      "2018-10-26 02:17:58,941 - root - INFO - 循环训练次数：Iteration 544\n",
      "2018-10-26 02:18:46,767 - root - INFO - 循环训练次数：Iteration 545\n",
      "2018-10-26 02:19:33,255 - root - INFO - 循环训练次数：Iteration 546\n",
      "2018-10-26 02:20:19,044 - root - INFO - 循环训练次数：Iteration 547\n",
      "2018-10-26 02:21:05,672 - root - INFO - 循环训练次数：Iteration 548\n",
      "2018-10-26 02:21:52,429 - root - INFO - 循环训练次数：Iteration 549\n",
      "2018-10-26 02:22:37,249 - root - INFO - 循环训练次数：Iteration 550\n",
      "2018-10-26 02:23:25,077 - root - INFO - 循环训练次数：Iteration 551\n"
     ]
    },
    {
     "name": "stdout",
     "output_type": "stream",
     "text": [
      "输出图片：循环训练次数：Iteration 551\n"
     ]
    },
    {
     "name": "stderr",
     "output_type": "stream",
     "text": [
      "2018-10-26 02:24:31,486 - root - INFO - ('Cost: ', 6404177000.0)\n",
      "2018-10-26 02:24:31,689 - root - INFO - 循环训练次数：Iteration 552\n",
      "2018-10-26 02:25:19,475 - root - INFO - 循环训练次数：Iteration 553\n",
      "2018-10-26 02:26:04,352 - root - INFO - 循环训练次数：Iteration 554\n",
      "2018-10-26 02:26:51,921 - root - INFO - 循环训练次数：Iteration 555\n",
      "2018-10-26 02:27:33,230 - root - INFO - 循环训练次数：Iteration 556\n",
      "2018-10-26 02:28:18,960 - root - INFO - 循环训练次数：Iteration 557\n",
      "2018-10-26 02:29:05,679 - root - INFO - 循环训练次数：Iteration 558\n",
      "2018-10-26 02:29:51,594 - root - INFO - 循环训练次数：Iteration 559\n",
      "2018-10-26 02:30:39,895 - root - INFO - 循环训练次数：Iteration 560\n",
      "2018-10-26 02:31:24,650 - root - INFO - 循环训练次数：Iteration 561\n",
      "2018-10-26 02:32:09,319 - root - INFO - 循环训练次数：Iteration 562\n",
      "2018-10-26 02:32:57,151 - root - INFO - 循环训练次数：Iteration 563\n",
      "2018-10-26 02:33:38,613 - root - INFO - 循环训练次数：Iteration 564\n",
      "2018-10-26 02:34:26,815 - root - INFO - 循环训练次数：Iteration 565\n",
      "2018-10-26 02:35:12,827 - root - INFO - 循环训练次数：Iteration 566\n",
      "2018-10-26 02:35:59,612 - root - INFO - 循环训练次数：Iteration 567\n",
      "2018-10-26 02:36:41,951 - root - INFO - 循环训练次数：Iteration 568\n",
      "2018-10-26 02:37:32,066 - root - INFO - 循环训练次数：Iteration 569\n",
      "2018-10-26 02:38:17,047 - root - INFO - 循环训练次数：Iteration 570\n"
     ]
    },
    {
     "name": "stdout",
     "output_type": "stream",
     "text": [
      "输出图片：循环训练次数：Iteration 570\n"
     ]
    },
    {
     "name": "stderr",
     "output_type": "stream",
     "text": [
      "2018-10-26 02:39:21,687 - root - INFO - ('Cost: ', 6018481700.0)\n",
      "2018-10-26 02:39:21,873 - root - INFO - 循环训练次数：Iteration 571\n",
      "2018-10-26 02:40:12,087 - root - INFO - 循环训练次数：Iteration 572\n",
      "2018-10-26 02:40:56,452 - root - INFO - 循环训练次数：Iteration 573\n",
      "2018-10-26 02:41:41,611 - root - INFO - 循环训练次数：Iteration 574\n",
      "2018-10-26 02:42:28,700 - root - INFO - 循环训练次数：Iteration 575\n",
      "2018-10-26 02:43:13,163 - root - INFO - 循环训练次数：Iteration 576\n",
      "2018-10-26 02:44:00,175 - root - INFO - 循环训练次数：Iteration 577\n",
      "2018-10-26 02:44:46,168 - root - INFO - 循环训练次数：Iteration 578\n",
      "2018-10-26 02:45:28,301 - root - INFO - 循环训练次数：Iteration 579\n",
      "2018-10-26 02:46:15,448 - root - INFO - 循环训练次数：Iteration 580\n",
      "2018-10-26 02:47:01,410 - root - INFO - 循环训练次数：Iteration 581\n",
      "2018-10-26 02:47:46,075 - root - INFO - 循环训练次数：Iteration 582\n",
      "2018-10-26 02:48:34,384 - root - INFO - 循环训练次数：Iteration 583\n",
      "2018-10-26 02:49:15,842 - root - INFO - 循环训练次数：Iteration 584\n",
      "2018-10-26 02:50:01,222 - root - INFO - 循环训练次数：Iteration 585\n",
      "2018-10-26 02:50:44,651 - root - INFO - 循环训练次数：Iteration 586\n",
      "2018-10-26 02:51:30,388 - root - INFO - 循环训练次数：Iteration 587\n",
      "2018-10-26 02:52:20,033 - root - INFO - 循环训练次数：Iteration 588\n",
      "2018-10-26 02:53:03,987 - root - INFO - 循环训练次数：Iteration 589\n"
     ]
    },
    {
     "name": "stdout",
     "output_type": "stream",
     "text": [
      "输出图片：循环训练次数：Iteration 589\n"
     ]
    },
    {
     "name": "stderr",
     "output_type": "stream",
     "text": [
      "2018-10-26 02:54:13,025 - root - INFO - ('Cost: ', 5660412000.0)\n",
      "2018-10-26 02:54:13,230 - root - INFO - 循环训练次数：Iteration 590\n",
      "2018-10-26 02:55:01,497 - root - INFO - 循环训练次数：Iteration 591\n",
      "2018-10-26 02:55:43,534 - root - INFO - 循环训练次数：Iteration 592\n",
      "2018-10-26 02:56:32,866 - root - INFO - 循环训练次数：Iteration 593\n",
      "2018-10-26 02:57:15,541 - root - INFO - 循环训练次数：Iteration 594\n",
      "2018-10-26 02:58:01,033 - root - INFO - 循环训练次数：Iteration 595\n",
      "2018-10-26 02:58:46,372 - root - INFO - 循环训练次数：Iteration 596\n",
      "2018-10-26 02:59:27,795 - root - INFO - 循环训练次数：Iteration 597\n",
      "2018-10-26 03:00:15,710 - root - INFO - 循环训练次数：Iteration 598\n",
      "2018-10-26 03:00:59,709 - root - INFO - 循环训练次数：Iteration 599\n",
      "2018-10-26 03:01:45,650 - root - INFO - 循环训练次数：Iteration 600\n",
      "2018-10-26 03:02:34,623 - root - INFO - 循环训练次数：Iteration 601\n",
      "2018-10-26 03:03:16,236 - root - INFO - 循环训练次数：Iteration 602\n",
      "2018-10-26 03:04:01,467 - root - INFO - 循环训练次数：Iteration 603\n",
      "2018-10-26 03:04:47,668 - root - INFO - 循环训练次数：Iteration 604\n",
      "2018-10-26 03:05:35,863 - root - INFO - 循环训练次数：Iteration 605\n",
      "2018-10-26 03:06:17,377 - root - INFO - 循环训练次数：Iteration 606\n",
      "2018-10-26 03:07:02,182 - root - INFO - 循环训练次数：Iteration 607\n",
      "2018-10-26 03:07:47,450 - root - INFO - 循环训练次数：Iteration 608\n"
     ]
    },
    {
     "name": "stdout",
     "output_type": "stream",
     "text": [
      "输出图片：循环训练次数：Iteration 608\n"
     ]
    },
    {
     "name": "stderr",
     "output_type": "stream",
     "text": [
      "2018-10-26 03:08:52,135 - root - INFO - ('Cost: ', 5329719300.0)\n",
      "2018-10-26 03:08:52,335 - root - INFO - 循环训练次数：Iteration 609\n",
      "2018-10-26 03:09:43,214 - root - INFO - 循环训练次数：Iteration 610\n",
      "2018-10-26 03:10:24,624 - root - INFO - 循环训练次数：Iteration 611\n",
      "2018-10-26 03:11:10,596 - root - INFO - 循环训练次数：Iteration 612\n",
      "2018-10-26 03:11:56,090 - root - INFO - 循环训练次数：Iteration 613\n",
      "2018-10-26 03:12:37,685 - root - INFO - 循环训练次数：Iteration 614\n",
      "2018-10-26 03:13:25,695 - root - INFO - 循环训练次数：Iteration 615\n",
      "2018-10-26 03:14:07,279 - root - INFO - 循环训练次数：Iteration 616\n",
      "2018-10-26 03:14:55,589 - root - INFO - 循环训练次数：Iteration 617\n",
      "2018-10-26 03:15:38,046 - root - INFO - 循环训练次数：Iteration 618\n",
      "2018-10-26 03:16:28,092 - root - INFO - 循环训练次数：Iteration 619\n",
      "2018-10-26 03:17:09,309 - root - INFO - 循环训练次数：Iteration 620\n",
      "2018-10-26 03:17:56,300 - root - INFO - 循环训练次数：Iteration 621\n",
      "2018-10-26 03:18:48,214 - root - INFO - 循环训练次数：Iteration 622\n",
      "2018-10-26 03:19:29,669 - root - INFO - 循环训练次数：Iteration 623\n",
      "2018-10-26 03:20:18,955 - root - INFO - 循环训练次数：Iteration 624\n",
      "2018-10-26 03:21:00,251 - root - INFO - 循环训练次数：Iteration 625\n",
      "2018-10-26 03:21:45,011 - root - INFO - 循环训练次数：Iteration 626\n",
      "2018-10-26 03:22:28,773 - root - INFO - 循环训练次数：Iteration 627\n"
     ]
    },
    {
     "name": "stdout",
     "output_type": "stream",
     "text": [
      "输出图片：循环训练次数：Iteration 627\n"
     ]
    },
    {
     "name": "stderr",
     "output_type": "stream",
     "text": [
      "2018-10-26 03:23:30,507 - root - INFO - ('Cost: ', 5020580000.0)\n",
      "2018-10-26 03:23:30,715 - root - INFO - 循环训练次数：Iteration 628\n",
      "2018-10-26 03:24:18,389 - root - INFO - 循环训练次数：Iteration 629\n",
      "2018-10-26 03:25:00,127 - root - INFO - 循环训练次数：Iteration 630\n",
      "2018-10-26 03:25:45,758 - root - INFO - 循环训练次数：Iteration 631\n",
      "2018-10-26 03:26:29,965 - root - INFO - 循环训练次数：Iteration 632\n",
      "2018-10-26 03:27:11,519 - root - INFO - 循环训练次数：Iteration 633\n",
      "2018-10-26 03:28:01,234 - root - INFO - 循环训练次数：Iteration 634\n",
      "2018-10-26 03:28:43,134 - root - INFO - 循环训练次数：Iteration 635\n",
      "2018-10-26 03:29:28,427 - root - INFO - 循环训练次数：Iteration 636\n",
      "2018-10-26 03:30:14,123 - root - INFO - 循环训练次数：Iteration 637\n",
      "2018-10-26 03:30:59,295 - root - INFO - 循环训练次数：Iteration 638\n",
      "2018-10-26 03:31:41,070 - root - INFO - 循环训练次数：Iteration 639\n",
      "2018-10-26 03:32:27,353 - root - INFO - 循环训练次数：Iteration 640\n",
      "2018-10-26 03:33:12,042 - root - INFO - 循环训练次数：Iteration 641\n",
      "2018-10-26 03:33:57,785 - root - INFO - 循环训练次数：Iteration 642\n",
      "2018-10-26 03:34:42,166 - root - INFO - 循环训练次数：Iteration 643\n",
      "2018-10-26 03:35:23,702 - root - INFO - 循环训练次数：Iteration 644\n",
      "2018-10-26 03:36:10,326 - root - INFO - 循环训练次数：Iteration 645\n",
      "2018-10-26 03:36:52,597 - root - INFO - 循环训练次数：Iteration 646\n"
     ]
    },
    {
     "name": "stdout",
     "output_type": "stream",
     "text": [
      "输出图片：循环训练次数：Iteration 646\n"
     ]
    },
    {
     "name": "stderr",
     "output_type": "stream",
     "text": [
      "2018-10-26 03:38:02,284 - root - INFO - ('Cost: ', 4734578000.0)\n",
      "2018-10-26 03:38:02,468 - root - INFO - 循环训练次数：Iteration 647\n",
      "2018-10-26 03:38:45,898 - root - INFO - 循环训练次数：Iteration 648\n",
      "2018-10-26 03:39:27,254 - root - INFO - 循环训练次数：Iteration 649\n",
      "2018-10-26 03:40:17,209 - root - INFO - 循环训练次数：Iteration 650\n",
      "2018-10-26 03:41:00,726 - root - INFO - 循环训练次数：Iteration 651\n",
      "2018-10-26 03:41:47,060 - root - INFO - 循环训练次数：Iteration 652\n",
      "2018-10-26 03:42:28,984 - root - INFO - 循环训练次数：Iteration 653\n",
      "2018-10-26 03:43:18,472 - root - INFO - 循环训练次数：Iteration 654\n",
      "2018-10-26 03:43:59,857 - root - INFO - 循环训练次数：Iteration 655\n",
      "2018-10-26 03:44:44,341 - root - INFO - 循环训练次数：Iteration 656\n",
      "2018-10-26 03:45:25,955 - root - INFO - 循环训练次数：Iteration 657\n",
      "2018-10-26 03:46:11,943 - root - INFO - 循环训练次数：Iteration 658\n",
      "2018-10-26 03:46:54,619 - root - INFO - 循环训练次数：Iteration 659\n",
      "2018-10-26 03:47:40,167 - root - INFO - 循环训练次数：Iteration 660\n",
      "2018-10-26 03:48:21,471 - root - INFO - 循环训练次数：Iteration 661\n",
      "2018-10-26 03:49:07,148 - root - INFO - 循环训练次数：Iteration 662\n",
      "2018-10-26 03:49:49,406 - root - INFO - 循环训练次数：Iteration 663\n",
      "2018-10-26 03:50:33,628 - root - INFO - 循环训练次数：Iteration 664\n",
      "2018-10-26 03:51:19,550 - root - INFO - 循环训练次数：Iteration 665\n"
     ]
    },
    {
     "name": "stdout",
     "output_type": "stream",
     "text": [
      "输出图片：循环训练次数：Iteration 665\n"
     ]
    },
    {
     "name": "stderr",
     "output_type": "stream",
     "text": [
      "2018-10-26 03:52:23,040 - root - INFO - ('Cost: ', 4469838300.0)\n",
      "2018-10-26 03:52:23,229 - root - INFO - 循环训练次数：Iteration 666\n",
      "2018-10-26 03:53:13,270 - root - INFO - 循环训练次数：Iteration 667\n",
      "2018-10-26 03:53:55,548 - root - INFO - 循环训练次数：Iteration 668\n",
      "2018-10-26 03:54:40,858 - root - INFO - 循环训练次数：Iteration 669\n",
      "2018-10-26 03:55:26,370 - root - INFO - 循环训练次数：Iteration 670\n",
      "2018-10-26 03:56:08,308 - root - INFO - 循环训练次数：Iteration 671\n",
      "2018-10-26 03:56:55,274 - root - INFO - 循环训练次数：Iteration 672\n",
      "2018-10-26 03:57:41,583 - root - INFO - 循环训练次数：Iteration 673\n",
      "2018-10-26 03:58:27,156 - root - INFO - 循环训练次数：Iteration 674\n",
      "2018-10-26 03:59:09,227 - root - INFO - 循环训练次数：Iteration 675\n",
      "2018-10-26 03:59:52,042 - root - INFO - 循环训练次数：Iteration 676\n",
      "2018-10-26 04:00:38,599 - root - INFO - 循环训练次数：Iteration 677\n",
      "2018-10-26 04:01:25,487 - root - INFO - 循环训练次数：Iteration 678\n",
      "2018-10-26 04:02:08,033 - root - INFO - 循环训练次数：Iteration 679\n",
      "2018-10-26 04:02:56,294 - root - INFO - 循环训练次数：Iteration 680\n",
      "2018-10-26 04:03:37,450 - root - INFO - 循环训练次数：Iteration 681\n",
      "2018-10-26 04:04:20,163 - root - INFO - 循环训练次数：Iteration 682\n",
      "2018-10-26 04:05:10,835 - root - INFO - 循环训练次数：Iteration 683\n",
      "2018-10-26 04:05:52,828 - root - INFO - 循环训练次数：Iteration 684\n"
     ]
    },
    {
     "name": "stdout",
     "output_type": "stream",
     "text": [
      "输出图片：循环训练次数：Iteration 684\n"
     ]
    },
    {
     "name": "stderr",
     "output_type": "stream",
     "text": [
      "2018-10-26 04:06:55,383 - root - INFO - ('Cost: ', 4227282400.0)\n",
      "2018-10-26 04:06:55,587 - root - INFO - 循环训练次数：Iteration 685\n",
      "2018-10-26 04:07:43,760 - root - INFO - 循环训练次数：Iteration 686\n",
      "2018-10-26 04:08:25,750 - root - INFO - 循环训练次数：Iteration 687\n",
      "2018-10-26 04:09:10,557 - root - INFO - 循环训练次数：Iteration 688\n",
      "2018-10-26 04:09:52,294 - root - INFO - 循环训练次数：Iteration 689\n",
      "2018-10-26 04:10:36,241 - root - INFO - 循环训练次数：Iteration 690\n",
      "2018-10-26 04:11:17,485 - root - INFO - 循环训练次数：Iteration 691\n",
      "2018-10-26 04:12:02,401 - root - INFO - 循环训练次数：Iteration 692\n",
      "2018-10-26 04:12:43,102 - root - INFO - 循环训练次数：Iteration 693\n",
      "2018-10-26 04:13:24,293 - root - INFO - 循环训练次数：Iteration 694\n",
      "2018-10-26 04:14:05,623 - root - INFO - 循环训练次数：Iteration 695\n",
      "2018-10-26 04:14:49,500 - root - INFO - 循环训练次数：Iteration 696\n",
      "2018-10-26 04:15:30,953 - root - INFO - 循环训练次数：Iteration 697\n",
      "2018-10-26 04:16:13,488 - root - INFO - 循环训练次数：Iteration 698\n",
      "2018-10-26 04:16:56,738 - root - INFO - 循环训练次数：Iteration 699\n",
      "2018-10-26 04:17:38,849 - root - INFO - 循环训练次数：Iteration 700\n",
      "2018-10-26 04:18:31,364 - root - INFO - 循环训练次数：Iteration 701\n",
      "2018-10-26 04:19:12,915 - root - INFO - 循环训练次数：Iteration 702\n",
      "2018-10-26 04:19:55,121 - root - INFO - 循环训练次数：Iteration 703\n"
     ]
    },
    {
     "name": "stdout",
     "output_type": "stream",
     "text": [
      "输出图片：循环训练次数：Iteration 703\n"
     ]
    },
    {
     "name": "stderr",
     "output_type": "stream",
     "text": [
      "2018-10-26 04:20:56,984 - root - INFO - ('Cost: ', 4001215500.0)\n",
      "2018-10-26 04:20:57,166 - root - INFO - 循环训练次数：Iteration 704\n",
      "2018-10-26 04:21:39,486 - root - INFO - 循环训练次数：Iteration 705\n",
      "2018-10-26 04:22:21,543 - root - INFO - 循环训练次数：Iteration 706\n",
      "2018-10-26 04:23:06,869 - root - INFO - 循环训练次数：Iteration 707\n",
      "2018-10-26 04:23:48,672 - root - INFO - 循环训练次数：Iteration 708\n",
      "2018-10-26 04:24:32,153 - root - INFO - 循环训练次数：Iteration 709\n",
      "2018-10-26 04:25:13,891 - root - INFO - 循环训练次数：Iteration 710\n",
      "2018-10-26 04:25:55,127 - root - INFO - 循环训练次数：Iteration 711\n",
      "2018-10-26 04:26:41,144 - root - INFO - 循环训练次数：Iteration 712\n",
      "2018-10-26 04:27:23,030 - root - INFO - 循环训练次数：Iteration 713\n",
      "2018-10-26 04:28:08,811 - root - INFO - 循环训练次数：Iteration 714\n",
      "2018-10-26 04:28:50,155 - root - INFO - 循环训练次数：Iteration 715\n",
      "2018-10-26 04:29:31,820 - root - INFO - 循环训练次数：Iteration 716\n",
      "2018-10-26 04:30:18,966 - root - INFO - 循环训练次数：Iteration 717\n",
      "2018-10-26 04:31:00,179 - root - INFO - 循环训练次数：Iteration 718\n",
      "2018-10-26 04:31:41,883 - root - INFO - 循环训练次数：Iteration 719\n",
      "2018-10-26 04:32:25,162 - root - INFO - 循环训练次数：Iteration 720\n",
      "2018-10-26 04:33:06,327 - root - INFO - 循环训练次数：Iteration 721\n",
      "2018-10-26 04:33:49,657 - root - INFO - 循环训练次数：Iteration 722\n"
     ]
    },
    {
     "name": "stdout",
     "output_type": "stream",
     "text": [
      "输出图片：循环训练次数：Iteration 722\n"
     ]
    },
    {
     "name": "stderr",
     "output_type": "stream",
     "text": [
      "2018-10-26 04:34:50,399 - root - INFO - ('Cost: ', 3789045200.0)\n",
      "2018-10-26 04:34:50,593 - root - INFO - 循环训练次数：Iteration 723\n",
      "2018-10-26 04:35:35,239 - root - INFO - 循环训练次数：Iteration 724\n",
      "2018-10-26 04:36:17,261 - root - INFO - 循环训练次数：Iteration 725\n",
      "2018-10-26 04:36:59,359 - root - INFO - 循环训练次数：Iteration 726\n",
      "2018-10-26 04:37:41,316 - root - INFO - 循环训练次数：Iteration 727\n",
      "2018-10-26 04:38:26,245 - root - INFO - 循环训练次数：Iteration 728\n",
      "2018-10-26 04:39:08,206 - root - INFO - 循环训练次数：Iteration 729\n",
      "2018-10-26 04:39:50,052 - root - INFO - 循环训练次数：Iteration 730\n",
      "2018-10-26 04:40:34,040 - root - INFO - 循环训练次数：Iteration 731\n",
      "2018-10-26 04:41:15,454 - root - INFO - 循环训练次数：Iteration 732\n",
      "2018-10-26 04:41:57,370 - root - INFO - 循环训练次数：Iteration 733\n",
      "2018-10-26 04:42:43,637 - root - INFO - 循环训练次数：Iteration 734\n",
      "2018-10-26 04:43:24,887 - root - INFO - 循环训练次数：Iteration 735\n",
      "2018-10-26 04:44:06,247 - root - INFO - 循环训练次数：Iteration 736\n",
      "2018-10-26 04:44:47,889 - root - INFO - 循环训练次数：Iteration 737\n",
      "2018-10-26 04:45:32,869 - root - INFO - 循环训练次数：Iteration 738\n",
      "2018-10-26 04:46:14,890 - root - INFO - 循环训练次数：Iteration 739\n",
      "2018-10-26 04:46:57,811 - root - INFO - 循环训练次数：Iteration 740\n",
      "2018-10-26 04:47:39,338 - root - INFO - 循环训练次数：Iteration 741\n"
     ]
    },
    {
     "name": "stdout",
     "output_type": "stream",
     "text": [
      "输出图片：循环训练次数：Iteration 741\n"
     ]
    },
    {
     "name": "stderr",
     "output_type": "stream",
     "text": [
      "2018-10-26 04:48:42,244 - root - INFO - ('Cost: ', 3590786800.0)\n",
      "2018-10-26 04:48:42,437 - root - INFO - 循环训练次数：Iteration 742\n",
      "2018-10-26 04:49:25,725 - root - INFO - 循环训练次数：Iteration 743\n",
      "2018-10-26 04:50:11,659 - root - INFO - 循环训练次数：Iteration 744\n",
      "2018-10-26 04:50:52,991 - root - INFO - 循环训练次数：Iteration 745\n",
      "2018-10-26 04:51:34,722 - root - INFO - 循环训练次数：Iteration 746\n",
      "2018-10-26 04:52:20,436 - root - INFO - 循环训练次数：Iteration 747\n",
      "2018-10-26 04:53:01,661 - root - INFO - 循环训练次数：Iteration 748\n",
      "2018-10-26 04:53:43,551 - root - INFO - 循环训练次数：Iteration 749\n",
      "2018-10-26 04:54:29,061 - root - INFO - 循环训练次数：Iteration 750\n",
      "2018-10-26 04:55:11,360 - root - INFO - 循环训练次数：Iteration 751\n",
      "2018-10-26 04:55:53,089 - root - INFO - 循环训练次数：Iteration 752\n",
      "2018-10-26 04:56:38,390 - root - INFO - 循环训练次数：Iteration 753\n",
      "2018-10-26 04:57:20,499 - root - INFO - 循环训练次数：Iteration 754\n",
      "2018-10-26 04:58:03,741 - root - INFO - 循环训练次数：Iteration 755\n",
      "2018-10-26 04:58:45,607 - root - INFO - 循环训练次数：Iteration 756\n",
      "2018-10-26 04:59:31,150 - root - INFO - 循环训练次数：Iteration 757\n",
      "2018-10-26 05:00:12,824 - root - INFO - 循环训练次数：Iteration 758\n",
      "2018-10-26 05:00:54,532 - root - INFO - 循环训练次数：Iteration 759\n",
      "2018-10-26 05:01:40,355 - root - INFO - 循环训练次数：Iteration 760\n"
     ]
    },
    {
     "name": "stdout",
     "output_type": "stream",
     "text": [
      "输出图片：循环训练次数：Iteration 760\n"
     ]
    },
    {
     "name": "stderr",
     "output_type": "stream",
     "text": [
      "2018-10-26 05:02:42,486 - root - INFO - ('Cost: ', 3402888000.0)\n",
      "2018-10-26 05:02:42,666 - root - INFO - 循环训练次数：Iteration 761\n",
      "2018-10-26 05:03:28,698 - root - INFO - 循环训练次数：Iteration 762\n",
      "2018-10-26 05:04:10,141 - root - INFO - 循环训练次数：Iteration 763\n",
      "2018-10-26 05:04:51,697 - root - INFO - 循环训练次数：Iteration 764\n",
      "2018-10-26 05:05:33,162 - root - INFO - 循环训练次数：Iteration 765\n",
      "2018-10-26 05:06:14,880 - root - INFO - 循环训练次数：Iteration 766\n",
      "2018-10-26 05:07:02,728 - root - INFO - 循环训练次数：Iteration 767\n",
      "2018-10-26 05:07:44,392 - root - INFO - 循环训练次数：Iteration 768\n",
      "2018-10-26 05:08:31,089 - root - INFO - 循环训练次数：Iteration 769\n",
      "2018-10-26 05:09:12,372 - root - INFO - 循环训练次数：Iteration 770\n",
      "2018-10-26 05:09:56,360 - root - INFO - 循环训练次数：Iteration 771\n",
      "2018-10-26 05:10:38,109 - root - INFO - 循环训练次数：Iteration 772\n",
      "2018-10-26 05:11:24,430 - root - INFO - 循环训练次数：Iteration 773\n",
      "2018-10-26 05:12:06,932 - root - INFO - 循环训练次数：Iteration 774\n",
      "2018-10-26 05:12:48,635 - root - INFO - 循环训练次数：Iteration 775\n",
      "2018-10-26 05:13:34,641 - root - INFO - 循环训练次数：Iteration 776\n",
      "2018-10-26 05:14:16,424 - root - INFO - 循环训练次数：Iteration 777\n",
      "2018-10-26 05:14:59,437 - root - INFO - 循环训练次数：Iteration 778\n",
      "2018-10-26 05:15:41,363 - root - INFO - 循环训练次数：Iteration 779\n"
     ]
    },
    {
     "name": "stdout",
     "output_type": "stream",
     "text": [
      "输出图片：循环训练次数：Iteration 779\n"
     ]
    },
    {
     "name": "stderr",
     "output_type": "stream",
     "text": [
      "2018-10-26 05:16:48,504 - root - INFO - ('Cost: ', 3226648300.0)\n",
      "2018-10-26 05:16:48,700 - root - INFO - 循环训练次数：Iteration 780\n",
      "2018-10-26 05:17:32,082 - root - INFO - 循环训练次数：Iteration 781\n",
      "2018-10-26 05:18:22,721 - root - INFO - 循环训练次数：Iteration 782\n",
      "2018-10-26 05:19:05,019 - root - INFO - 循环训练次数：Iteration 783\n",
      "2018-10-26 05:19:50,755 - root - INFO - 循环训练次数：Iteration 784\n",
      "2018-10-26 05:20:32,026 - root - INFO - 循环训练次数：Iteration 785\n",
      "2018-10-26 05:21:13,567 - root - INFO - 循环训练次数：Iteration 786\n",
      "2018-10-26 05:21:54,950 - root - INFO - 循环训练次数：Iteration 787\n",
      "2018-10-26 05:22:37,052 - root - INFO - 循环训练次数：Iteration 788\n",
      "2018-10-26 05:23:21,140 - root - INFO - 循环训练次数：Iteration 789\n",
      "2018-10-26 05:24:03,549 - root - INFO - 循环训练次数：Iteration 790\n",
      "2018-10-26 05:24:45,084 - root - INFO - 循环训练次数：Iteration 791\n",
      "2018-10-26 05:25:28,713 - root - INFO - 循环训练次数：Iteration 792\n",
      "2018-10-26 05:26:10,201 - root - INFO - 循环训练次数：Iteration 793\n",
      "2018-10-26 05:26:51,786 - root - INFO - 循环训练次数：Iteration 794\n",
      "2018-10-26 05:27:35,193 - root - INFO - 循环训练次数：Iteration 795\n",
      "2018-10-26 05:28:16,243 - root - INFO - 循环训练次数：Iteration 796\n",
      "2018-10-26 05:29:00,382 - root - INFO - 循环训练次数：Iteration 797\n",
      "2018-10-26 05:29:40,959 - root - INFO - 循环训练次数：Iteration 798\n"
     ]
    },
    {
     "name": "stdout",
     "output_type": "stream",
     "text": [
      "输出图片：循环训练次数：Iteration 798\n"
     ]
    },
    {
     "name": "stderr",
     "output_type": "stream",
     "text": [
      "2018-10-26 05:30:42,308 - root - INFO - ('Cost: ', 3064550700.0)\n",
      "2018-10-26 05:30:42,490 - root - INFO - 循环训练次数：Iteration 799\n",
      "2018-10-26 05:31:25,208 - root - INFO - 循环训练次数：Iteration 800\n",
      "2018-10-26 05:32:10,612 - root - INFO - 循环训练次数：Iteration 801\n",
      "2018-10-26 05:32:51,978 - root - INFO - 循环训练次数：Iteration 802\n",
      "2018-10-26 05:33:33,123 - root - INFO - 循环训练次数：Iteration 803\n",
      "2018-10-26 05:34:16,807 - root - INFO - 循环训练次数：Iteration 804\n",
      "2018-10-26 05:34:57,712 - root - INFO - 循环训练次数：Iteration 805\n",
      "2018-10-26 05:35:42,621 - root - INFO - 循环训练次数：Iteration 806\n",
      "2018-10-26 05:36:23,644 - root - INFO - 循环训练次数：Iteration 807\n",
      "2018-10-26 05:37:05,215 - root - INFO - 循环训练次数：Iteration 808\n",
      "2018-10-26 05:37:46,914 - root - INFO - 循环训练次数：Iteration 809\n",
      "2018-10-26 05:38:29,544 - root - INFO - 循环训练次数：Iteration 810\n",
      "2018-10-26 05:39:11,528 - root - INFO - 循环训练次数：Iteration 811\n",
      "2018-10-26 05:39:53,004 - root - INFO - 循环训练次数：Iteration 812\n",
      "2018-10-26 05:40:35,880 - root - INFO - 循环训练次数：Iteration 813\n",
      "2018-10-26 05:41:16,943 - root - INFO - 循环训练次数：Iteration 814\n",
      "2018-10-26 05:42:01,319 - root - INFO - 循环训练次数：Iteration 815\n",
      "2018-10-26 05:42:42,317 - root - INFO - 循环训练次数：Iteration 816\n",
      "2018-10-26 05:43:24,302 - root - INFO - 循环训练次数：Iteration 817\n"
     ]
    },
    {
     "name": "stdout",
     "output_type": "stream",
     "text": [
      "输出图片：循环训练次数：Iteration 817\n"
     ]
    },
    {
     "name": "stderr",
     "output_type": "stream",
     "text": [
      "2018-10-26 05:44:24,545 - root - INFO - ('Cost: ', 2911826400.0)\n",
      "2018-10-26 05:44:24,724 - root - INFO - 循环训练次数：Iteration 818\n",
      "2018-10-26 05:45:06,465 - root - INFO - 循环训练次数：Iteration 819\n",
      "2018-10-26 05:45:47,983 - root - INFO - 循环训练次数：Iteration 820\n",
      "2018-10-26 05:46:30,637 - root - INFO - 循环训练次数：Iteration 821\n",
      "2018-10-26 05:47:12,067 - root - INFO - 循环训练次数：Iteration 822\n",
      "2018-10-26 05:47:55,936 - root - INFO - 循环训练次数：Iteration 823\n",
      "2018-10-26 05:48:36,936 - root - INFO - 循环训练次数：Iteration 824\n",
      "2018-10-26 05:49:20,677 - root - INFO - 循环训练次数：Iteration 825\n",
      "2018-10-26 05:50:03,365 - root - INFO - 循环训练次数：Iteration 826\n",
      "2018-10-26 05:50:46,378 - root - INFO - 循环训练次数：Iteration 827\n",
      "2018-10-26 05:51:27,870 - root - INFO - 循环训练次数：Iteration 828\n",
      "2018-10-26 05:52:12,573 - root - INFO - 循环训练次数：Iteration 829\n",
      "2018-10-26 05:52:56,041 - root - INFO - 循环训练次数：Iteration 830\n",
      "2018-10-26 05:53:38,620 - root - INFO - 循环训练次数：Iteration 831\n",
      "2018-10-26 05:54:24,542 - root - INFO - 循环训练次数：Iteration 832\n",
      "2018-10-26 05:55:05,770 - root - INFO - 循环训练次数：Iteration 833\n",
      "2018-10-26 05:55:47,765 - root - INFO - 循环训练次数：Iteration 834\n",
      "2018-10-26 05:56:34,129 - root - INFO - 循环训练次数：Iteration 835\n",
      "2018-10-26 05:57:15,637 - root - INFO - 循环训练次数：Iteration 836\n"
     ]
    },
    {
     "name": "stdout",
     "output_type": "stream",
     "text": [
      "输出图片：循环训练次数：Iteration 836\n"
     ]
    },
    {
     "name": "stderr",
     "output_type": "stream",
     "text": [
      "2018-10-26 05:58:17,765 - root - INFO - ('Cost: ', 2768102700.0)\n",
      "2018-10-26 05:58:17,947 - root - INFO - 循环训练次数：Iteration 837\n",
      "2018-10-26 05:59:01,238 - root - INFO - 循环训练次数：Iteration 838\n",
      "2018-10-26 05:59:43,810 - root - INFO - 循环训练次数：Iteration 839\n",
      "2018-10-26 06:00:30,277 - root - INFO - 循环训练次数：Iteration 840\n",
      "2018-10-26 06:01:12,810 - root - INFO - 循环训练次数：Iteration 841\n",
      "2018-10-26 06:01:55,012 - root - INFO - 循环训练次数：Iteration 842\n",
      "2018-10-26 06:02:41,253 - root - INFO - 循环训练次数：Iteration 843\n",
      "2018-10-26 06:03:22,663 - root - INFO - 循环训练次数：Iteration 844\n",
      "2018-10-26 06:04:04,521 - root - INFO - 循环训练次数：Iteration 845\n",
      "2018-10-26 06:04:46,795 - root - INFO - 循环训练次数：Iteration 846\n",
      "2018-10-26 06:05:31,250 - root - INFO - 循环训练次数：Iteration 847\n",
      "2018-10-26 06:06:11,691 - root - INFO - 循环训练次数：Iteration 848\n",
      "2018-10-26 06:06:53,188 - root - INFO - 循环训练次数：Iteration 849\n",
      "2018-10-26 06:07:34,177 - root - INFO - 循环训练次数：Iteration 850\n",
      "2018-10-26 06:08:16,327 - root - INFO - 循环训练次数：Iteration 851\n",
      "2018-10-26 06:08:55,595 - root - INFO - 循环训练次数：Iteration 852\n",
      "2018-10-26 06:09:40,127 - root - INFO - 循环训练次数：Iteration 853\n",
      "2018-10-26 06:10:20,593 - root - INFO - 循环训练次数：Iteration 854\n",
      "2018-10-26 06:11:04,606 - root - INFO - 循环训练次数：Iteration 855\n"
     ]
    },
    {
     "name": "stdout",
     "output_type": "stream",
     "text": [
      "输出图片：循环训练次数：Iteration 855\n"
     ]
    },
    {
     "name": "stderr",
     "output_type": "stream",
     "text": [
      "2018-10-26 06:12:01,703 - root - INFO - ('Cost: ', 2633959400.0)\n",
      "2018-10-26 06:12:01,885 - root - INFO - 循环训练次数：Iteration 856\n",
      "2018-10-26 06:12:45,599 - root - INFO - 循环训练次数：Iteration 857\n",
      "2018-10-26 06:13:26,671 - root - INFO - 循环训练次数：Iteration 858\n",
      "2018-10-26 06:14:07,210 - root - INFO - 循环训练次数：Iteration 859\n",
      "2018-10-26 06:14:49,587 - root - INFO - 循环训练次数：Iteration 860\n",
      "2018-10-26 06:15:28,872 - root - INFO - 循环训练次数：Iteration 861\n",
      "2018-10-26 06:16:09,949 - root - INFO - 循环训练次数：Iteration 862\n",
      "2018-10-26 06:16:52,120 - root - INFO - 循环训练次数：Iteration 863\n",
      "2018-10-26 06:17:32,851 - root - INFO - 循环训练次数：Iteration 864\n",
      "2018-10-26 06:18:21,093 - root - INFO - 循环训练次数：Iteration 865\n",
      "2018-10-26 06:18:58,847 - root - INFO - 循环训练次数：Iteration 866\n",
      "2018-10-26 06:19:40,066 - root - INFO - 循环训练次数：Iteration 867\n",
      "2018-10-26 06:20:21,126 - root - INFO - 循环训练次数：Iteration 868\n",
      "2018-10-26 06:21:00,685 - root - INFO - 循环训练次数：Iteration 869\n",
      "2018-10-26 06:21:42,324 - root - INFO - 循环训练次数：Iteration 870\n",
      "2018-10-26 06:22:24,153 - root - INFO - 循环训练次数：Iteration 871\n",
      "2018-10-26 06:23:05,314 - root - INFO - 循环训练次数：Iteration 872\n",
      "2018-10-26 06:23:46,854 - root - INFO - 循环训练次数：Iteration 873\n",
      "2018-10-26 06:24:29,008 - root - INFO - 循环训练次数：Iteration 874\n"
     ]
    },
    {
     "name": "stdout",
     "output_type": "stream",
     "text": [
      "输出图片：循环训练次数：Iteration 874\n"
     ]
    },
    {
     "name": "stderr",
     "output_type": "stream",
     "text": [
      "2018-10-26 06:25:31,555 - root - INFO - ('Cost: ', 2507195400.0)\n",
      "2018-10-26 06:25:31,744 - root - INFO - 循环训练次数：Iteration 875\n",
      "2018-10-26 06:26:17,690 - root - INFO - 循环训练次数：Iteration 876\n",
      "2018-10-26 06:26:55,949 - root - INFO - 循环训练次数：Iteration 877\n",
      "2018-10-26 06:27:36,598 - root - INFO - 循环训练次数：Iteration 878\n",
      "2018-10-26 06:28:19,431 - root - INFO - 循环训练次数：Iteration 879\n",
      "2018-10-26 06:29:00,654 - root - INFO - 循环训练次数：Iteration 880\n",
      "2018-10-26 06:29:43,935 - root - INFO - 循环训练次数：Iteration 881\n",
      "2018-10-26 06:30:24,123 - root - INFO - 循环训练次数：Iteration 882\n",
      "2018-10-26 06:31:05,428 - root - INFO - 循环训练次数：Iteration 883\n",
      "2018-10-26 06:31:50,700 - root - INFO - 循环训练次数：Iteration 884\n",
      "2018-10-26 06:32:31,405 - root - INFO - 循环训练次数：Iteration 885\n",
      "2018-10-26 06:33:10,094 - root - INFO - 循环训练次数：Iteration 886\n",
      "2018-10-26 06:33:56,823 - root - INFO - 循环训练次数：Iteration 887\n",
      "2018-10-26 06:34:38,060 - root - INFO - 循环训练次数：Iteration 888\n",
      "2018-10-26 06:35:23,105 - root - INFO - 循环训练次数：Iteration 889\n",
      "2018-10-26 06:36:01,852 - root - INFO - 循环训练次数：Iteration 890\n",
      "2018-10-26 06:36:47,682 - root - INFO - 循环训练次数：Iteration 891\n",
      "2018-10-26 06:37:28,895 - root - INFO - 循环训练次数：Iteration 892\n",
      "2018-10-26 06:38:13,836 - root - INFO - 循环训练次数：Iteration 893\n"
     ]
    },
    {
     "name": "stdout",
     "output_type": "stream",
     "text": [
      "输出图片：循环训练次数：Iteration 893\n"
     ]
    },
    {
     "name": "stderr",
     "output_type": "stream",
     "text": [
      "2018-10-26 06:39:11,641 - root - INFO - ('Cost: ', 2386935300.0)\n",
      "2018-10-26 06:39:11,823 - root - INFO - 循环训练次数：Iteration 894\n",
      "2018-10-26 06:39:58,645 - root - INFO - 循环训练次数：Iteration 895\n",
      "2018-10-26 06:40:37,702 - root - INFO - 循环训练次数：Iteration 896\n",
      "2018-10-26 06:41:19,695 - root - INFO - 循环训练次数：Iteration 897\n",
      "2018-10-26 06:42:05,947 - root - INFO - 循环训练次数：Iteration 898\n",
      "2018-10-26 06:42:44,546 - root - INFO - 循环训练次数：Iteration 899\n",
      "2018-10-26 06:43:26,697 - root - INFO - 循环训练次数：Iteration 900\n",
      "2018-10-26 06:44:12,707 - root - INFO - 循环训练次数：Iteration 901\n",
      "2018-10-26 06:44:51,269 - root - INFO - 循环训练次数：Iteration 902\n",
      "2018-10-26 06:45:32,840 - root - INFO - 循环训练次数：Iteration 903\n",
      "2018-10-26 06:46:19,626 - root - INFO - 循环训练次数：Iteration 904\n",
      "2018-10-26 06:46:58,130 - root - INFO - 循环训练次数：Iteration 905\n",
      "2018-10-26 06:47:39,474 - root - INFO - 循环训练次数：Iteration 906\n",
      "2018-10-26 06:48:23,189 - root - INFO - 循环训练次数：Iteration 907\n",
      "2018-10-26 06:49:01,575 - root - INFO - 循环训练次数：Iteration 908\n",
      "2018-10-26 06:49:47,223 - root - INFO - 循环训练次数：Iteration 909\n",
      "2018-10-26 06:50:25,266 - root - INFO - 循环训练次数：Iteration 910\n",
      "2018-10-26 06:51:08,286 - root - INFO - 循环训练次数：Iteration 911\n",
      "2018-10-26 06:51:52,704 - root - INFO - 循环训练次数：Iteration 912\n"
     ]
    },
    {
     "name": "stdout",
     "output_type": "stream",
     "text": [
      "输出图片：循环训练次数：Iteration 912\n"
     ]
    },
    {
     "name": "stderr",
     "output_type": "stream",
     "text": [
      "2018-10-26 06:52:50,722 - root - INFO - ('Cost: ', 2270830800.0)\n",
      "2018-10-26 06:52:50,887 - root - INFO - 循环训练次数：Iteration 913\n",
      "2018-10-26 06:53:35,472 - root - INFO - 循环训练次数：Iteration 914\n",
      "2018-10-26 06:54:15,082 - root - INFO - 循环训练次数：Iteration 915\n",
      "2018-10-26 06:54:56,432 - root - INFO - 循环训练次数：Iteration 916\n",
      "2018-10-26 06:55:36,691 - root - INFO - 循环训练次数：Iteration 917\n",
      "2018-10-26 06:56:21,400 - root - INFO - 循环训练次数：Iteration 918\n",
      "2018-10-26 06:56:59,709 - root - INFO - 循环训练次数：Iteration 919\n",
      "2018-10-26 06:57:41,721 - root - INFO - 循环训练次数：Iteration 920\n",
      "2018-10-26 06:58:26,629 - root - INFO - 循环训练次数：Iteration 921\n",
      "2018-10-26 06:59:04,643 - root - INFO - 循环训练次数：Iteration 922\n",
      "2018-10-26 06:59:46,726 - root - INFO - 循环训练次数：Iteration 923\n",
      "2018-10-26 07:00:31,057 - root - INFO - 循环训练次数：Iteration 924\n",
      "2018-10-26 07:01:11,985 - root - INFO - 循环训练次数：Iteration 925\n",
      "2018-10-26 07:01:54,060 - root - INFO - 循环训练次数：Iteration 926\n",
      "2018-10-26 07:02:35,049 - root - INFO - 循环训练次数：Iteration 927\n",
      "2018-10-26 07:03:15,987 - root - INFO - 循环训练次数：Iteration 928\n",
      "2018-10-26 07:03:55,884 - root - INFO - 循环训练次数：Iteration 929\n",
      "2018-10-26 07:04:39,220 - root - INFO - 循环训练次数：Iteration 930\n",
      "2018-10-26 07:05:20,307 - root - INFO - 循环训练次数：Iteration 931\n"
     ]
    },
    {
     "name": "stdout",
     "output_type": "stream",
     "text": [
      "输出图片：循环训练次数：Iteration 931\n"
     ]
    },
    {
     "name": "stderr",
     "output_type": "stream",
     "text": [
      "2018-10-26 07:06:19,149 - root - INFO - ('Cost: ', 2160173600.0)\n",
      "2018-10-26 07:06:19,314 - root - INFO - 循环训练次数：Iteration 932\n",
      "2018-10-26 07:07:04,480 - root - INFO - 循环训练次数：Iteration 933\n",
      "2018-10-26 07:07:43,664 - root - INFO - 循环训练次数：Iteration 934\n",
      "2018-10-26 07:08:27,096 - root - INFO - 循环训练次数：Iteration 935\n",
      "2018-10-26 07:09:09,456 - root - INFO - 循环训练次数：Iteration 936\n",
      "2018-10-26 07:09:51,358 - root - INFO - 循环训练次数：Iteration 937\n",
      "2018-10-26 07:10:29,770 - root - INFO - 循环训练次数：Iteration 938\n",
      "2018-10-26 07:11:14,241 - root - INFO - 循环训练次数：Iteration 939\n",
      "2018-10-26 07:11:55,634 - root - INFO - 循环训练次数：Iteration 940\n",
      "2018-10-26 07:12:40,020 - root - INFO - 循环训练次数：Iteration 941\n",
      "2018-10-26 07:13:21,759 - root - INFO - 循环训练次数：Iteration 942\n",
      "2018-10-26 07:14:03,795 - root - INFO - 循环训练次数：Iteration 943\n",
      "2018-10-26 07:14:48,566 - root - INFO - 循环训练次数：Iteration 944\n",
      "2018-10-26 07:15:28,839 - root - INFO - 循环训练次数：Iteration 945\n",
      "2018-10-26 07:16:11,077 - root - INFO - 循环训练次数：Iteration 946\n",
      "2018-10-26 07:16:56,545 - root - INFO - 循环训练次数：Iteration 947\n",
      "2018-10-26 07:17:34,481 - root - INFO - 循环训练次数：Iteration 948\n",
      "2018-10-26 07:18:23,172 - root - INFO - 循环训练次数：Iteration 949\n",
      "2018-10-26 07:19:08,747 - root - INFO - 循环训练次数：Iteration 950\n"
     ]
    },
    {
     "name": "stdout",
     "output_type": "stream",
     "text": [
      "输出图片：循环训练次数：Iteration 950\n"
     ]
    },
    {
     "name": "stderr",
     "output_type": "stream",
     "text": [
      "2018-10-26 07:20:09,602 - root - INFO - ('Cost: ', 2056470800.0)\n",
      "2018-10-26 07:20:09,793 - root - INFO - 循环训练次数：Iteration 951\n",
      "2018-10-26 07:20:55,022 - root - INFO - 循环训练次数：Iteration 952\n",
      "2018-10-26 07:21:40,116 - root - INFO - 循环训练次数：Iteration 953\n",
      "2018-10-26 07:22:38,424 - root - INFO - 循环训练次数：Iteration 954\n",
      "2018-10-26 07:23:22,286 - root - INFO - 循环训练次数：Iteration 955\n",
      "2018-10-26 07:24:09,573 - root - INFO - 循环训练次数：Iteration 956\n",
      "2018-10-26 07:24:51,426 - root - INFO - 循环训练次数：Iteration 957\n",
      "2018-10-26 07:25:34,645 - root - INFO - 循环训练次数：Iteration 958\n",
      "2018-10-26 07:26:17,866 - root - INFO - 循环训练次数：Iteration 959\n",
      "2018-10-26 07:27:04,679 - root - INFO - 循环训练次数：Iteration 960\n",
      "2018-10-26 07:27:44,428 - root - INFO - 循环训练次数：Iteration 961\n",
      "2018-10-26 07:28:26,556 - root - INFO - 循环训练次数：Iteration 962\n",
      "2018-10-26 07:29:10,438 - root - INFO - 循环训练次数：Iteration 963\n",
      "2018-10-26 07:29:53,497 - root - INFO - 循环训练次数：Iteration 964\n",
      "2018-10-26 07:30:36,056 - root - INFO - 循环训练次数：Iteration 965\n",
      "2018-10-26 07:31:21,245 - root - INFO - 循环训练次数：Iteration 966\n",
      "2018-10-26 07:32:02,994 - root - INFO - 循环训练次数：Iteration 967\n",
      "2018-10-26 07:32:47,229 - root - INFO - 循环训练次数：Iteration 968\n",
      "2018-10-26 07:33:29,065 - root - INFO - 循环训练次数：Iteration 969\n"
     ]
    },
    {
     "name": "stdout",
     "output_type": "stream",
     "text": [
      "输出图片：循环训练次数：Iteration 969\n"
     ]
    },
    {
     "name": "stderr",
     "output_type": "stream",
     "text": [
      "2018-10-26 07:34:33,249 - root - INFO - ('Cost: ', 1956872100.0)\n",
      "2018-10-26 07:34:33,420 - root - INFO - 循环训练次数：Iteration 970\n",
      "2018-10-26 07:35:17,224 - root - INFO - 循环训练次数：Iteration 971\n",
      "2018-10-26 07:36:03,833 - root - INFO - 循环训练次数：Iteration 972\n",
      "2018-10-26 07:36:45,446 - root - INFO - 循环训练次数：Iteration 973\n",
      "2018-10-26 07:37:28,567 - root - INFO - 循环训练次数：Iteration 974\n",
      "2018-10-26 07:38:12,738 - root - INFO - 循环训练次数：Iteration 975\n",
      "2018-10-26 07:38:51,806 - root - INFO - 循环训练次数：Iteration 976\n",
      "2018-10-26 07:39:37,753 - root - INFO - 循环训练次数：Iteration 977\n",
      "2018-10-26 07:40:18,987 - root - INFO - 循环训练次数：Iteration 978\n",
      "2018-10-26 07:41:00,070 - root - INFO - 循环训练次数：Iteration 979\n",
      "2018-10-26 07:41:42,553 - root - INFO - 循环训练次数：Iteration 980\n",
      "2018-10-26 07:42:23,717 - root - INFO - 循环训练次数：Iteration 981\n",
      "2018-10-26 07:43:09,250 - root - INFO - 循环训练次数：Iteration 982\n",
      "2018-10-26 07:43:49,948 - root - INFO - 循环训练次数：Iteration 983\n",
      "2018-10-26 07:44:33,583 - root - INFO - 循环训练次数：Iteration 984\n",
      "2018-10-26 07:45:19,574 - root - INFO - 循环训练次数：Iteration 985\n",
      "2018-10-26 07:45:58,045 - root - INFO - 循环训练次数：Iteration 986\n",
      "2018-10-26 07:46:40,134 - root - INFO - 循环训练次数：Iteration 987\n",
      "2018-10-26 07:47:26,438 - root - INFO - 循环训练次数：Iteration 988\n"
     ]
    },
    {
     "name": "stdout",
     "output_type": "stream",
     "text": [
      "输出图片：循环训练次数：Iteration 988\n"
     ]
    },
    {
     "name": "stderr",
     "output_type": "stream",
     "text": [
      "2018-10-26 07:48:28,175 - root - INFO - ('Cost: ', 1860973200.0)\n",
      "2018-10-26 07:48:28,365 - root - INFO - 循环训练次数：Iteration 989\n",
      "2018-10-26 07:49:12,821 - root - INFO - 循环训练次数：Iteration 990\n",
      "2018-10-26 07:49:53,889 - root - INFO - 循环训练次数：Iteration 991\n",
      "2018-10-26 07:50:36,970 - root - INFO - 循环训练次数：Iteration 992\n",
      "2018-10-26 07:51:22,281 - root - INFO - 循环训练次数：Iteration 993\n",
      "2018-10-26 07:52:03,388 - root - INFO - 循环训练次数：Iteration 994\n",
      "2018-10-26 07:52:49,226 - root - INFO - 循环训练次数：Iteration 995\n",
      "2018-10-26 07:53:27,649 - root - INFO - 循环训练次数：Iteration 996\n",
      "2018-10-26 07:54:10,936 - root - INFO - 循环训练次数：Iteration 997\n",
      "2018-10-26 07:54:55,097 - root - INFO - 循环训练次数：Iteration 998\n",
      "2018-10-26 07:55:38,677 - root - INFO - 循环训练次数：Iteration 999\n",
      "2018-10-26 07:56:24,994 - root - INFO - 循环训练次数：Iteration 1000\n",
      "2018-10-26 07:57:03,370 - root - INFO - 循环训练次数：Iteration 1001\n",
      "2018-10-26 07:57:46,974 - root - INFO - 循环训练次数：Iteration 1002\n",
      "2018-10-26 07:58:28,394 - root - INFO - 循环训练次数：Iteration 1003\n",
      "2018-10-26 07:59:14,604 - root - INFO - 循环训练次数：Iteration 1004\n",
      "2018-10-26 07:59:55,796 - root - INFO - 循环训练次数：Iteration 1005\n",
      "2018-10-26 08:00:39,122 - root - INFO - 循环训练次数：Iteration 1006\n",
      "2018-10-26 08:01:22,603 - root - INFO - 循环训练次数：Iteration 1007\n"
     ]
    },
    {
     "name": "stdout",
     "output_type": "stream",
     "text": [
      "输出图片：循环训练次数：Iteration 1007\n"
     ]
    },
    {
     "name": "stderr",
     "output_type": "stream",
     "text": [
      "2018-10-26 08:02:25,960 - root - INFO - ('Cost: ', 1766436400.0)\n",
      "2018-10-26 08:02:26,155 - root - INFO - 循环训练次数：Iteration 1008\n",
      "2018-10-26 08:03:13,288 - root - INFO - 循环训练次数：Iteration 1009\n",
      "2018-10-26 08:03:56,038 - root - INFO - 循环训练次数：Iteration 1010\n",
      "2018-10-26 08:04:41,943 - root - INFO - 循环训练次数：Iteration 1011\n",
      "2018-10-26 08:05:22,120 - root - INFO - 循环训练次数：Iteration 1012\n",
      "2018-10-26 08:06:09,767 - root - INFO - 循环训练次数：Iteration 1013\n",
      "2018-10-26 08:06:51,497 - root - INFO - 循环训练次数：Iteration 1014\n",
      "2018-10-26 08:07:39,700 - root - INFO - 循环训练次数：Iteration 1015\n",
      "2018-10-26 08:08:22,287 - root - INFO - 循环训练次数：Iteration 1016\n",
      "2018-10-26 08:09:09,256 - root - INFO - 循环训练次数：Iteration 1017\n",
      "2018-10-26 08:09:50,593 - root - INFO - 循环训练次数：Iteration 1018\n",
      "2018-10-26 08:10:33,537 - root - INFO - 循环训练次数：Iteration 1019\n",
      "2018-10-26 08:11:16,648 - root - INFO - 循环训练次数：Iteration 1020\n",
      "2018-10-26 08:12:03,757 - root - INFO - 循环训练次数：Iteration 1021\n",
      "2018-10-26 08:12:45,535 - root - INFO - 循环训练次数：Iteration 1022\n",
      "2018-10-26 08:13:28,302 - root - INFO - 循环训练次数：Iteration 1023\n",
      "2018-10-26 08:14:13,401 - root - INFO - 循环训练次数：Iteration 1024\n",
      "2018-10-26 08:14:55,986 - root - INFO - 循环训练次数：Iteration 1025\n",
      "2018-10-26 08:15:40,682 - root - INFO - 循环训练次数：Iteration 1026\n"
     ]
    },
    {
     "name": "stdout",
     "output_type": "stream",
     "text": [
      "输出图片：循环训练次数：Iteration 1026\n"
     ]
    },
    {
     "name": "stderr",
     "output_type": "stream",
     "text": [
      "2018-10-26 08:16:42,605 - root - INFO - ('Cost: ', 1679956000.0)\n",
      "2018-10-26 08:16:42,793 - root - INFO - 循环训练次数：Iteration 1027\n",
      "2018-10-26 08:17:30,590 - root - INFO - 循环训练次数：Iteration 1028\n",
      "2018-10-26 08:18:16,487 - root - INFO - 循环训练次数：Iteration 1029\n",
      "2018-10-26 08:19:02,758 - root - INFO - 循环训练次数：Iteration 1030\n",
      "2018-10-26 08:19:42,506 - root - INFO - 循环训练次数：Iteration 1031\n",
      "2018-10-26 08:20:27,711 - root - INFO - 循环训练次数：Iteration 1032\n",
      "2018-10-26 08:21:09,802 - root - INFO - 循环训练次数：Iteration 1033\n",
      "2018-10-26 08:21:52,109 - root - INFO - 循环训练次数：Iteration 1034\n",
      "2018-10-26 08:22:38,117 - root - INFO - 循环训练次数：Iteration 1035\n",
      "2018-10-26 08:23:19,654 - root - INFO - 循环训练次数：Iteration 1036\n",
      "2018-10-26 08:24:01,323 - root - INFO - 循环训练次数：Iteration 1037\n",
      "2018-10-26 08:24:45,820 - root - INFO - 循环训练次数：Iteration 1038\n",
      "2018-10-26 08:25:29,553 - root - INFO - 循环训练次数：Iteration 1039\n",
      "2018-10-26 08:26:16,141 - root - INFO - 循环训练次数：Iteration 1040\n",
      "2018-10-26 08:26:54,430 - root - INFO - 循环训练次数：Iteration 1041\n",
      "2018-10-26 08:27:40,839 - root - INFO - 循环训练次数：Iteration 1042\n",
      "2018-10-26 08:28:22,629 - root - INFO - 循环训练次数：Iteration 1043\n",
      "2018-10-26 08:29:04,996 - root - INFO - 循环训练次数：Iteration 1044\n",
      "2018-10-26 08:29:47,897 - root - INFO - 循环训练次数：Iteration 1045\n"
     ]
    },
    {
     "name": "stdout",
     "output_type": "stream",
     "text": [
      "输出图片：循环训练次数：Iteration 1045\n"
     ]
    },
    {
     "name": "stderr",
     "output_type": "stream",
     "text": [
      "2018-10-26 08:30:52,264 - root - INFO - ('Cost: ', 1597964400.0)\n",
      "2018-10-26 08:30:52,460 - root - INFO - 循环训练次数：Iteration 1046\n",
      "2018-10-26 08:31:37,686 - root - INFO - 循环训练次数：Iteration 1047\n",
      "2018-10-26 08:32:20,676 - root - INFO - 循环训练次数：Iteration 1048\n",
      "2018-10-26 08:33:02,705 - root - INFO - 循环训练次数：Iteration 1049\n",
      "2018-10-26 08:33:46,678 - root - INFO - 循环训练次数：Iteration 1050\n",
      "2018-10-26 08:34:27,415 - root - INFO - 循环训练次数：Iteration 1051\n",
      "2018-10-26 08:35:12,963 - root - INFO - 循环训练次数：Iteration 1052\n",
      "2018-10-26 08:35:54,169 - root - INFO - 循环训练次数：Iteration 1053\n",
      "2018-10-26 08:36:35,542 - root - INFO - 循环训练次数：Iteration 1054\n",
      "2018-10-26 08:37:21,304 - root - INFO - 循环训练次数：Iteration 1055\n",
      "2018-10-26 08:38:03,710 - root - INFO - 循环训练次数：Iteration 1056\n",
      "2018-10-26 08:38:48,585 - root - INFO - 循环训练次数：Iteration 1057\n",
      "2018-10-26 08:39:30,684 - root - INFO - 循环训练次数：Iteration 1058\n",
      "2018-10-26 08:40:13,141 - root - INFO - 循环训练次数：Iteration 1059\n",
      "2018-10-26 08:40:58,801 - root - INFO - 循环训练次数：Iteration 1060\n",
      "2018-10-26 08:41:40,634 - root - INFO - 循环训练次数：Iteration 1061\n",
      "2018-10-26 08:42:24,061 - root - INFO - 循环训练次数：Iteration 1062\n",
      "2018-10-26 08:43:11,467 - root - INFO - 循环训练次数：Iteration 1063\n",
      "2018-10-26 08:43:52,937 - root - INFO - 循环训练次数：Iteration 1064\n"
     ]
    },
    {
     "name": "stdout",
     "output_type": "stream",
     "text": [
      "输出图片：循环训练次数：Iteration 1064\n"
     ]
    },
    {
     "name": "stderr",
     "output_type": "stream",
     "text": [
      "2018-10-26 08:44:54,073 - root - INFO - ('Cost: ', 1518752000.0)\n",
      "2018-10-26 08:44:54,274 - root - INFO - 循环训练次数：Iteration 1065\n",
      "2018-10-26 08:45:40,609 - root - INFO - 循环训练次数：Iteration 1066\n",
      "2018-10-26 08:46:23,546 - root - INFO - 循环训练次数：Iteration 1067\n",
      "2018-10-26 08:47:08,184 - root - INFO - 循环训练次数：Iteration 1068\n",
      "2018-10-26 08:47:55,519 - root - INFO - 循环训练次数：Iteration 1069\n",
      "2018-10-26 08:48:35,866 - root - INFO - 循环训练次数：Iteration 1070\n",
      "2018-10-26 08:49:18,304 - root - INFO - 循环训练次数：Iteration 1071\n",
      "2018-10-26 08:50:04,402 - root - INFO - 循环训练次数：Iteration 1072\n",
      "2018-10-26 08:50:46,899 - root - INFO - 循环训练次数：Iteration 1073\n",
      "2018-10-26 08:51:29,184 - root - INFO - 循环训练次数：Iteration 1074\n",
      "2018-10-26 08:52:15,260 - root - INFO - 循环训练次数：Iteration 1075\n",
      "2018-10-26 08:52:54,870 - root - INFO - 循环训练次数：Iteration 1076\n",
      "2018-10-26 08:53:37,179 - root - INFO - 循环训练次数：Iteration 1077\n",
      "2018-10-26 08:54:24,488 - root - INFO - 循环训练次数：Iteration 1078\n",
      "2018-10-26 08:55:06,736 - root - INFO - 循环训练次数：Iteration 1079\n",
      "2018-10-26 08:55:52,268 - root - INFO - 循环训练次数：Iteration 1080\n",
      "2018-10-26 08:56:33,743 - root - INFO - 循环训练次数：Iteration 1081\n",
      "2018-10-26 08:57:15,653 - root - INFO - 循环训练次数：Iteration 1082\n",
      "2018-10-26 08:57:55,318 - root - INFO - 循环训练次数：Iteration 1083\n"
     ]
    },
    {
     "name": "stdout",
     "output_type": "stream",
     "text": [
      "输出图片：循环训练次数：Iteration 1083\n"
     ]
    },
    {
     "name": "stderr",
     "output_type": "stream",
     "text": [
      "2018-10-26 08:58:55,676 - root - INFO - ('Cost: ', 1443075700.0)\n",
      "2018-10-26 08:58:55,869 - root - INFO - 循环训练次数：Iteration 1084\n",
      "2018-10-26 08:59:40,272 - root - INFO - 循环训练次数：Iteration 1085\n",
      "2018-10-26 09:00:23,782 - root - INFO - 循环训练次数：Iteration 1086\n",
      "2018-10-26 09:01:07,690 - root - INFO - 循环训练次数：Iteration 1087\n",
      "2018-10-26 09:01:53,963 - root - INFO - 循环训练次数：Iteration 1088\n",
      "2018-10-26 09:02:36,315 - root - INFO - 循环训练次数：Iteration 1089\n",
      "2018-10-26 09:03:18,793 - root - INFO - 循环训练次数：Iteration 1090\n",
      "2018-10-26 09:04:01,126 - root - INFO - 循环训练次数：Iteration 1091\n",
      "2018-10-26 09:04:44,588 - root - INFO - 循环训练次数：Iteration 1092\n",
      "2018-10-26 09:05:29,416 - root - INFO - 循环训练次数：Iteration 1093\n",
      "2018-10-26 09:06:11,830 - root - INFO - 循环训练次数：Iteration 1094\n",
      "2018-10-26 09:06:54,467 - root - INFO - 循环训练次数：Iteration 1095\n",
      "2018-10-26 09:07:39,793 - root - INFO - 循环训练次数：Iteration 1096\n",
      "2018-10-26 09:08:23,523 - root - INFO - 循环训练次数：Iteration 1097\n",
      "2018-10-26 09:09:09,218 - root - INFO - 循环训练次数：Iteration 1098\n",
      "2018-10-26 09:09:51,529 - root - INFO - 循环训练次数：Iteration 1099\n",
      "2018-10-26 09:10:36,312 - root - INFO - 循环训练次数：Iteration 1100\n",
      "2018-10-26 09:11:19,146 - root - INFO - 循环训练次数：Iteration 1101\n",
      "2018-10-26 09:12:06,308 - root - INFO - 循环训练次数：Iteration 1102\n"
     ]
    },
    {
     "name": "stdout",
     "output_type": "stream",
     "text": [
      "输出图片：循环训练次数：Iteration 1102\n"
     ]
    },
    {
     "name": "stderr",
     "output_type": "stream",
     "text": [
      "2018-10-26 09:13:09,816 - root - INFO - ('Cost: ', 1371217200.0)\n",
      "2018-10-26 09:13:10,018 - root - INFO - 循环训练次数：Iteration 1103\n",
      "2018-10-26 09:13:56,936 - root - INFO - 循环训练次数：Iteration 1104\n",
      "2018-10-26 09:14:41,222 - root - INFO - 循环训练次数：Iteration 1105\n",
      "2018-10-26 09:15:25,023 - root - INFO - 循环训练次数：Iteration 1106\n",
      "2018-10-26 09:16:09,700 - root - INFO - 循环训练次数：Iteration 1107\n",
      "2018-10-26 09:16:53,052 - root - INFO - 循环训练次数：Iteration 1108\n",
      "2018-10-26 09:17:38,501 - root - INFO - 循环训练次数：Iteration 1109\n",
      "2018-10-26 09:18:26,031 - root - INFO - 循环训练次数：Iteration 1110\n",
      "2018-10-26 09:19:13,909 - root - INFO - 循环训练次数：Iteration 1111\n",
      "2018-10-26 09:19:57,415 - root - INFO - 循环训练次数：Iteration 1112\n",
      "2018-10-26 09:20:43,031 - root - INFO - 循环训练次数：Iteration 1113\n",
      "2018-10-26 09:21:26,335 - root - INFO - 循环训练次数：Iteration 1114\n",
      "2018-10-26 09:22:11,756 - root - INFO - 循环训练次数：Iteration 1115\n",
      "2018-10-26 09:22:55,942 - root - INFO - 循环训练次数：Iteration 1116\n",
      "2018-10-26 09:23:44,173 - root - INFO - 循环训练次数：Iteration 1117\n",
      "2018-10-26 09:24:27,761 - root - INFO - 循环训练次数：Iteration 1118\n",
      "2018-10-26 09:25:10,821 - root - INFO - 循环训练次数：Iteration 1119\n",
      "2018-10-26 09:25:53,356 - root - INFO - 循环训练次数：Iteration 1120\n",
      "2018-10-26 09:26:30,851 - root - INFO - 循环训练次数：Iteration 1121\n"
     ]
    },
    {
     "name": "stdout",
     "output_type": "stream",
     "text": [
      "输出图片：循环训练次数：Iteration 1121\n"
     ]
    },
    {
     "name": "stderr",
     "output_type": "stream",
     "text": [
      "2018-10-26 09:27:28,431 - root - INFO - ('Cost: ', 1306036100.0)\n",
      "2018-10-26 09:27:28,552 - root - INFO - 循环训练次数：Iteration 1122\n",
      "2018-10-26 09:28:05,267 - root - INFO - 循环训练次数：Iteration 1123\n",
      "2018-10-26 09:28:40,694 - root - INFO - 循环训练次数：Iteration 1124\n",
      "2018-10-26 09:29:15,526 - root - INFO - 循环训练次数：Iteration 1125\n",
      "2018-10-26 09:29:48,465 - root - INFO - 循环训练次数：Iteration 1126\n",
      "2018-10-26 09:30:20,285 - root - INFO - 循环训练次数：Iteration 1127\n",
      "2018-10-26 09:30:46,052 - root - INFO - 循环训练次数：Iteration 1128\n",
      "2018-10-26 09:31:13,922 - root - INFO - 循环训练次数：Iteration 1129\n",
      "2018-10-26 09:31:41,394 - root - INFO - 循环训练次数：Iteration 1130\n",
      "2018-10-26 09:32:15,630 - root - INFO - 循环训练次数：Iteration 1131\n",
      "2018-10-26 09:32:46,072 - root - INFO - 循环训练次数：Iteration 1132\n",
      "2018-10-26 09:33:15,914 - root - INFO - 循环训练次数：Iteration 1133\n",
      "2018-10-26 09:33:43,592 - root - INFO - 循环训练次数：Iteration 1134\n",
      "2018-10-26 09:34:07,971 - root - INFO - 循环训练次数：Iteration 1135\n",
      "2018-10-26 09:34:35,563 - root - INFO - 循环训练次数：Iteration 1136\n",
      "2018-10-26 09:35:00,302 - root - INFO - 循环训练次数：Iteration 1137\n",
      "2018-10-26 09:35:27,761 - root - INFO - 循环训练次数：Iteration 1138\n",
      "2018-10-26 09:35:55,064 - root - INFO - 循环训练次数：Iteration 1139\n",
      "2018-10-26 09:36:22,360 - root - INFO - 循环训练次数：Iteration 1140\n"
     ]
    },
    {
     "name": "stdout",
     "output_type": "stream",
     "text": [
      "输出图片：循环训练次数：Iteration 1140\n"
     ]
    },
    {
     "name": "stderr",
     "output_type": "stream",
     "text": [
      "2018-10-26 09:36:57,326 - root - INFO - ('Cost: ', 1243712300.0)\n",
      "2018-10-26 09:36:57,414 - root - INFO - 循环训练次数：Iteration 1141\n",
      "2018-10-26 09:37:25,654 - root - INFO - 循环训练次数：Iteration 1142\n",
      "2018-10-26 09:37:53,163 - root - INFO - 循环训练次数：Iteration 1143\n",
      "2018-10-26 09:38:18,900 - root - INFO - 循环训练次数：Iteration 1144\n",
      "2018-10-26 09:38:44,021 - root - INFO - 循环训练次数：Iteration 1145\n",
      "2018-10-26 09:39:16,554 - root - INFO - 循环训练次数：Iteration 1146\n",
      "2018-10-26 09:39:43,033 - root - INFO - 循环训练次数：Iteration 1147\n"
     ]
    },
    {
     "ename": "KeyboardInterrupt",
     "evalue": "",
     "output_type": "error",
     "traceback": [
      "\u001b[0;31m---------------------------------------------------------------------------\u001b[0m",
      "\u001b[0;31mKeyboardInterrupt\u001b[0m                         Traceback (most recent call last)",
      "\u001b[0;32m<ipython-input-4-5548f867cc6e>\u001b[0m in \u001b[0;36m<module>\u001b[0;34m\u001b[0m\n\u001b[1;32m     27\u001b[0m         \u001b[0;32mfor\u001b[0m \u001b[0mi\u001b[0m \u001b[0;32min\u001b[0m \u001b[0mrange\u001b[0m\u001b[0;34m(\u001b[0m\u001b[0mITERATIONS\u001b[0m\u001b[0;34m)\u001b[0m\u001b[0;34m:\u001b[0m\u001b[0;34m\u001b[0m\u001b[0;34m\u001b[0m\u001b[0m\n\u001b[1;32m     28\u001b[0m                 \u001b[0mlogging\u001b[0m\u001b[0;34m.\u001b[0m\u001b[0minfo\u001b[0m\u001b[0;34m(\u001b[0m\u001b[0;34m'循环训练次数：Iteration %d'\u001b[0m \u001b[0;34m%\u001b[0m \u001b[0mi\u001b[0m\u001b[0;34m)\u001b[0m\u001b[0;34m\u001b[0m\u001b[0;34m\u001b[0m\u001b[0m\n\u001b[0;32m---> 29\u001b[0;31m                 \u001b[0msess\u001b[0m\u001b[0;34m.\u001b[0m\u001b[0mrun\u001b[0m\u001b[0;34m(\u001b[0m\u001b[0mtrain\u001b[0m\u001b[0;34m)\u001b[0m\u001b[0;34m\u001b[0m\u001b[0;34m\u001b[0m\u001b[0m\n\u001b[0m\u001b[1;32m     30\u001b[0m                 \u001b[0;32mif\u001b[0m \u001b[0mi\u001b[0m \u001b[0;34m%\u001b[0m \u001b[0;36m19\u001b[0m \u001b[0;34m==\u001b[0m \u001b[0;36m0\u001b[0m\u001b[0;34m:\u001b[0m\u001b[0;34m\u001b[0m\u001b[0;34m\u001b[0m\u001b[0m\n\u001b[1;32m     31\u001b[0m                         \u001b[0moutput_image\u001b[0m \u001b[0;34m=\u001b[0m \u001b[0msess\u001b[0m\u001b[0;34m.\u001b[0m\u001b[0mrun\u001b[0m\u001b[0;34m(\u001b[0m\u001b[0mmodel\u001b[0m\u001b[0;34m[\u001b[0m\u001b[0;34m'input'\u001b[0m\u001b[0;34m]\u001b[0m\u001b[0;34m)\u001b[0m\u001b[0;34m\u001b[0m\u001b[0;34m\u001b[0m\u001b[0m\n",
      "\u001b[0;32m/Library/Frameworks/Python.framework/Versions/3.6/lib/python3.6/site-packages/tensorflow/python/client/session.py\u001b[0m in \u001b[0;36mrun\u001b[0;34m(self, fetches, feed_dict, options, run_metadata)\u001b[0m\n\u001b[1;32m    885\u001b[0m     \u001b[0;32mtry\u001b[0m\u001b[0;34m:\u001b[0m\u001b[0;34m\u001b[0m\u001b[0;34m\u001b[0m\u001b[0m\n\u001b[1;32m    886\u001b[0m       result = self._run(None, fetches, feed_dict, options_ptr,\n\u001b[0;32m--> 887\u001b[0;31m                          run_metadata_ptr)\n\u001b[0m\u001b[1;32m    888\u001b[0m       \u001b[0;32mif\u001b[0m \u001b[0mrun_metadata\u001b[0m\u001b[0;34m:\u001b[0m\u001b[0;34m\u001b[0m\u001b[0;34m\u001b[0m\u001b[0m\n\u001b[1;32m    889\u001b[0m         \u001b[0mproto_data\u001b[0m \u001b[0;34m=\u001b[0m \u001b[0mtf_session\u001b[0m\u001b[0;34m.\u001b[0m\u001b[0mTF_GetBuffer\u001b[0m\u001b[0;34m(\u001b[0m\u001b[0mrun_metadata_ptr\u001b[0m\u001b[0;34m)\u001b[0m\u001b[0;34m\u001b[0m\u001b[0;34m\u001b[0m\u001b[0m\n",
      "\u001b[0;32m/Library/Frameworks/Python.framework/Versions/3.6/lib/python3.6/site-packages/tensorflow/python/client/session.py\u001b[0m in \u001b[0;36m_run\u001b[0;34m(self, handle, fetches, feed_dict, options, run_metadata)\u001b[0m\n\u001b[1;32m   1108\u001b[0m     \u001b[0;32mif\u001b[0m \u001b[0mfinal_fetches\u001b[0m \u001b[0;32mor\u001b[0m \u001b[0mfinal_targets\u001b[0m \u001b[0;32mor\u001b[0m \u001b[0;34m(\u001b[0m\u001b[0mhandle\u001b[0m \u001b[0;32mand\u001b[0m \u001b[0mfeed_dict_tensor\u001b[0m\u001b[0;34m)\u001b[0m\u001b[0;34m:\u001b[0m\u001b[0;34m\u001b[0m\u001b[0;34m\u001b[0m\u001b[0m\n\u001b[1;32m   1109\u001b[0m       results = self._do_run(handle, final_targets, final_fetches,\n\u001b[0;32m-> 1110\u001b[0;31m                              feed_dict_tensor, options, run_metadata)\n\u001b[0m\u001b[1;32m   1111\u001b[0m     \u001b[0;32melse\u001b[0m\u001b[0;34m:\u001b[0m\u001b[0;34m\u001b[0m\u001b[0;34m\u001b[0m\u001b[0m\n\u001b[1;32m   1112\u001b[0m       \u001b[0mresults\u001b[0m \u001b[0;34m=\u001b[0m \u001b[0;34m[\u001b[0m\u001b[0;34m]\u001b[0m\u001b[0;34m\u001b[0m\u001b[0;34m\u001b[0m\u001b[0m\n",
      "\u001b[0;32m/Library/Frameworks/Python.framework/Versions/3.6/lib/python3.6/site-packages/tensorflow/python/client/session.py\u001b[0m in \u001b[0;36m_do_run\u001b[0;34m(self, handle, target_list, fetch_list, feed_dict, options, run_metadata)\u001b[0m\n\u001b[1;32m   1284\u001b[0m     \u001b[0;32mif\u001b[0m \u001b[0mhandle\u001b[0m \u001b[0;32mis\u001b[0m \u001b[0;32mNone\u001b[0m\u001b[0;34m:\u001b[0m\u001b[0;34m\u001b[0m\u001b[0;34m\u001b[0m\u001b[0m\n\u001b[1;32m   1285\u001b[0m       return self._do_call(_run_fn, feeds, fetches, targets, options,\n\u001b[0;32m-> 1286\u001b[0;31m                            run_metadata)\n\u001b[0m\u001b[1;32m   1287\u001b[0m     \u001b[0;32melse\u001b[0m\u001b[0;34m:\u001b[0m\u001b[0;34m\u001b[0m\u001b[0;34m\u001b[0m\u001b[0m\n\u001b[1;32m   1288\u001b[0m       \u001b[0;32mreturn\u001b[0m \u001b[0mself\u001b[0m\u001b[0;34m.\u001b[0m\u001b[0m_do_call\u001b[0m\u001b[0;34m(\u001b[0m\u001b[0m_prun_fn\u001b[0m\u001b[0;34m,\u001b[0m \u001b[0mhandle\u001b[0m\u001b[0;34m,\u001b[0m \u001b[0mfeeds\u001b[0m\u001b[0;34m,\u001b[0m \u001b[0mfetches\u001b[0m\u001b[0;34m)\u001b[0m\u001b[0;34m\u001b[0m\u001b[0;34m\u001b[0m\u001b[0m\n",
      "\u001b[0;32m/Library/Frameworks/Python.framework/Versions/3.6/lib/python3.6/site-packages/tensorflow/python/client/session.py\u001b[0m in \u001b[0;36m_do_call\u001b[0;34m(self, fn, *args)\u001b[0m\n\u001b[1;32m   1290\u001b[0m   \u001b[0;32mdef\u001b[0m \u001b[0m_do_call\u001b[0m\u001b[0;34m(\u001b[0m\u001b[0mself\u001b[0m\u001b[0;34m,\u001b[0m \u001b[0mfn\u001b[0m\u001b[0;34m,\u001b[0m \u001b[0;34m*\u001b[0m\u001b[0margs\u001b[0m\u001b[0;34m)\u001b[0m\u001b[0;34m:\u001b[0m\u001b[0;34m\u001b[0m\u001b[0;34m\u001b[0m\u001b[0m\n\u001b[1;32m   1291\u001b[0m     \u001b[0;32mtry\u001b[0m\u001b[0;34m:\u001b[0m\u001b[0;34m\u001b[0m\u001b[0;34m\u001b[0m\u001b[0m\n\u001b[0;32m-> 1292\u001b[0;31m       \u001b[0;32mreturn\u001b[0m \u001b[0mfn\u001b[0m\u001b[0;34m(\u001b[0m\u001b[0;34m*\u001b[0m\u001b[0margs\u001b[0m\u001b[0;34m)\u001b[0m\u001b[0;34m\u001b[0m\u001b[0;34m\u001b[0m\u001b[0m\n\u001b[0m\u001b[1;32m   1293\u001b[0m     \u001b[0;32mexcept\u001b[0m \u001b[0merrors\u001b[0m\u001b[0;34m.\u001b[0m\u001b[0mOpError\u001b[0m \u001b[0;32mas\u001b[0m \u001b[0me\u001b[0m\u001b[0;34m:\u001b[0m\u001b[0;34m\u001b[0m\u001b[0;34m\u001b[0m\u001b[0m\n\u001b[1;32m   1294\u001b[0m       \u001b[0mmessage\u001b[0m \u001b[0;34m=\u001b[0m \u001b[0mcompat\u001b[0m\u001b[0;34m.\u001b[0m\u001b[0mas_text\u001b[0m\u001b[0;34m(\u001b[0m\u001b[0me\u001b[0m\u001b[0;34m.\u001b[0m\u001b[0mmessage\u001b[0m\u001b[0;34m)\u001b[0m\u001b[0;34m\u001b[0m\u001b[0;34m\u001b[0m\u001b[0m\n",
      "\u001b[0;32m/Library/Frameworks/Python.framework/Versions/3.6/lib/python3.6/site-packages/tensorflow/python/client/session.py\u001b[0m in \u001b[0;36m_run_fn\u001b[0;34m(feed_dict, fetch_list, target_list, options, run_metadata)\u001b[0m\n\u001b[1;32m   1275\u001b[0m       \u001b[0mself\u001b[0m\u001b[0;34m.\u001b[0m\u001b[0m_extend_graph\u001b[0m\u001b[0;34m(\u001b[0m\u001b[0;34m)\u001b[0m\u001b[0;34m\u001b[0m\u001b[0;34m\u001b[0m\u001b[0m\n\u001b[1;32m   1276\u001b[0m       return self._call_tf_sessionrun(\n\u001b[0;32m-> 1277\u001b[0;31m           options, feed_dict, fetch_list, target_list, run_metadata)\n\u001b[0m\u001b[1;32m   1278\u001b[0m \u001b[0;34m\u001b[0m\u001b[0m\n\u001b[1;32m   1279\u001b[0m     \u001b[0;32mdef\u001b[0m \u001b[0m_prun_fn\u001b[0m\u001b[0;34m(\u001b[0m\u001b[0mhandle\u001b[0m\u001b[0;34m,\u001b[0m \u001b[0mfeed_dict\u001b[0m\u001b[0;34m,\u001b[0m \u001b[0mfetch_list\u001b[0m\u001b[0;34m)\u001b[0m\u001b[0;34m:\u001b[0m\u001b[0;34m\u001b[0m\u001b[0;34m\u001b[0m\u001b[0m\n",
      "\u001b[0;32m/Library/Frameworks/Python.framework/Versions/3.6/lib/python3.6/site-packages/tensorflow/python/client/session.py\u001b[0m in \u001b[0;36m_call_tf_sessionrun\u001b[0;34m(self, options, feed_dict, fetch_list, target_list, run_metadata)\u001b[0m\n\u001b[1;32m   1365\u001b[0m     return tf_session.TF_SessionRun_wrapper(\n\u001b[1;32m   1366\u001b[0m         \u001b[0mself\u001b[0m\u001b[0;34m.\u001b[0m\u001b[0m_session\u001b[0m\u001b[0;34m,\u001b[0m \u001b[0moptions\u001b[0m\u001b[0;34m,\u001b[0m \u001b[0mfeed_dict\u001b[0m\u001b[0;34m,\u001b[0m \u001b[0mfetch_list\u001b[0m\u001b[0;34m,\u001b[0m \u001b[0mtarget_list\u001b[0m\u001b[0;34m,\u001b[0m\u001b[0;34m\u001b[0m\u001b[0;34m\u001b[0m\u001b[0m\n\u001b[0;32m-> 1367\u001b[0;31m         run_metadata)\n\u001b[0m\u001b[1;32m   1368\u001b[0m \u001b[0;34m\u001b[0m\u001b[0m\n\u001b[1;32m   1369\u001b[0m   \u001b[0;32mdef\u001b[0m \u001b[0m_call_tf_sessionprun\u001b[0m\u001b[0;34m(\u001b[0m\u001b[0mself\u001b[0m\u001b[0;34m,\u001b[0m \u001b[0mhandle\u001b[0m\u001b[0;34m,\u001b[0m \u001b[0mfeed_dict\u001b[0m\u001b[0;34m,\u001b[0m \u001b[0mfetch_list\u001b[0m\u001b[0;34m)\u001b[0m\u001b[0;34m:\u001b[0m\u001b[0;34m\u001b[0m\u001b[0;34m\u001b[0m\u001b[0m\n",
      "\u001b[0;31mKeyboardInterrupt\u001b[0m: "
     ]
    }
   ],
   "source": [
    "the_current_time()\n",
    "logging.info(\"准备载入神经网络\")\n",
    "with tf.Session() as sess:\n",
    "\tcontent_image = load_image(CONTENT_IMG)\n",
    "\tstyle_image = load_image(STYLE_IMG)\n",
    "\tmodel = load_vgg_model(VGG_MODEL)\n",
    "\tlogging.info(\"VGG_MODEL模型读取 OK\")\n",
    "\n",
    "\tinput_image = generate_noise_image(content_image)\n",
    "\tsess.run(tf.global_variables_initializer())\n",
    "\n",
    "\tsess.run(model['input'].assign(content_image))\n",
    "\tcontent_loss = content_loss_func(sess, model)\n",
    "\n",
    "\tsess.run(model['input'].assign(style_image))\n",
    "\tstyle_loss = style_loss_func(sess, model)\n",
    "\n",
    "\ttotal_loss = BETA * content_loss + ALPHA * style_loss\n",
    "\toptimizer = tf.train.AdamOptimizer(2.0)\n",
    "\ttrain = optimizer.minimize(total_loss)\n",
    "\n",
    "\tsess.run(tf.global_variables_initializer())\n",
    "\tsess.run(model['input'].assign(input_image))\n",
    "\n",
    "\tITERATIONS = 1672\n",
    "\tlogging.info(\"开始干活，神经网络开搞\")\n",
    "\tfor i in range(ITERATIONS):\n",
    "\t\tlogging.info('循环训练次数：Iteration %d' % i)\n",
    "\t\tsess.run(train)\n",
    "\t\tif i % 19 == 0:\n",
    "\t\t\toutput_image = sess.run(model['input'])\n",
    "\t\t\t# show_feature(output_image) # 想看哪一层输出？show_feature(sess.run(model['input']))\n",
    "\t\t\tprint('输出图片：循环训练次数：Iteration %d' % i)\n",
    "\t\t\tlogging.info(('Cost: ' , sess.run(total_loss)))\n",
    "\t\t\tsave_image(os.path.join(OUTPUT_DIR, 'output%d.jpg' % i), output_image)"
   ]
  },
  {
   "cell_type": "code",
   "execution_count": 5,
   "metadata": {},
   "outputs": [
    {
     "name": "stdout",
     "output_type": "stream",
     "text": [
      "scipy.__version__ 1.1.0 tf.__version__ 1.11.0 np.__version__ 1.15.3 Python 版本为 3.6.7 (v3.6.7:6ec5cf24b7, Oct 20 2018, 00:28:22) \n",
      "[GCC 4.2.1 (Apple Inc. build 5666) (dot 3)]\n"
     ]
    }
   ],
   "source": [
    "print(\"scipy.__version__\",scipy.__version__,\n",
    "\"tf.__version__\",tf.__version__,\n",
    "\"np.__version__\",np.__version__,\"Python 版本为\",sys.version)"
   ]
  },
  {
   "cell_type": "code",
   "execution_count": null,
   "metadata": {},
   "outputs": [],
   "source": []
  }
 ],
 "metadata": {
  "kernelspec": {
   "display_name": "Python 3",
   "language": "python",
   "name": "python3"
  },
  "language_info": {
   "codemirror_mode": {
    "name": "ipython",
    "version": 3
   },
   "file_extension": ".py",
   "mimetype": "text/x-python",
   "name": "python",
   "nbconvert_exporter": "python",
   "pygments_lexer": "ipython3",
   "version": "3.6.7"
  }
 },
 "nbformat": 4,
 "nbformat_minor": 2
}

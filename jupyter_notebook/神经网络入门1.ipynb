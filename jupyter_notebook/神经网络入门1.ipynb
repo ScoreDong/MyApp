{
 "cells": [
  {
   "cell_type": "code",
   "execution_count": 1,
   "metadata": {
    "collapsed": true
   },
   "outputs": [],
   "source": [
    "import numpy as np #科学计算模块"
   ]
  },
  {
   "cell_type": "code",
   "execution_count": 2,
   "metadata": {
    "collapsed": true
   },
   "outputs": [],
   "source": [
    "# create data 创建最简单的神经网络模型 ，生成一组（x，y）用作训练数据\n",
    "# 我们要提供一系列已经存在的(x,y) 组合，这个叫做训练集，我们先用代码生成 100 组训练集，先随机生成 5 组 x 的值，命名为 x_data，其中使用 np.random.random(]) 来生成随机数，令数据类型为浮点数 np.float32 以便于计算：\n",
    "x_data = np.random.rand(100).astype(np.float32) #生成100个随机数列，数据类型是float32，tf中大多数都用的是float32\n",
    "\n",
    "#根据公式求得 y_data 的值\n",
    "y_data = x_data*0.1 + 1.3 #0.1为权重，1.3为偏置"
   ]
  },
  {
   "cell_type": "code",
   "execution_count": 3,
   "metadata": {},
   "outputs": [
    {
     "name": "stdout",
     "output_type": "stream",
     "text": [
      "x_data： [ 0.48542774  0.89798075  0.79349548  0.22034074  0.90554023] \n",
      " y_data [ 1.34854269  1.38979805  1.37934947  1.322034    1.39055395]\n"
     ]
    }
   ],
   "source": [
    "# 结果如下，其中随机数每次执行会不一样(只展示前5个)：\n",
    "print('x_data：',x_data[0:5],'\\n','y_data',y_data[0:5])"
   ]
  },
  {
   "cell_type": "code",
   "execution_count": 4,
   "metadata": {
    "collapsed": true
   },
   "outputs": [],
   "source": [
    "import tensorflow as tf\n",
    "### create tensorflow structure start ###设计预测模型\n",
    "\n",
    "Weights = tf.Variable(tf.random_uniform([1], -1.0, 1.0))#用Variable初始化Weights权重变量-随机数列生成-1到1的1维数据，\n",
    "\n",
    "biases = tf.Variable(tf.zeros([1])) #偏置初始化为0，\n",
    "\n",
    "y = Weights*x_data + biases #所要预测的y，通过训练使得y逼近真实的y_data，优化得到的参数变量就即Weights和biases\n",
    "\n",
    "loss = tf.reduce_mean(tf.square(y-y_data)) #预测的y和实际的y_data的差别，即均方差\n",
    "\n",
    "optimizer = tf.train.GradientDescentOptimizer(0.5) #用tf的梯度下降优化器减少误差loss，提升参数的准确度，0.5为学习效率（一般小于1）)\n",
    "\n",
    "train = optimizer.minimize(loss) #训练以减少误差\n",
    "\n",
    " \n",
    "\n",
    "init = tf.global_variables_initializer() #初始化tf结构图中的所有变量，这里是Weights和biases\n",
    "\n",
    "### create tensorflow structure end ###"
   ]
  },
  {
   "cell_type": "code",
   "execution_count": 5,
   "metadata": {
    "collapsed": true
   },
   "outputs": [],
   "source": [
    "sess = tf.Session() #激活创建的结构图，Sesssion是神经网路的执行命令的对话控制\n",
    "\n",
    "sess.run(init) #激活init，也就是所有结构"
   ]
  },
  {
   "cell_type": "code",
   "execution_count": 6,
   "metadata": {},
   "outputs": [
    {
     "name": "stdout",
     "output_type": "stream",
     "text": [
      "0 [ 0.37077975] [ 1.65979147] Tensor(\"Abs:0\", shape=(), dtype=float32)\n",
      "20 [ 0.11386891] [ 1.29208684] Tensor(\"Abs_1:0\", shape=(), dtype=float32)\n",
      "40 [ 0.10389286] [ 1.29777884] Tensor(\"Abs_2:0\", shape=(), dtype=float32)\n",
      "60 [ 0.10109272] [ 1.29937649] Tensor(\"Abs_3:0\", shape=(), dtype=float32)\n",
      "80 [ 0.10030669] [ 1.29982495] Tensor(\"Abs_4:0\", shape=(), dtype=float32)\n",
      "100 [ 0.10008608] [ 1.29995084] Tensor(\"Abs_5:0\", shape=(), dtype=float32)\n",
      "120 [ 0.10002412] [ 1.29998612] Tensor(\"Abs_6:0\", shape=(), dtype=float32)\n",
      "140 [ 0.10000671] [ 1.29999614] Tensor(\"Abs_7:0\", shape=(), dtype=float32)\n",
      "160 [ 0.10000189] [ 1.29999888] Tensor(\"Abs_8:0\", shape=(), dtype=float32)\n",
      "180 [ 0.10000054] [ 1.29999959] Tensor(\"Abs_9:0\", shape=(), dtype=float32)\n",
      "200 [ 0.10000034] [ 1.29999971] Tensor(\"Abs_10:0\", shape=(), dtype=float32)\n"
     ]
    }
   ],
   "source": [
    "for step in range(201):#让神经网络一步一步的训练 201步\n",
    "    sess.run(train) # 开始训练\n",
    "    if step % 20 == 0: #每间隔20步打印以下训练得到的变量值\n",
    "        print(step, sess.run(Weights), sess.run(biases),abs(loss))"
   ]
  },
  {
   "cell_type": "code",
   "execution_count": null,
   "metadata": {
    "collapsed": true
   },
   "outputs": [],
   "source": []
  }
 ],
 "metadata": {
  "kernelspec": {
   "display_name": "Python 3",
   "language": "python",
   "name": "python3"
  },
  "language_info": {
   "codemirror_mode": {
    "name": "ipython",
    "version": 3
   },
   "file_extension": ".py",
   "mimetype": "text/x-python",
   "name": "python",
   "nbconvert_exporter": "python",
   "pygments_lexer": "ipython3",
   "version": "3.6.3"
  }
 },
 "nbformat": 4,
 "nbformat_minor": 2
}

{
 "cells": [
  {
   "cell_type": "code",
   "execution_count": 1,
   "metadata": {},
   "outputs": [],
   "source": [
    "# 先让我们实现一个产品类\n",
    "class 产品类:\n",
    "    def __init__(self,名称,价格,库存数量,商品编码):\n",
    "        self.名称=名称\n",
    "        self.价格=价格\n",
    "        self.库存数量=库存数量\n",
    "        self.商品编码=商品编码\n",
    "    def __str__(self):\n",
    "        return '名称:%s,价格:%s,库存:%s,商品:%s'%(self.名称,self.价格,self.库存数量,self.商品编码)"
   ]
  },
  {
   "cell_type": "code",
   "execution_count": 2,
   "metadata": {
    "scrolled": true
   },
   "outputs": [
    {
     "name": "stdout",
     "output_type": "stream",
     "text": [
      "名称:产品A,价格:100,库存:10000,商品:A\n",
      "名称:产品B,价格:50,库存:666666,商品:B\n",
      "名称:产品A,价格:20,库存:999999,商品:C\n"
     ]
    }
   ],
   "source": [
    "# 看一下效果\n",
    "产品A=产品类('产品A',100,10000,'A')\n",
    "print(产品A)\n",
    "产品B=产品类('产品B',50,666666,'B')\n",
    "print(产品B)\n",
    "产品C=产品类('产品A',20,999999,'C')\n",
    "print(产品C)"
   ]
  },
  {
   "cell_type": "code",
   "execution_count": 3,
   "metadata": {},
   "outputs": [],
   "source": [
    "# 接下来让我们实现一个库存类\n",
    "class stock:\n",
    "    def __init__(self):\n",
    "        self.goods=[]\n",
    "    def add(self,product):\n",
    "        \"\"\"\n",
    "        添加新产品：\n",
    "        如果有新产品，直接添加到原有库存中。\n",
    "        不是新产品则添加数量。\n",
    "        \"\"\"\n",
    "        #goods中有库存\n",
    "        if len(self.goods)>0:\n",
    "            flag=True\n",
    "            for i in self.goods:\n",
    "                if(i.商品编码==product.商品编码):\n",
    "                    i.库存数量+=product.库存数量\n",
    "                    flag=False\n",
    "                    break\n",
    "            if(flag):\n",
    "                self.goods.append(product)\n",
    "        #goods中无库存\n",
    "        else:\n",
    "            self.goods.append(product)\n",
    "            \n",
    "    def dele(self,product):\n",
    "        \"\"\"\n",
    "        取出产品产品：\n",
    "            库存中有产品：\n",
    "                产品数量小于所需数量：\n",
    "                    输出提示--库存不够，只有多少数量\n",
    "                产品数大于或等于所需数量：\n",
    "                    减少库存，并输出提示--剩余库存数量\n",
    "            库存中没有产品：\n",
    "                输出提示--没有产品\n",
    "        \"\"\"\n",
    "        flag=0\n",
    "        for i in range(len(self.goods)):\n",
    "            if(self.goods[i].商品编码==product.商品编码 and self.goods[i].名称==product.名称):\n",
    "                flag=1\n",
    "                if(self.goods[i].库存数量>=product.库存数量):\n",
    "                    self.goods[i].库存数量-=product.库存数量\n",
    "                    print('产品ID：%s | 产品名称：%s | 产品剩余数量：%s | 产品价格：%s'%(self.goods[i].商品编码,self.goods[i].名称,self.goods[i].库存数量,self.goods[i].价格))\n",
    "                else:\n",
    "                    print('产品ID：%s | 产品名称：%s | 产品数量：%s | 产品价格：%s'%(self.goods[i].商品编码,self.goods[i].名称,self.goods[i].库存数量,self.goods[i].价格))\n",
    "                    print(\"库存数量不足！！\")\n",
    "                break\n",
    "        if(flag==0):\n",
    "            print(\"库存中没有该产品！！\")\n",
    "                    \n",
    "    def list(self,l):\n",
    "        \"\"\"\n",
    "        查找产品：\n",
    "            库存中有产品：\n",
    "                输出产品详情\n",
    "            库存中没有产品：\n",
    "                输出提示--没有产品\n",
    "        \"\"\"\n",
    "        flag=0\n",
    "        if ( isinstance(l,int) ):\n",
    "            for i in range(len(self.goods)):\n",
    "                if(self.goods[i].商品编码==l):\n",
    "                    flag=1\n",
    "                    print('产品ID：%s | 产品名称：%s | 产品数量：%s | 产品价格：%s'%(self.goods[i].商品编码,self.goods[i].名称,self.goods[i].库存数量,self.goods[i].价格))\n",
    "            if(flag==0):\n",
    "                print(\"库存中没有该产品！！\")\n",
    " \n",
    "        else:\n",
    "            for i in range(len(self.goods)):\n",
    "                if(self.goods[i].名称==l):\n",
    "                    flag=1\n",
    "                    print('产品ID：%s | 产品名称：%s | 产品数量：%s | 产品价格：%s'%(self.goods[i].商品编码,self.goods[i].名称,self.goods[i].库存数量,self.goods[i].价格))\n",
    "            if(flag==0):\n",
    "                    print(\"库存中没有该产品！！\")\n",
    " \n",
    "    def list_all(self):\n",
    "        n=0\n",
    "        c=0\n",
    "        for i in range(len(self.goods)):\n",
    "            n+=self.goods[i].库存数量\n",
    "            c+=self.goods[i].库存数量*self.goods[i].价格\n",
    "            print('产品ID：%s | 产品名称：%s | 产品数量：%s | 产品价格：%s'%(self.goods[i].商品编码,self.goods[i].名称,self.goods[i].库存数量,self.goods[i].价格))\n",
    "        print('-'*50)\n",
    "        print('总计：     |             | 产品总数：%s |产品总价：%s'%(n,c))"
   ]
  },
  {
   "cell_type": "code",
   "execution_count": 9,
   "metadata": {},
   "outputs": [
    {
     "name": "stdout",
     "output_type": "stream",
     "text": [
      "产品ID：A | 产品名称：产品A | 产品数量：80000 | 产品价格：100\n",
      "产品ID：B | 产品名称：产品B | 产品数量：666666 | 产品价格：50\n",
      "产品ID：C | 产品名称：产品A | 产品数量：999999 | 产品价格：20\n",
      "--------------------------------------------------\n",
      "总计：     |             | 产品总数：1746665 |产品总价：61333280\n"
     ]
    }
   ],
   "source": [
    "#看一下能不能实现我们需求：\n",
    "仓库A=stock()\n",
    "仓库A.add(产品A)\n",
    "仓库A.add(产品B)\n",
    "仓库A.add(产品C)\n",
    "仓库A.list_all()"
   ]
  },
  {
   "cell_type": "code",
   "execution_count": 7,
   "metadata": {},
   "outputs": [
    {
     "name": "stdout",
     "output_type": "stream",
     "text": [
      "名称:产品A,价格:100,库存:80000,商品:A\n",
      "名称:产品B,价格:50,库存:666666,商品:B\n",
      "名称:产品A,价格:20,库存:999999,商品:C\n"
     ]
    }
   ],
   "source": [
    "for i in 仓库A.goods:\n",
    "    print(i)"
   ]
  }
 ],
 "metadata": {
  "kernelspec": {
   "display_name": "Python 3",
   "language": "python",
   "name": "python3"
  },
  "language_info": {
   "codemirror_mode": {
    "name": "ipython",
    "version": 3
   },
   "file_extension": ".py",
   "mimetype": "text/x-python",
   "name": "python",
   "nbconvert_exporter": "python",
   "pygments_lexer": "ipython3",
   "version": "3.7.5"
  }
 },
 "nbformat": 4,
 "nbformat_minor": 2
}

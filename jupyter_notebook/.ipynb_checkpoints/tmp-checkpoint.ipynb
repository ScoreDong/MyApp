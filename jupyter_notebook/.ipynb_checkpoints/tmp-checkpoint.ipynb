{
 "cells": [
  {
   "cell_type": "code",
   "execution_count": 27,
   "metadata": {},
   "outputs": [],
   "source": [
    "import pandas,numpy\n",
    "\n",
    "fl = pandas.read_csv(r'F:\\\\OneDrive\\\\华莱士\\\\Documents\\\\门店监控项目\\\\城市-营运-督导-门店.csv',encoding='gbk').astype('str')\n",
    "\n",
    "def 一发入魂(n=None, frac=None, replace=False):\n",
    "    return fl.sample(n=n,frac=frac,replace=replace)\n",
    "\n",
    "\n",
    "# 抽签开始\n",
    "\n",
    "def 抽个区域(n=None, frac=None, replace=False):\n",
    "    return fl['区域'].sample(n=n,frac=frac,replace=replace)\n",
    "\n",
    "def 按区域抽(区域,n=None, frac=None, replace=False):\n",
    "    return fl[fl['区域']==区域].sample(n=n,frac=frac,replace=replace)\n",
    "\n",
    "def 按城市经理抽(城市经理,n=None, frac=None, replace=False):\n",
    "    return fl[fl['城市经理']==城市经理].sample(n=n,frac=frac,replace=replace)\n",
    "\n",
    "def 按督导抽(督导,n=None, frac=None, replace=False):\n",
    "    return fl[fl['督导']==督导].sample(n=n,frac=frac,replace=replace)\n",
    "\n",
    "# 直接选\n",
    "\n",
    "def 选个区域():\n",
    "    return fl['区域'].drop_duplicates().sample(frac=1,random_state=numpy.random.RandomState())\n",
    "\n",
    "def 选个城市经理(区域):\n",
    "    return fl[fl['区域']==区域]['城市经理'].drop_duplicates().sample(frac=1,random_state=numpy.random.RandomState())\n",
    "\n",
    "def 选个督导(城市经理):\n",
    "    return fl[fl['城市经理']==城市经理]['督导'].drop_duplicates().sample(frac=1,random_state=numpy.random.RandomState())"
   ]
  },
  {
   "cell_type": "code",
   "execution_count": 28,
   "metadata": {},
   "outputs": [
    {
     "data": {
      "text/html": [
       "<div>\n",
       "<style scoped>\n",
       "    .dataframe tbody tr th:only-of-type {\n",
       "        vertical-align: middle;\n",
       "    }\n",
       "\n",
       "    .dataframe tbody tr th {\n",
       "        vertical-align: top;\n",
       "    }\n",
       "\n",
       "    .dataframe thead th {\n",
       "        text-align: right;\n",
       "    }\n",
       "</style>\n",
       "<table border=\"1\" class=\"dataframe\">\n",
       "  <thead>\n",
       "    <tr style=\"text-align: right;\">\n",
       "      <th></th>\n",
       "      <th>区域</th>\n",
       "      <th>区总/省营运经理</th>\n",
       "      <th>城市经理</th>\n",
       "      <th>督导</th>\n",
       "      <th>门店名称</th>\n",
       "      <th>店长</th>\n",
       "    </tr>\n",
       "  </thead>\n",
       "  <tbody>\n",
       "    <tr>\n",
       "      <td>97</td>\n",
       "      <td>上海</td>\n",
       "      <td>杨和勇（区总）</td>\n",
       "      <td>蔡欢</td>\n",
       "      <td>陈婷婷</td>\n",
       "      <td>都市</td>\n",
       "      <td>王春秀</td>\n",
       "    </tr>\n",
       "  </tbody>\n",
       "</table>\n",
       "</div>"
      ],
      "text/plain": [
       "    区域 区总/省营运经理 城市经理   督导 门店名称   店长\n",
       "97  上海  杨和勇（区总）   蔡欢  陈婷婷   都市  王春秀"
      ]
     },
     "execution_count": 28,
     "metadata": {},
     "output_type": "execute_result"
    }
   ],
   "source": [
    "按区域抽(区域='上海')"
   ]
  },
  {
   "cell_type": "code",
   "execution_count": 29,
   "metadata": {},
   "outputs": [
    {
     "data": {
      "text/html": [
       "<div>\n",
       "<style scoped>\n",
       "    .dataframe tbody tr th:only-of-type {\n",
       "        vertical-align: middle;\n",
       "    }\n",
       "\n",
       "    .dataframe tbody tr th {\n",
       "        vertical-align: top;\n",
       "    }\n",
       "\n",
       "    .dataframe thead th {\n",
       "        text-align: right;\n",
       "    }\n",
       "</style>\n",
       "<table border=\"1\" class=\"dataframe\">\n",
       "  <thead>\n",
       "    <tr style=\"text-align: right;\">\n",
       "      <th></th>\n",
       "      <th>区域</th>\n",
       "      <th>区总/省营运经理</th>\n",
       "      <th>城市经理</th>\n",
       "      <th>督导</th>\n",
       "      <th>门店名称</th>\n",
       "      <th>店长</th>\n",
       "    </tr>\n",
       "  </thead>\n",
       "  <tbody>\n",
       "    <tr>\n",
       "      <td>56</td>\n",
       "      <td>上海</td>\n",
       "      <td>杨和勇（区总）</td>\n",
       "      <td>蔡欢</td>\n",
       "      <td>叶晨生</td>\n",
       "      <td>高桥二店</td>\n",
       "      <td>陈钧毅</td>\n",
       "    </tr>\n",
       "  </tbody>\n",
       "</table>\n",
       "</div>"
      ],
      "text/plain": [
       "    区域 区总/省营运经理 城市经理   督导  门店名称   店长\n",
       "56  上海  杨和勇（区总）   蔡欢  叶晨生  高桥二店  陈钧毅"
      ]
     },
     "execution_count": 29,
     "metadata": {},
     "output_type": "execute_result"
    }
   ],
   "source": [
    "按城市经理抽(城市经理='蔡欢')"
   ]
  },
  {
   "cell_type": "code",
   "execution_count": 30,
   "metadata": {},
   "outputs": [
    {
     "data": {
      "text/html": [
       "<div>\n",
       "<style scoped>\n",
       "    .dataframe tbody tr th:only-of-type {\n",
       "        vertical-align: middle;\n",
       "    }\n",
       "\n",
       "    .dataframe tbody tr th {\n",
       "        vertical-align: top;\n",
       "    }\n",
       "\n",
       "    .dataframe thead th {\n",
       "        text-align: right;\n",
       "    }\n",
       "</style>\n",
       "<table border=\"1\" class=\"dataframe\">\n",
       "  <thead>\n",
       "    <tr style=\"text-align: right;\">\n",
       "      <th></th>\n",
       "      <th>区域</th>\n",
       "      <th>区总/省营运经理</th>\n",
       "      <th>城市经理</th>\n",
       "      <th>督导</th>\n",
       "      <th>门店名称</th>\n",
       "      <th>店长</th>\n",
       "    </tr>\n",
       "  </thead>\n",
       "  <tbody>\n",
       "    <tr>\n",
       "      <td>37</td>\n",
       "      <td>上海</td>\n",
       "      <td>杨和勇（区总）</td>\n",
       "      <td>蔡欢</td>\n",
       "      <td>刘立福</td>\n",
       "      <td>川沙</td>\n",
       "      <td>王正容</td>\n",
       "    </tr>\n",
       "  </tbody>\n",
       "</table>\n",
       "</div>"
      ],
      "text/plain": [
       "    区域 区总/省营运经理 城市经理   督导 门店名称   店长\n",
       "37  上海  杨和勇（区总）   蔡欢  刘立福   川沙  王正容"
      ]
     },
     "execution_count": 30,
     "metadata": {},
     "output_type": "execute_result"
    }
   ],
   "source": [
    "按督导抽(督导='刘立福')"
   ]
  },
  {
   "cell_type": "code",
   "execution_count": 31,
   "metadata": {},
   "outputs": [
    {
     "data": {
      "text/plain": [
       "1888     山东\n",
       "2791     安徽\n",
       "2549     河南\n",
       "1391     汕头\n",
       "3053     沈阳\n",
       "3624    宁台区\n",
       "3501    金丽衢\n",
       "1327    北京区\n",
       "3396     嘉湖\n",
       "1341     山西\n",
       "349      贵州\n",
       "1069     保定\n",
       "551      江苏\n",
       "2649    黑龙江\n",
       "0        上海\n",
       "1579     广西\n",
       "1063     陕西\n",
       "1235     云南\n",
       "1811     天津\n",
       "1132     泉州\n",
       "114      福州\n",
       "2699     重庆\n",
       "3203     四川\n",
       "Name: 区域, dtype: object"
      ]
     },
     "execution_count": 31,
     "metadata": {},
     "output_type": "execute_result"
    }
   ],
   "source": [
    "选个区域()"
   ]
  },
  {
   "cell_type": "code",
   "execution_count": 34,
   "metadata": {},
   "outputs": [
    {
     "data": {
      "text/plain": [
       "322    林贵飞\n",
       "114     王强\n",
       "215    林桂登\n",
       "Name: 城市经理, dtype: object"
      ]
     },
     "execution_count": 34,
     "metadata": {},
     "output_type": "execute_result"
    }
   ],
   "source": [
    "选个城市经理(区域='福州')"
   ]
  },
  {
   "cell_type": "code",
   "execution_count": 36,
   "metadata": {},
   "outputs": [
    {
     "data": {
      "text/plain": [
       "3    刘广富\n",
       "0    刘立福\n",
       "1    叶晨生\n",
       "2    陈婷婷\n",
       "Name: 督导, dtype: object"
      ]
     },
     "execution_count": 36,
     "metadata": {},
     "output_type": "execute_result"
    }
   ],
   "source": [
    "选个督导(城市经理='蔡欢')"
   ]
  },
  {
   "cell_type": "code",
   "execution_count": null,
   "metadata": {},
   "outputs": [],
   "source": []
  },
  {
   "cell_type": "code",
   "execution_count": null,
   "metadata": {},
   "outputs": [],
   "source": []
  }
 ],
 "metadata": {
  "kernelspec": {
   "display_name": "Python 3",
   "language": "python",
   "name": "python3"
  },
  "language_info": {
   "codemirror_mode": {
    "name": "ipython",
    "version": 3
   },
   "file_extension": ".py",
   "mimetype": "text/x-python",
   "name": "python",
   "nbconvert_exporter": "python",
   "pygments_lexer": "ipython3",
   "version": "3.7.5"
  }
 },
 "nbformat": 4,
 "nbformat_minor": 2
}

{
 "cells": [
  {
   "cell_type": "markdown",
   "metadata": {},
   "source": [
    "# 什么是PyTorch？\n",
    "它是一个基于Python的科学计算软件包。主要针对两类受众：\n",
    "\n",
    "- 使用GPU运算来取代Numpy\n",
    "- 提供最大灵活性和速度的深度学习研究平台\n",
    "\n",
    "## 入门\n",
    "张量（Tensors）\n",
    "张量和Numpy的ndarray类似。不同的是张量可以在GPU上运行以加速运算。\n",
    "\n",
    "使用张量构造一个未初始化的5*3的矩阵："
   ]
  },
  {
   "cell_type": "code",
   "execution_count": 1,
   "metadata": {},
   "outputs": [
    {
     "name": "stdout",
     "output_type": "stream",
     "text": [
      "tensor([[0., 0., 0.],\n",
      "        [0., 0., 0.],\n",
      "        [0., 0., 0.],\n",
      "        [0., 0., 0.],\n",
      "        [0., 0., 0.]])\n",
      "tensor([[0, 0, 0],\n",
      "        [0, 0, 0],\n",
      "        [0, 0, 0],\n",
      "        [0, 0, 0],\n",
      "        [0, 0, 0]])\n",
      "tensor([[0.0599, 0.8416, 0.9479],\n",
      "        [0.7640, 0.9935, 0.1902],\n",
      "        [0.3242, 0.0427, 0.5336],\n",
      "        [0.0855, 0.5966, 0.5868],\n",
      "        [0.0868, 0.8864, 0.5139]])\n"
     ]
    }
   ],
   "source": [
    "import torch\n",
    "x=torch.empty(5,3) # 使用张量构造一个未初始化的5*3的矩阵\n",
    "y=torch.zeros(5,3,dtype=torch.long) # 构造一个dtype为long的全0矩阵\n",
    "z=torch.rand(5,3) # 构造一个随机数据的矩阵\n",
    "print(x)\n",
    "print(y)\n",
    "print(z)"
   ]
  },
  {
   "cell_type": "markdown",
   "metadata": {},
   "source": [
    "## 运算（Operations)\n",
    "运算有很多种语法。接下来的例子我们看下加法运算。"
   ]
  },
  {
   "cell_type": "code",
   "execution_count": 2,
   "metadata": {},
   "outputs": [
    {
     "name": "stdout",
     "output_type": "stream",
     "text": [
      "tensor([[0., 0., 0.],\n",
      "        [0., 0., 0.],\n",
      "        [0., 0., 0.],\n",
      "        [0., 0., 0.],\n",
      "        [0., 0., 0.]])\n",
      "tensor([[0., 0., 0.],\n",
      "        [0., 0., 0.],\n",
      "        [0., 0., 0.],\n",
      "        [0., 0., 0.],\n",
      "        [0., 0., 0.]])\n"
     ]
    }
   ],
   "source": [
    "print(x+y) # 语法1\n",
    "print(torch.add(x,y)) # 语法2\n"
   ]
  },
  {
   "cell_type": "code",
   "execution_count": null,
   "metadata": {},
   "outputs": [],
   "source": []
  }
 ],
 "metadata": {
  "kernelspec": {
   "display_name": "Python 3",
   "language": "python",
   "name": "python3"
  },
  "language_info": {
   "codemirror_mode": {
    "name": "ipython",
    "version": 3
   },
   "file_extension": ".py",
   "mimetype": "text/x-python",
   "name": "python",
   "nbconvert_exporter": "python",
   "pygments_lexer": "ipython3",
   "version": "3.7.4"
  }
 },
 "nbformat": 4,
 "nbformat_minor": 2
}

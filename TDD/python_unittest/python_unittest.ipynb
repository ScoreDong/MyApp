{
 "cells": [
  {
   "cell_type": "markdown",
   "metadata": {},
   "source": [
    "# 用python_unittest做单元测试\n",
    "\n",
    "如果你听说过“测试驱动开发”（TDD：Test-Driven Development），单元测试就不陌生。\n",
    "\n",
    "单元测试是用来对一个模块、一个函数或者一个类来进行正确性检验的测试工作。\n",
    "\n",
    "1.比如对取绝对值函数`abs()`，我们可以编写出以下几个测试用例：\n",
    "\n",
    "2.输入正数，比如`1`、`1.2`、`0.99`，期待返回值与输入相同；\n",
    "\n",
    "3.输入负数，比如`-1`、`-1.2`、`-0.99`，期待返回值与输入相反；\n",
    "\n",
    "4.输入`0`，期待返回`0`；\n",
    "\n",
    "5.输入非数值类型，比如`None`、`[]`、`{}`，期待抛出`TypeError`。\n",
    "\n",
    "把上面的测试用例放到一个测试模块里，就是一个完整的单元测试。\n",
    "\n",
    "\n",
    "-    整体结构：`unittest`库提供了`test cases`, `test suites`, `test fixtures`，`test runner`：\n",
    "-    test case ：通过继承TestCase类，我们可以创建一个test，或者一组tests\n",
    "-    test suites ： 测试套件\n",
    "-    test fixtures ： setup + test case + teardown结构\n",
    "-    test runner"
   ]
  },
  {
   "cell_type": "code",
   "execution_count": null,
   "metadata": {},
   "outputs": [],
   "source": [
    "import unittest\n",
    "\n",
    "class TestStringMethods(unittest.TestCase):\n",
    "    def setUp(self): # 在测试之前运行，比如链接数据库等代码可以放在这里。\n",
    "        self.s = 'setUp(self)'\n",
    "        \n",
    "    def tearDown(self): # 在测试之后运行，比如清理的代码可以在这里。\n",
    "        self.s = ''\n",
    "        \n",
    "    def test_upper(self): # 正常测试代码\n",
    "        self.assertEqual('foo'.upper(), 'FOO')\n",
    "        \n",
    "    @unittest.skip(\"demonstrating skipping\") # 这个测试会被跳过\n",
    "    def test_isupper(self):\n",
    "        self.assertTrue('FOO'.isupper())\n",
    "        self.assertFalse('Foo'.isupper())\n",
    "        \n",
    "    def test_split(self):\n",
    "        s = 'hello world'\n",
    "        self.assertEqual(s.split(), ['hello', 'world'])\n",
    "        # check that s.split fails when the separator is not a string\n",
    "        with self.assertRaises(TypeError): # 测试跳出异常代码\n",
    "            s.split(2)\n",
    "\n",
    "if __name__ == '__main__':\n",
    "    unittest.main()"
   ]
  }
 ],
 "metadata": {
  "kernelspec": {
   "display_name": "Python 3",
   "language": "python",
   "name": "python3"
  },
  "language_info": {
   "codemirror_mode": {
    "name": "ipython",
    "version": 3
   },
   "file_extension": ".py",
   "mimetype": "text/x-python",
   "name": "python",
   "nbconvert_exporter": "python",
   "pygments_lexer": "ipython3",
   "version": "3.6.3"
  }
 },
 "nbformat": 4,
 "nbformat_minor": 2
}
